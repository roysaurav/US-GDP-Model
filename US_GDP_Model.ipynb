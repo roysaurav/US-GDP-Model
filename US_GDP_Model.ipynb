{
  "nbformat": 4,
  "nbformat_minor": 0,
  "metadata": {
    "colab": {
      "name": "US GDP Model.ipynb",
      "provenance": [],
      "toc_visible": true,
      "authorship_tag": "ABX9TyPTwvma9wVrfD2vdNwzpYT9",
      "include_colab_link": true
    },
    "kernelspec": {
      "name": "python3",
      "display_name": "Python 3"
    }
  },
  "cells": [
    {
      "cell_type": "markdown",
      "metadata": {
        "id": "view-in-github",
        "colab_type": "text"
      },
      "source": [
        "<a href=\"https://colab.research.google.com/github/roysaurav/US-GDP-Model/blob/main/US_GDP_Model.ipynb\" target=\"_parent\"><img src=\"https://colab.research.google.com/assets/colab-badge.svg\" alt=\"Open In Colab\"/></a>"
      ]
    },
    {
      "cell_type": "markdown",
      "metadata": {
        "id": "Y6aw56imMDSC"
      },
      "source": [
        "\n",
        "\n",
        "# **Setup**\n",
        "\n",
        "\n"
      ]
    },
    {
      "cell_type": "code",
      "metadata": {
        "colab": {
          "base_uri": "https://localhost:8080/"
        },
        "id": "sY6pNvF-zKZW",
        "outputId": "2fbcd26e-f49c-4008-e545-eb23b0b06170"
      },
      "source": [
        "!pip install plotly==4.8"
      ],
      "execution_count": null,
      "outputs": [
        {
          "output_type": "stream",
          "text": [
            "Collecting plotly==4.8\n",
            "\u001b[?25l  Downloading https://files.pythonhosted.org/packages/4e/ea/da824c4b016629ea21c667bcc7999359d08e4bc5a06aeee31c61a3785573/plotly-4.8.0-py2.py3-none-any.whl (11.5MB)\n",
            "\u001b[K     |████████████████████████████████| 11.5MB 266kB/s \n",
            "\u001b[?25hRequirement already satisfied: six in /usr/local/lib/python3.7/dist-packages (from plotly==4.8) (1.15.0)\n",
            "Requirement already satisfied: retrying>=1.3.3 in /usr/local/lib/python3.7/dist-packages (from plotly==4.8) (1.3.3)\n",
            "Installing collected packages: plotly\n",
            "  Found existing installation: plotly 4.4.1\n",
            "    Uninstalling plotly-4.4.1:\n",
            "      Successfully uninstalled plotly-4.4.1\n",
            "Successfully installed plotly-4.8.0\n"
          ],
          "name": "stdout"
        }
      ]
    },
    {
      "cell_type": "code",
      "metadata": {
        "id": "d3vYtg4sR-oK"
      },
      "source": [
        "Forward_Looking_Months = 1 #@param {type:\"integer\"}\n",
        "# Change training end date for out of sample test\n",
        "model_training_start_date = '2015-01-01' #@param {type:\"date\"}\n",
        "model_training_end_date = '2020-12-31' #@param {type:\"date\"}\n",
        "model_testing_start_date = '2020-01-01' #@param {type:\"date\"}\n",
        "model_testing_end_date = '2020-12-31' #@param {type:\"date\"}"
      ],
      "execution_count": null,
      "outputs": []
    },
    {
      "cell_type": "code",
      "metadata": {
        "colab": {
          "base_uri": "https://localhost:8080/",
          "height": 37
        },
        "id": "yvgcXZXfM5sD",
        "outputId": "74ecde07-9ff8-46ff-fe44-82b57fae5888"
      },
      "source": [
        "'''\n",
        "from google.colab import drive\n",
        "drive.mount(\"/content/drive\")\n",
        "'''"
      ],
      "execution_count": null,
      "outputs": [
        {
          "output_type": "execute_result",
          "data": {
            "application/vnd.google.colaboratory.intrinsic+json": {
              "type": "string"
            },
            "text/plain": [
              "'\\nfrom google.colab import drive\\ndrive.mount(\"/content/drive\")\\n'"
            ]
          },
          "metadata": {
            "tags": []
          },
          "execution_count": 3
        }
      ]
    },
    {
      "cell_type": "code",
      "metadata": {
        "id": "QrRsRbh7M_x9",
        "colab": {
          "base_uri": "https://localhost:8080/"
        },
        "outputId": "92af3f34-eee4-49a8-f3a9-bacc140c9026"
      },
      "source": [
        "import pandas as pd\n",
        "import seaborn as sns\n",
        "import statsmodels.api as sm\n",
        "import plotly.express as px\n",
        "from sklearn.metrics import mean_squared_error, r2_score"
      ],
      "execution_count": null,
      "outputs": [
        {
          "output_type": "stream",
          "text": [
            "/usr/local/lib/python3.7/dist-packages/statsmodels/tools/_testing.py:19: FutureWarning: pandas.util.testing is deprecated. Use the functions in the public API at pandas.testing instead.\n",
            "  import pandas.util.testing as tm\n"
          ],
          "name": "stderr"
        }
      ]
    },
    {
      "cell_type": "code",
      "metadata": {
        "colab": {
          "base_uri": "https://localhost:8080/",
          "height": 408
        },
        "id": "BOqVBuEeNGHk",
        "outputId": "5ef1266b-0d02-4ce0-b8d2-ed5538b70c28"
      },
      "source": [
        "#@title Data Prep\n",
        "dep_var = \"US Nominal GDP\"\t\n",
        "path = \"/content/drive/MyDrive/CI Global/Project.xlsx\"\n",
        "path  = \"https://drive.google.com/uc?export=download&id=16hS_2LyULBmsjLd8cCLkRJ-2WJA1U082\"\n",
        "df = pd.read_excel(path, sheet_name=\"US GDP Data\", skiprows=1).set_index(\"Date\").sort_index().dropna()\n",
        "df[dep_var] = df[dep_var].shift(-Forward_Looking_Months)\n",
        "df.head()"
      ],
      "execution_count": null,
      "outputs": [
        {
          "output_type": "execute_result",
          "data": {
            "text/html": [
              "<div>\n",
              "<style scoped>\n",
              "    .dataframe tbody tr th:only-of-type {\n",
              "        vertical-align: middle;\n",
              "    }\n",
              "\n",
              "    .dataframe tbody tr th {\n",
              "        vertical-align: top;\n",
              "    }\n",
              "\n",
              "    .dataframe thead th {\n",
              "        text-align: right;\n",
              "    }\n",
              "</style>\n",
              "<table border=\"1\" class=\"dataframe\">\n",
              "  <thead>\n",
              "    <tr style=\"text-align: right;\">\n",
              "      <th></th>\n",
              "      <th>US Nominal GDP</th>\n",
              "      <th>US Real GDP</th>\n",
              "      <th>Composite Index of Leading Indicators</th>\n",
              "      <th>Conference Board US Leading</th>\n",
              "      <th>PMI Output</th>\n",
              "      <th>PMI New Orders</th>\n",
              "      <th>US Manufacturing PMI stocks</th>\n",
              "      <th>US Service PMI Business activity</th>\n",
              "      <th>US Composite PMI</th>\n",
              "      <th>disposable income as % of saving</th>\n",
              "      <th>US Retail Sales</th>\n",
              "      <th>average hourly earning</th>\n",
              "      <th>Consumer Price Index (CPI)</th>\n",
              "      <th>OECD Employment</th>\n",
              "      <th>US Unemployment Rate</th>\n",
              "      <th>US Employees on Nonfarm Payrolls</th>\n",
              "      <th>US Initial Jobless Claims SA</th>\n",
              "      <th>New Privately Owned Housing Units</th>\n",
              "      <th>US Real GDP Quantity Residenti</th>\n",
              "    </tr>\n",
              "    <tr>\n",
              "      <th>Date</th>\n",
              "      <th></th>\n",
              "      <th></th>\n",
              "      <th></th>\n",
              "      <th></th>\n",
              "      <th></th>\n",
              "      <th></th>\n",
              "      <th></th>\n",
              "      <th></th>\n",
              "      <th></th>\n",
              "      <th></th>\n",
              "      <th></th>\n",
              "      <th></th>\n",
              "      <th></th>\n",
              "      <th></th>\n",
              "      <th></th>\n",
              "      <th></th>\n",
              "      <th></th>\n",
              "      <th></th>\n",
              "      <th></th>\n",
              "    </tr>\n",
              "  </thead>\n",
              "  <tbody>\n",
              "    <tr>\n",
              "      <th>2009-10-30</th>\n",
              "      <td>-2.8</td>\n",
              "      <td>-0.3</td>\n",
              "      <td>98.0037</td>\n",
              "      <td>-6.5</td>\n",
              "      <td>57.8</td>\n",
              "      <td>54.1</td>\n",
              "      <td>45.7</td>\n",
              "      <td>54.7</td>\n",
              "      <td>55.2</td>\n",
              "      <td>5.4</td>\n",
              "      <td>-3.2</td>\n",
              "      <td>2.5</td>\n",
              "      <td>-3.0</td>\n",
              "      <td>79.08</td>\n",
              "      <td>9.63</td>\n",
              "      <td>-199</td>\n",
              "      <td>522</td>\n",
              "      <td>534</td>\n",
              "      <td>92.143</td>\n",
              "    </tr>\n",
              "    <tr>\n",
              "      <th>2009-11-30</th>\n",
              "      <td>0.5</td>\n",
              "      <td>-0.3</td>\n",
              "      <td>98.4397</td>\n",
              "      <td>-2.8</td>\n",
              "      <td>58.5</td>\n",
              "      <td>59.1</td>\n",
              "      <td>47.7</td>\n",
              "      <td>55.4</td>\n",
              "      <td>55.9</td>\n",
              "      <td>5.9</td>\n",
              "      <td>1.5</td>\n",
              "      <td>2.2</td>\n",
              "      <td>-2.0</td>\n",
              "      <td>79.08</td>\n",
              "      <td>9.63</td>\n",
              "      <td>12</td>\n",
              "      <td>475</td>\n",
              "      <td>588</td>\n",
              "      <td>92.143</td>\n",
              "    </tr>\n",
              "    <tr>\n",
              "      <th>2009-12-31</th>\n",
              "      <td>0.5</td>\n",
              "      <td>-2.8</td>\n",
              "      <td>98.8393</td>\n",
              "      <td>1.3</td>\n",
              "      <td>58.3</td>\n",
              "      <td>58.4</td>\n",
              "      <td>45.5</td>\n",
              "      <td>57.5</td>\n",
              "      <td>57.7</td>\n",
              "      <td>5.9</td>\n",
              "      <td>4.2</td>\n",
              "      <td>1.9</td>\n",
              "      <td>-0.3</td>\n",
              "      <td>75.77</td>\n",
              "      <td>9.93</td>\n",
              "      <td>-269</td>\n",
              "      <td>468</td>\n",
              "      <td>581</td>\n",
              "      <td>91.952</td>\n",
              "    </tr>\n",
              "    <tr>\n",
              "      <th>2010-01-29</th>\n",
              "      <td>0.5</td>\n",
              "      <td>-2.8</td>\n",
              "      <td>99.1850</td>\n",
              "      <td>3.9</td>\n",
              "      <td>57.2</td>\n",
              "      <td>58.0</td>\n",
              "      <td>48.4</td>\n",
              "      <td>57.5</td>\n",
              "      <td>57.5</td>\n",
              "      <td>6.1</td>\n",
              "      <td>2.7</td>\n",
              "      <td>2.0</td>\n",
              "      <td>1.5</td>\n",
              "      <td>75.77</td>\n",
              "      <td>9.93</td>\n",
              "      <td>2</td>\n",
              "      <td>496</td>\n",
              "      <td>614</td>\n",
              "      <td>91.952</td>\n",
              "    </tr>\n",
              "    <tr>\n",
              "      <th>2010-02-26</th>\n",
              "      <td>2.3</td>\n",
              "      <td>-2.8</td>\n",
              "      <td>99.4448</td>\n",
              "      <td>5.4</td>\n",
              "      <td>57.9</td>\n",
              "      <td>57.5</td>\n",
              "      <td>50.3</td>\n",
              "      <td>59.1</td>\n",
              "      <td>58.9</td>\n",
              "      <td>5.8</td>\n",
              "      <td>3.3</td>\n",
              "      <td>2.1</td>\n",
              "      <td>2.4</td>\n",
              "      <td>75.77</td>\n",
              "      <td>9.93</td>\n",
              "      <td>-92</td>\n",
              "      <td>488</td>\n",
              "      <td>604</td>\n",
              "      <td>91.952</td>\n",
              "    </tr>\n",
              "  </tbody>\n",
              "</table>\n",
              "</div>"
            ],
            "text/plain": [
              "            US Nominal GDP  ...  US Real GDP Quantity Residenti\n",
              "Date                        ...                                \n",
              "2009-10-30            -2.8  ...                          92.143\n",
              "2009-11-30             0.5  ...                          92.143\n",
              "2009-12-31             0.5  ...                          91.952\n",
              "2010-01-29             0.5  ...                          91.952\n",
              "2010-02-26             2.3  ...                          91.952\n",
              "\n",
              "[5 rows x 19 columns]"
            ]
          },
          "metadata": {
            "tags": []
          },
          "execution_count": 5
        }
      ]
    },
    {
      "cell_type": "code",
      "metadata": {
        "id": "gz0bxVXWStw5"
      },
      "source": [
        "vars = list(df.columns)\n",
        "vars.remove(dep_var)"
      ],
      "execution_count": null,
      "outputs": []
    },
    {
      "cell_type": "markdown",
      "metadata": {
        "id": "Zz3vEnin8TlQ"
      },
      "source": [
        "# **Correlation**\n"
      ]
    },
    {
      "cell_type": "code",
      "metadata": {
        "colab": {
          "base_uri": "https://localhost:8080/",
          "height": 717
        },
        "id": "XUeGqQn1NUQj",
        "outputId": "fc541b38-dba3-4da2-d9c8-ebb35cecd469"
      },
      "source": [
        "#@title Full Series Correlations\n",
        "\n",
        "corr_ = df.loc[model_training_start_date:].corr()\n",
        "fig = px.imshow(corr_, x= df.columns, y=df.columns, color_continuous_scale=\"RdYlGn\", width=700, height=700)\n",
        "fig.show()\n",
        "#sns.heatmap(corr_)"
      ],
      "execution_count": null,
      "outputs": [
        {
          "output_type": "display_data",
          "data": {
            "text/html": [
              "<html>\n",
              "<head><meta charset=\"utf-8\" /></head>\n",
              "<body>\n",
              "    <div>\n",
              "            <script src=\"https://cdnjs.cloudflare.com/ajax/libs/mathjax/2.7.5/MathJax.js?config=TeX-AMS-MML_SVG\"></script><script type=\"text/javascript\">if (window.MathJax) {MathJax.Hub.Config({SVG: {font: \"STIX-Web\"}});}</script>\n",
              "                <script type=\"text/javascript\">window.PlotlyConfig = {MathJaxConfig: 'local'};</script>\n",
              "        <script src=\"https://cdn.plot.ly/plotly-latest.min.js\"></script>    \n",
              "            <div id=\"bd33d106-4b86-4750-90af-63470e4100a4\" class=\"plotly-graph-div\" style=\"height:700px; width:700px;\"></div>\n",
              "            <script type=\"text/javascript\">\n",
              "                \n",
              "                    window.PLOTLYENV=window.PLOTLYENV || {};\n",
              "                    \n",
              "                if (document.getElementById(\"bd33d106-4b86-4750-90af-63470e4100a4\")) {\n",
              "                    Plotly.newPlot(\n",
              "                        'bd33d106-4b86-4750-90af-63470e4100a4',\n",
              "                        [{\"coloraxis\": \"coloraxis\", \"hovertemplate\": \"x: %{x}<br>y: %{y}<br>color: %{z}<extra></extra>\", \"type\": \"heatmap\", \"x\": [\"US Nominal GDP\", \"US Real GDP\", \"Composite Index of Leading Indicators\", \"Conference Board US Leading\", \"PMI Output\", \"PMI New Orders\", \"US Manufacturing PMI stocks\", \"US Service PMI Business activity\", \"US Composite PMI\", \"disposable income as % of saving\", \"US Retail Sales\", \"average hourly earning\", \"Consumer Price Index (CPI)\", \"OECD Employment\", \"US Unemployment Rate\", \"US Employees on Nonfarm Payrolls\", \"US Initial Jobless Claims SA\", \"New Privately Owned Housing Units \", \"US Real GDP Quantity Residenti\"], \"y\": [\"US Nominal GDP\", \"US Real GDP\", \"Composite Index of Leading Indicators\", \"Conference Board US Leading\", \"PMI Output\", \"PMI New Orders\", \"US Manufacturing PMI stocks\", \"US Service PMI Business activity\", \"US Composite PMI\", \"disposable income as % of saving\", \"US Retail Sales\", \"average hourly earning\", \"Consumer Price Index (CPI)\", \"OECD Employment\", \"US Unemployment Rate\", \"US Employees on Nonfarm Payrolls\", \"US Initial Jobless Claims SA\", \"New Privately Owned Housing Units \", \"US Real GDP Quantity Residenti\"], \"z\": [[1.0, 0.00986380290181349, 0.7583535012510922, 0.7832205262937967, 0.5361877463845097, 0.5058582961822599, 0.611709299602001, 0.492817653367014, 0.5037476583657104, -0.6462720213074478, 0.32636029952825063, -0.5865934594223141, -0.3385176447502758, -0.3040744925386615, -0.6888309709711518, -0.16287833164713159, -0.3432035771270853, -0.09130905509654426, 0.04812465017270452], [0.00986380290181349, 1.0, -0.0826887710979427, -0.07705477379617408, -0.04302486268513954, -0.05956197764403101, -0.06838355604770448, -0.03779312846752076, -0.0381089357869173, -0.1616833286859877, -0.10086656442266068, -0.049244905353874366, -0.38719397836595587, -0.09259397686486562, -0.10957669158584597, 0.03716309810859311, -0.12994299551839866, -0.13436021074850027, -0.296892708748036], [0.7583535012510922, -0.0826887710979427, 1.0, 0.9666548378208285, 0.8855435073395204, 0.8743421074735689, 0.8401894981459295, 0.8508201857861298, 0.8647575596956267, -0.8766934067639891, 0.7592490947816385, -0.8568832237629745, -0.46851196356224883, -0.4214202277718321, -0.3519875208177294, 0.4271205552246999, -0.6017775284152337, 0.05496795140271273, -0.16623090011818273], [0.7832205262937967, -0.07705477379617408, 0.9666548378208285, 1.0, 0.8020043978562634, 0.793563597277074, 0.7422838423525053, 0.8043108886861945, 0.8118183598977328, -0.807072929690513, 0.6757418172047976, -0.7930245117749628, -0.3379135708902, -0.45531812082454515, -0.4181508701810284, 0.3298299368725477, -0.6614707969091105, -0.06704269742672563, -0.165341895373595], [0.5361877463845097, -0.04302486268513954, 0.8855435073395204, 0.8020043978562634, 1.0, 0.9741994295467338, 0.8437740200525344, 0.9175202565434843, 0.9414164777254816, -0.8205189675830261, 0.8144917582681918, -0.8128795218681765, -0.4917827793489873, -0.42353089892210044, -0.0054964608506715305, 0.5641796523788186, -0.6047951439531568, 0.14127155390898447, -0.3238807404361891], [0.5058582961822599, -0.05956197764403101, 0.8743421074735689, 0.793563597277074, 0.9741994295467338, 1.0, 0.8379089611646231, 0.9128742543173085, 0.9330859372676192, -0.8070459707593208, 0.8449335106733601, -0.7766368491032695, -0.49021936184182696, -0.37222441750258134, 0.02047354402236177, 0.5974213352108899, -0.6201050560116966, 0.18709678121714896, -0.2570628685248151], [0.611709299602001, -0.06838355604770448, 0.8401894981459295, 0.7422838423525053, 0.8437740200525344, 0.8379089611646231, 1.0, 0.819388242534224, 0.8316279105142785, -0.8202844142463558, 0.7524510215384499, -0.7976216648814219, -0.5568802158358143, -0.35142170535975426, -0.10009076956007155, 0.40380083448183957, -0.5049630122103228, 0.16165141355656318, -0.20015008299539114], [0.492817653367014, -0.03779312846752076, 0.8508201857861298, 0.8043108886861945, 0.9175202565434843, 0.9128742543173085, 0.819388242534224, 1.0, 0.9978433825272324, -0.7887361977363609, 0.8413167300504178, -0.7648214375269836, -0.43005672801561995, -0.4329798676834051, 0.027688534317323075, 0.6139935484104011, -0.7278446204163898, 0.07832947062595601, -0.3635934782699323], [0.5037476583657104, -0.0381089357869173, 0.8647575596956267, 0.8118183598977328, 0.9414164777254816, 0.9330859372676192, 0.8316279105142785, 0.9978433825272324, 1.0, -0.8021452055874446, 0.8465889159573862, -0.7801271338367328, -0.44472773676212285, -0.435375158205535, 0.023887429459793507, 0.6142460169725669, -0.7163114745529038, 0.0890456526415652, -0.3620466028466137], [-0.6462720213074478, -0.1616833286859877, -0.8766934067639891, -0.807072929690513, -0.8205189675830261, -0.8070459707593208, -0.8202844142463558, -0.7887361977363609, -0.8021452055874446, 1.0, -0.778178177766055, 0.9190159592770667, 0.806102467748605, 0.46381386656898455, 0.37132537481377326, -0.5335772983670871, 0.6292088474455413, -0.12235467545683397, 0.21135914128520905], [0.32636029952825063, -0.10086656442266068, 0.7592490947816385, 0.6757418172047976, 0.8144917582681918, 0.8449335106733601, 0.7524510215384499, 0.8413167300504178, 0.8465889159573862, -0.778178177766055, 1.0, -0.6671739285181016, -0.5076435435687126, -0.14918157309062696, 0.03055351742713106, 0.7636622787346887, -0.7062708799190637, 0.408620031794291, -0.08042211824266746], [-0.5865934594223141, -0.049244905353874366, -0.8568832237629745, -0.7930245117749628, -0.8128795218681765, -0.7766368491032695, -0.7976216648814219, -0.7648214375269836, -0.7801271338367328, 0.9190159592770667, -0.6671739285181016, 1.0, 0.6874556415695534, 0.6897741648032442, 0.25538837727209274, -0.473392487205389, 0.5293320904224869, 0.050044578305527276, 0.40499767502431333], [-0.3385176447502758, -0.38719397836595587, -0.46851196356224883, -0.3379135708902, -0.4917827793489873, -0.49021936184182696, -0.5568802158358143, -0.43005672801561995, -0.44472773676212285, 0.806102467748605, -0.5076435435687126, 0.6874556415695534, 1.0, 0.30606069308515294, 0.2794127879596144, -0.47469520801654363, 0.2786309868960176, -0.20406001166496923, 0.11600178439107466], [-0.3040744925386615, -0.09259397686486562, -0.4214202277718321, -0.45531812082454515, -0.42353089892210044, -0.37222441750258134, -0.35142170535975426, -0.4329798676834051, -0.435375158205535, 0.46381386656898455, -0.14918157309062696, 0.6897741648032442, 0.30606069308515294, 1.0, 0.05880957220402641, -0.10279028384066739, 0.3391227249470092, 0.5587852720987966, 0.6328623180474987], [-0.6888309709711518, -0.10957669158584597, -0.3519875208177294, -0.4181508701810284, -0.0054964608506715305, 0.02047354402236177, -0.10009076956007155, 0.027688534317323075, 0.023887429459793507, 0.37132537481377326, 0.03055351742713106, 0.25538837727209274, 0.2794127879596144, 0.05880957220402641, 1.0, 0.24725456263916534, 0.1068942318212144, 0.11318184407600333, -0.355209882991162], [-0.16287833164713159, 0.03716309810859311, 0.4271205552246999, 0.3298299368725477, 0.5641796523788186, 0.5974213352108899, 0.40380083448183957, 0.6139935484104011, 0.6142460169725669, -0.5335772983670871, 0.7636622787346887, -0.473392487205389, -0.47469520801654363, -0.10279028384066739, 0.24725456263916534, 1.0, -0.43639244171242614, 0.2725959448391525, -0.20867314374992055], [-0.3432035771270853, -0.12994299551839866, -0.6017775284152337, -0.6614707969091105, -0.6047951439531568, -0.6201050560116966, -0.5049630122103228, -0.7278446204163898, -0.7163114745529038, 0.6292088474455413, -0.7062708799190637, 0.5293320904224869, 0.2786309868960176, 0.3391227249470092, 0.1068942318212144, -0.43639244171242614, 1.0, -0.07760635277332889, 0.2536204699330455], [-0.09130905509654426, -0.13436021074850027, 0.05496795140271273, -0.06704269742672563, 0.14127155390898447, 0.18709678121714896, 0.16165141355656318, 0.07832947062595601, 0.0890456526415652, -0.12235467545683397, 0.408620031794291, 0.050044578305527276, -0.20406001166496923, 0.5587852720987966, 0.11318184407600333, 0.2725959448391525, -0.07760635277332889, 1.0, 0.35590215338362036], [0.04812465017270452, -0.296892708748036, -0.16623090011818273, -0.165341895373595, -0.3238807404361891, -0.2570628685248151, -0.20015008299539114, -0.3635934782699323, -0.3620466028466137, 0.21135914128520905, -0.08042211824266746, 0.40499767502431333, 0.11600178439107466, 0.6328623180474987, -0.355209882991162, -0.20867314374992055, 0.2536204699330455, 0.35590215338362036, 1.0]]}],\n",
              "                        {\"coloraxis\": {\"colorscale\": [[0.0, \"rgb(165,0,38)\"], [0.1, \"rgb(215,48,39)\"], [0.2, \"rgb(244,109,67)\"], [0.3, \"rgb(253,174,97)\"], [0.4, \"rgb(254,224,139)\"], [0.5, \"rgb(255,255,191)\"], [0.6, \"rgb(217,239,139)\"], [0.7, \"rgb(166,217,106)\"], [0.8, \"rgb(102,189,99)\"], [0.9, \"rgb(26,152,80)\"], [1.0, \"rgb(0,104,55)\"]]}, \"height\": 700, \"margin\": {\"t\": 60}, \"template\": {\"data\": {\"bar\": [{\"error_x\": {\"color\": \"#2a3f5f\"}, \"error_y\": {\"color\": \"#2a3f5f\"}, \"marker\": {\"line\": {\"color\": \"#E5ECF6\", \"width\": 0.5}}, \"type\": \"bar\"}], \"barpolar\": [{\"marker\": {\"line\": {\"color\": \"#E5ECF6\", \"width\": 0.5}}, \"type\": \"barpolar\"}], \"carpet\": [{\"aaxis\": {\"endlinecolor\": \"#2a3f5f\", \"gridcolor\": \"white\", \"linecolor\": \"white\", \"minorgridcolor\": \"white\", \"startlinecolor\": \"#2a3f5f\"}, \"baxis\": {\"endlinecolor\": \"#2a3f5f\", \"gridcolor\": \"white\", \"linecolor\": \"white\", \"minorgridcolor\": \"white\", \"startlinecolor\": \"#2a3f5f\"}, \"type\": \"carpet\"}], \"choropleth\": [{\"colorbar\": {\"outlinewidth\": 0, \"ticks\": \"\"}, \"type\": \"choropleth\"}], \"contour\": [{\"colorbar\": {\"outlinewidth\": 0, \"ticks\": \"\"}, \"colorscale\": [[0.0, \"#0d0887\"], [0.1111111111111111, \"#46039f\"], [0.2222222222222222, \"#7201a8\"], [0.3333333333333333, \"#9c179e\"], [0.4444444444444444, \"#bd3786\"], [0.5555555555555556, \"#d8576b\"], [0.6666666666666666, \"#ed7953\"], [0.7777777777777778, \"#fb9f3a\"], [0.8888888888888888, \"#fdca26\"], [1.0, \"#f0f921\"]], \"type\": \"contour\"}], \"contourcarpet\": [{\"colorbar\": {\"outlinewidth\": 0, \"ticks\": \"\"}, \"type\": \"contourcarpet\"}], \"heatmap\": [{\"colorbar\": {\"outlinewidth\": 0, \"ticks\": \"\"}, \"colorscale\": [[0.0, \"#0d0887\"], [0.1111111111111111, \"#46039f\"], [0.2222222222222222, \"#7201a8\"], [0.3333333333333333, \"#9c179e\"], [0.4444444444444444, \"#bd3786\"], [0.5555555555555556, \"#d8576b\"], [0.6666666666666666, \"#ed7953\"], [0.7777777777777778, \"#fb9f3a\"], [0.8888888888888888, \"#fdca26\"], [1.0, \"#f0f921\"]], \"type\": \"heatmap\"}], \"heatmapgl\": [{\"colorbar\": {\"outlinewidth\": 0, \"ticks\": \"\"}, \"colorscale\": [[0.0, \"#0d0887\"], [0.1111111111111111, \"#46039f\"], [0.2222222222222222, \"#7201a8\"], [0.3333333333333333, \"#9c179e\"], [0.4444444444444444, \"#bd3786\"], [0.5555555555555556, \"#d8576b\"], [0.6666666666666666, \"#ed7953\"], [0.7777777777777778, \"#fb9f3a\"], [0.8888888888888888, \"#fdca26\"], [1.0, \"#f0f921\"]], \"type\": \"heatmapgl\"}], \"histogram\": [{\"marker\": {\"colorbar\": {\"outlinewidth\": 0, \"ticks\": \"\"}}, \"type\": \"histogram\"}], \"histogram2d\": [{\"colorbar\": {\"outlinewidth\": 0, \"ticks\": \"\"}, \"colorscale\": [[0.0, \"#0d0887\"], [0.1111111111111111, \"#46039f\"], [0.2222222222222222, \"#7201a8\"], [0.3333333333333333, \"#9c179e\"], [0.4444444444444444, \"#bd3786\"], [0.5555555555555556, \"#d8576b\"], [0.6666666666666666, \"#ed7953\"], [0.7777777777777778, \"#fb9f3a\"], [0.8888888888888888, \"#fdca26\"], [1.0, \"#f0f921\"]], \"type\": \"histogram2d\"}], \"histogram2dcontour\": [{\"colorbar\": {\"outlinewidth\": 0, \"ticks\": \"\"}, \"colorscale\": [[0.0, \"#0d0887\"], [0.1111111111111111, \"#46039f\"], [0.2222222222222222, \"#7201a8\"], [0.3333333333333333, \"#9c179e\"], [0.4444444444444444, \"#bd3786\"], [0.5555555555555556, \"#d8576b\"], [0.6666666666666666, \"#ed7953\"], [0.7777777777777778, \"#fb9f3a\"], [0.8888888888888888, \"#fdca26\"], [1.0, \"#f0f921\"]], \"type\": \"histogram2dcontour\"}], \"mesh3d\": [{\"colorbar\": {\"outlinewidth\": 0, \"ticks\": \"\"}, \"type\": \"mesh3d\"}], \"parcoords\": [{\"line\": {\"colorbar\": {\"outlinewidth\": 0, \"ticks\": \"\"}}, \"type\": \"parcoords\"}], \"pie\": [{\"automargin\": true, \"type\": \"pie\"}], \"scatter\": [{\"marker\": {\"colorbar\": {\"outlinewidth\": 0, \"ticks\": \"\"}}, \"type\": \"scatter\"}], \"scatter3d\": [{\"line\": {\"colorbar\": {\"outlinewidth\": 0, \"ticks\": \"\"}}, \"marker\": {\"colorbar\": {\"outlinewidth\": 0, \"ticks\": \"\"}}, \"type\": \"scatter3d\"}], \"scattercarpet\": [{\"marker\": {\"colorbar\": {\"outlinewidth\": 0, \"ticks\": \"\"}}, \"type\": \"scattercarpet\"}], \"scattergeo\": [{\"marker\": {\"colorbar\": {\"outlinewidth\": 0, \"ticks\": \"\"}}, \"type\": \"scattergeo\"}], \"scattergl\": [{\"marker\": {\"colorbar\": {\"outlinewidth\": 0, \"ticks\": \"\"}}, \"type\": \"scattergl\"}], \"scattermapbox\": [{\"marker\": {\"colorbar\": {\"outlinewidth\": 0, \"ticks\": \"\"}}, \"type\": \"scattermapbox\"}], \"scatterpolar\": [{\"marker\": {\"colorbar\": {\"outlinewidth\": 0, \"ticks\": \"\"}}, \"type\": \"scatterpolar\"}], \"scatterpolargl\": [{\"marker\": {\"colorbar\": {\"outlinewidth\": 0, \"ticks\": \"\"}}, \"type\": \"scatterpolargl\"}], \"scatterternary\": [{\"marker\": {\"colorbar\": {\"outlinewidth\": 0, \"ticks\": \"\"}}, \"type\": \"scatterternary\"}], \"surface\": [{\"colorbar\": {\"outlinewidth\": 0, \"ticks\": \"\"}, \"colorscale\": [[0.0, \"#0d0887\"], [0.1111111111111111, \"#46039f\"], [0.2222222222222222, \"#7201a8\"], [0.3333333333333333, \"#9c179e\"], [0.4444444444444444, \"#bd3786\"], [0.5555555555555556, \"#d8576b\"], [0.6666666666666666, \"#ed7953\"], [0.7777777777777778, \"#fb9f3a\"], [0.8888888888888888, \"#fdca26\"], [1.0, \"#f0f921\"]], \"type\": \"surface\"}], \"table\": [{\"cells\": {\"fill\": {\"color\": \"#EBF0F8\"}, \"line\": {\"color\": \"white\"}}, \"header\": {\"fill\": {\"color\": \"#C8D4E3\"}, \"line\": {\"color\": \"white\"}}, \"type\": \"table\"}]}, \"layout\": {\"annotationdefaults\": {\"arrowcolor\": \"#2a3f5f\", \"arrowhead\": 0, \"arrowwidth\": 1}, \"coloraxis\": {\"colorbar\": {\"outlinewidth\": 0, \"ticks\": \"\"}}, \"colorscale\": {\"diverging\": [[0, \"#8e0152\"], [0.1, \"#c51b7d\"], [0.2, \"#de77ae\"], [0.3, \"#f1b6da\"], [0.4, \"#fde0ef\"], [0.5, \"#f7f7f7\"], [0.6, \"#e6f5d0\"], [0.7, \"#b8e186\"], [0.8, \"#7fbc41\"], [0.9, \"#4d9221\"], [1, \"#276419\"]], \"sequential\": [[0.0, \"#0d0887\"], [0.1111111111111111, \"#46039f\"], [0.2222222222222222, \"#7201a8\"], [0.3333333333333333, \"#9c179e\"], [0.4444444444444444, \"#bd3786\"], [0.5555555555555556, \"#d8576b\"], [0.6666666666666666, \"#ed7953\"], [0.7777777777777778, \"#fb9f3a\"], [0.8888888888888888, \"#fdca26\"], [1.0, \"#f0f921\"]], \"sequentialminus\": [[0.0, \"#0d0887\"], [0.1111111111111111, \"#46039f\"], [0.2222222222222222, \"#7201a8\"], [0.3333333333333333, \"#9c179e\"], [0.4444444444444444, \"#bd3786\"], [0.5555555555555556, \"#d8576b\"], [0.6666666666666666, \"#ed7953\"], [0.7777777777777778, \"#fb9f3a\"], [0.8888888888888888, \"#fdca26\"], [1.0, \"#f0f921\"]]}, \"colorway\": [\"#636efa\", \"#EF553B\", \"#00cc96\", \"#ab63fa\", \"#FFA15A\", \"#19d3f3\", \"#FF6692\", \"#B6E880\", \"#FF97FF\", \"#FECB52\"], \"font\": {\"color\": \"#2a3f5f\"}, \"geo\": {\"bgcolor\": \"white\", \"lakecolor\": \"white\", \"landcolor\": \"#E5ECF6\", \"showlakes\": true, \"showland\": true, \"subunitcolor\": \"white\"}, \"hoverlabel\": {\"align\": \"left\"}, \"hovermode\": \"closest\", \"mapbox\": {\"style\": \"light\"}, \"paper_bgcolor\": \"white\", \"plot_bgcolor\": \"#E5ECF6\", \"polar\": {\"angularaxis\": {\"gridcolor\": \"white\", \"linecolor\": \"white\", \"ticks\": \"\"}, \"bgcolor\": \"#E5ECF6\", \"radialaxis\": {\"gridcolor\": \"white\", \"linecolor\": \"white\", \"ticks\": \"\"}}, \"scene\": {\"xaxis\": {\"backgroundcolor\": \"#E5ECF6\", \"gridcolor\": \"white\", \"gridwidth\": 2, \"linecolor\": \"white\", \"showbackground\": true, \"ticks\": \"\", \"zerolinecolor\": \"white\"}, \"yaxis\": {\"backgroundcolor\": \"#E5ECF6\", \"gridcolor\": \"white\", \"gridwidth\": 2, \"linecolor\": \"white\", \"showbackground\": true, \"ticks\": \"\", \"zerolinecolor\": \"white\"}, \"zaxis\": {\"backgroundcolor\": \"#E5ECF6\", \"gridcolor\": \"white\", \"gridwidth\": 2, \"linecolor\": \"white\", \"showbackground\": true, \"ticks\": \"\", \"zerolinecolor\": \"white\"}}, \"shapedefaults\": {\"line\": {\"color\": \"#2a3f5f\"}}, \"ternary\": {\"aaxis\": {\"gridcolor\": \"white\", \"linecolor\": \"white\", \"ticks\": \"\"}, \"baxis\": {\"gridcolor\": \"white\", \"linecolor\": \"white\", \"ticks\": \"\"}, \"bgcolor\": \"#E5ECF6\", \"caxis\": {\"gridcolor\": \"white\", \"linecolor\": \"white\", \"ticks\": \"\"}}, \"title\": {\"x\": 0.05}, \"xaxis\": {\"automargin\": true, \"gridcolor\": \"white\", \"linecolor\": \"white\", \"ticks\": \"\", \"title\": {\"standoff\": 15}, \"zerolinecolor\": \"white\", \"zerolinewidth\": 2}, \"yaxis\": {\"automargin\": true, \"gridcolor\": \"white\", \"linecolor\": \"white\", \"ticks\": \"\", \"title\": {\"standoff\": 15}, \"zerolinecolor\": \"white\", \"zerolinewidth\": 2}}}, \"width\": 700, \"xaxis\": {\"constrain\": \"domain\", \"scaleanchor\": \"y\"}, \"yaxis\": {\"autorange\": \"reversed\", \"constrain\": \"domain\"}},\n",
              "                        {\"responsive\": true}\n",
              "                    ).then(function(){\n",
              "                            \n",
              "var gd = document.getElementById('bd33d106-4b86-4750-90af-63470e4100a4');\n",
              "var x = new MutationObserver(function (mutations, observer) {{\n",
              "        var display = window.getComputedStyle(gd).display;\n",
              "        if (!display || display === 'none') {{\n",
              "            console.log([gd, 'removed!']);\n",
              "            Plotly.purge(gd);\n",
              "            observer.disconnect();\n",
              "        }}\n",
              "}});\n",
              "\n",
              "// Listen for the removal of the full notebook cells\n",
              "var notebookContainer = gd.closest('#notebook-container');\n",
              "if (notebookContainer) {{\n",
              "    x.observe(notebookContainer, {childList: true});\n",
              "}}\n",
              "\n",
              "// Listen for the clearing of the current output cell\n",
              "var outputEl = gd.closest('.output');\n",
              "if (outputEl) {{\n",
              "    x.observe(outputEl, {childList: true});\n",
              "}}\n",
              "\n",
              "                        })\n",
              "                };\n",
              "                \n",
              "            </script>\n",
              "        </div>\n",
              "</body>\n",
              "</html>"
            ]
          },
          "metadata": {
            "tags": []
          }
        }
      ]
    },
    {
      "cell_type": "code",
      "metadata": {
        "id": "sUl_4KYFiqS6"
      },
      "source": [
        "rolling_corr_df = df.rolling(12*3).corr().dropna().reset_index()\n",
        "rolling_corr_df = rolling_corr_df[rolling_corr_df[\"level_1\"] == dep_var]\n",
        "rolling_corr_df = rolling_corr_df.drop(columns=[dep_var, \"level_1\"]).set_index(\"Date\")\n"
      ],
      "execution_count": null,
      "outputs": []
    },
    {
      "cell_type": "code",
      "metadata": {
        "colab": {
          "base_uri": "https://localhost:8080/",
          "height": 542
        },
        "id": "kSfJSagtjCiA",
        "outputId": "0de0350d-05c9-4fd4-cf4c-35829fd9ff17"
      },
      "source": [
        "#@title Real GDP Correlation\n",
        "fig = rolling_corr_df[[\"US Real GDP\", \"US Real GDP Quantity Residenti\"]].plot(backend=\"plotly\", title=\"GDP Correlation\")\n",
        "fig.update_yaxes(title_text='Correlation')\n",
        "fig.show()"
      ],
      "execution_count": null,
      "outputs": [
        {
          "output_type": "display_data",
          "data": {
            "text/html": [
              "<html>\n",
              "<head><meta charset=\"utf-8\" /></head>\n",
              "<body>\n",
              "    <div>\n",
              "            <script src=\"https://cdnjs.cloudflare.com/ajax/libs/mathjax/2.7.5/MathJax.js?config=TeX-AMS-MML_SVG\"></script><script type=\"text/javascript\">if (window.MathJax) {MathJax.Hub.Config({SVG: {font: \"STIX-Web\"}});}</script>\n",
              "                <script type=\"text/javascript\">window.PlotlyConfig = {MathJaxConfig: 'local'};</script>\n",
              "        <script src=\"https://cdn.plot.ly/plotly-latest.min.js\"></script>    \n",
              "            <div id=\"42e0c79c-9d26-4630-84a2-01903a982f0f\" class=\"plotly-graph-div\" style=\"height:525px; width:100%;\"></div>\n",
              "            <script type=\"text/javascript\">\n",
              "                \n",
              "                    window.PLOTLYENV=window.PLOTLYENV || {};\n",
              "                    \n",
              "                if (document.getElementById(\"42e0c79c-9d26-4630-84a2-01903a982f0f\")) {\n",
              "                    Plotly.newPlot(\n",
              "                        '42e0c79c-9d26-4630-84a2-01903a982f0f',\n",
              "                        [{\"hovertemplate\": \"variable=US Real GDP<br>Date=%{x}<br>value=%{y}<extra></extra>\", \"legendgroup\": \"US Real GDP\", \"line\": {\"color\": \"#636efa\", \"dash\": \"solid\"}, \"mode\": \"lines\", \"name\": \"US Real GDP\", \"orientation\": \"v\", \"showlegend\": true, \"type\": \"scatter\", \"x\": [\"2012-09-28T00:00:00\", \"2012-10-31T00:00:00\", \"2012-11-30T00:00:00\", \"2012-12-31T00:00:00\", \"2013-01-31T00:00:00\", \"2013-02-28T00:00:00\", \"2013-03-29T00:00:00\", \"2013-04-30T00:00:00\", \"2013-05-31T00:00:00\", \"2013-06-28T00:00:00\", \"2013-07-31T00:00:00\", \"2013-08-30T00:00:00\", \"2013-09-30T00:00:00\", \"2013-10-31T00:00:00\", \"2013-11-29T00:00:00\", \"2013-12-31T00:00:00\", \"2014-01-31T00:00:00\", \"2014-02-28T00:00:00\", \"2014-03-31T00:00:00\", \"2014-04-30T00:00:00\", \"2014-05-30T00:00:00\", \"2014-06-30T00:00:00\", \"2014-07-31T00:00:00\", \"2014-08-29T00:00:00\", \"2014-09-30T00:00:00\", \"2014-10-31T00:00:00\", \"2014-11-28T00:00:00\", \"2014-12-31T00:00:00\", \"2015-01-30T00:00:00\", \"2015-02-27T00:00:00\", \"2015-03-31T00:00:00\", \"2015-04-30T00:00:00\", \"2015-05-29T00:00:00\", \"2015-06-30T00:00:00\", \"2015-07-31T00:00:00\", \"2015-08-31T00:00:00\", \"2015-09-30T00:00:00\", \"2015-10-30T00:00:00\", \"2015-11-30T00:00:00\", \"2015-12-31T00:00:00\", \"2016-01-29T00:00:00\", \"2016-02-29T00:00:00\", \"2016-03-31T00:00:00\", \"2016-04-29T00:00:00\", \"2016-05-31T00:00:00\", \"2016-06-30T00:00:00\", \"2016-07-29T00:00:00\", \"2016-08-31T00:00:00\", \"2016-09-30T00:00:00\", \"2016-10-31T00:00:00\", \"2016-11-30T00:00:00\", \"2016-12-30T00:00:00\", \"2017-01-31T00:00:00\", \"2017-02-28T00:00:00\", \"2017-03-31T00:00:00\", \"2017-04-28T00:00:00\", \"2017-05-31T00:00:00\", \"2017-06-30T00:00:00\", \"2017-07-31T00:00:00\", \"2017-08-31T00:00:00\", \"2017-09-29T00:00:00\", \"2017-10-31T00:00:00\", \"2017-11-30T00:00:00\", \"2017-12-29T00:00:00\", \"2018-01-31T00:00:00\", \"2018-02-28T00:00:00\", \"2018-03-30T00:00:00\", \"2018-04-30T00:00:00\", \"2018-05-31T00:00:00\", \"2018-06-29T00:00:00\", \"2018-07-31T00:00:00\", \"2018-08-31T00:00:00\", \"2018-09-28T00:00:00\", \"2018-10-31T00:00:00\", \"2018-11-30T00:00:00\", \"2018-12-31T00:00:00\", \"2019-01-31T00:00:00\", \"2019-02-28T00:00:00\", \"2019-03-29T00:00:00\", \"2019-04-30T00:00:00\", \"2019-05-31T00:00:00\", \"2019-06-28T00:00:00\", \"2019-07-31T00:00:00\", \"2019-08-30T00:00:00\", \"2019-09-30T00:00:00\", \"2019-10-31T00:00:00\", \"2019-11-29T00:00:00\", \"2019-12-31T00:00:00\", \"2020-01-31T00:00:00\", \"2020-02-28T00:00:00\", \"2020-03-31T00:00:00\", \"2020-04-30T00:00:00\", \"2020-05-29T00:00:00\", \"2020-06-30T00:00:00\", \"2020-07-31T00:00:00\", \"2020-08-31T00:00:00\"], \"xaxis\": \"x\", \"y\": [0.27460174886010114, 0.3379496508235715, 0.35294857998889334, 0.2688392630015148, 0.13096282983230909, 0.0022160001163233157, -0.1751955029755545, -0.44051591900664855, -0.46240685635763507, -0.48669455771394876, -0.5163098099236171, -0.4759860261520589, -0.42110760403573094, -0.3408486499859487, -0.46425793191441206, -0.5162808809918944, -0.5689860131159518, -0.5408681822790513, -0.5198139436860909, -0.5056131731899061, -0.5263883494001489, -0.547102960051216, -0.5686573614001046, -0.5487720665501404, -0.5301352407869302, -0.511659288157737, -0.5227548723065497, -0.46580659198701274, -0.4274934857320321, -0.27321620926564905, -0.14163314603259067, -0.026497936886323424, -2.3550783524089596e-14, 0.02403396684913365, 0.046148869130984885, 0.02282829913250302, 0.004471413565917727, -0.009280456586644795, -0.08863042957575382, -0.18060789873953756, -0.25086553396643874, -0.3330268989441961, -0.3988546819696633, -0.45317212066026913, -0.5129140513013389, -0.5651048876213928, -0.6114635955210834, -0.6371432540015965, -0.6597293462132764, -0.6798232677357166, -0.6703088397643733, -0.6401654379194709, -0.6108011353478917, -0.6438405050654118, -0.6768920812086561, -0.7100567185799971, -0.6851887600264829, -0.6609540296323988, -0.6373196911494137, -0.6205106993231114, -0.6046015667645089, -0.5896858876618183, -0.5967903834670034, -0.6012994091731674, -0.6056972150368414, -0.625340053718093, -0.645330721737729, -0.6656822774982412, -0.6288293525472798, -0.6010180997122719, -0.5792003354070638, -0.5636116280055773, -0.5503025185754433, -0.5387300973074279, -0.5378531189415294, -0.48989311870025004, -0.4412613664312504, -0.4020023346830469, -0.360455313160183, -0.3161208862232016, -0.2784383042794133, -0.23702830659961796, -0.1908754910785286, -0.1453621874159397, -0.0939702844711703, -0.034734629951743035, -0.010580894956258342, -0.049185193039864065, -0.09150994520837034, -0.07010605569323765, -0.05032293104617774, -0.030382306338106953, 0.049353119669653105, 0.09379260241688514, 0.13618449320759443, 0.172638737606157], \"yaxis\": \"y\"}, {\"hovertemplate\": \"variable=US Real GDP Quantity Residenti<br>Date=%{x}<br>value=%{y}<extra></extra>\", \"legendgroup\": \"US Real GDP Quantity Residenti\", \"line\": {\"color\": \"#EF553B\", \"dash\": \"solid\"}, \"mode\": \"lines\", \"name\": \"US Real GDP Quantity Residenti\", \"orientation\": \"v\", \"showlegend\": true, \"type\": \"scatter\", \"x\": [\"2012-09-28T00:00:00\", \"2012-10-31T00:00:00\", \"2012-11-30T00:00:00\", \"2012-12-31T00:00:00\", \"2013-01-31T00:00:00\", \"2013-02-28T00:00:00\", \"2013-03-29T00:00:00\", \"2013-04-30T00:00:00\", \"2013-05-31T00:00:00\", \"2013-06-28T00:00:00\", \"2013-07-31T00:00:00\", \"2013-08-30T00:00:00\", \"2013-09-30T00:00:00\", \"2013-10-31T00:00:00\", \"2013-11-29T00:00:00\", \"2013-12-31T00:00:00\", \"2014-01-31T00:00:00\", \"2014-02-28T00:00:00\", \"2014-03-31T00:00:00\", \"2014-04-30T00:00:00\", \"2014-05-30T00:00:00\", \"2014-06-30T00:00:00\", \"2014-07-31T00:00:00\", \"2014-08-29T00:00:00\", \"2014-09-30T00:00:00\", \"2014-10-31T00:00:00\", \"2014-11-28T00:00:00\", \"2014-12-31T00:00:00\", \"2015-01-30T00:00:00\", \"2015-02-27T00:00:00\", \"2015-03-31T00:00:00\", \"2015-04-30T00:00:00\", \"2015-05-29T00:00:00\", \"2015-06-30T00:00:00\", \"2015-07-31T00:00:00\", \"2015-08-31T00:00:00\", \"2015-09-30T00:00:00\", \"2015-10-30T00:00:00\", \"2015-11-30T00:00:00\", \"2015-12-31T00:00:00\", \"2016-01-29T00:00:00\", \"2016-02-29T00:00:00\", \"2016-03-31T00:00:00\", \"2016-04-29T00:00:00\", \"2016-05-31T00:00:00\", \"2016-06-30T00:00:00\", \"2016-07-29T00:00:00\", \"2016-08-31T00:00:00\", \"2016-09-30T00:00:00\", \"2016-10-31T00:00:00\", \"2016-11-30T00:00:00\", \"2016-12-30T00:00:00\", \"2017-01-31T00:00:00\", \"2017-02-28T00:00:00\", \"2017-03-31T00:00:00\", \"2017-04-28T00:00:00\", \"2017-05-31T00:00:00\", \"2017-06-30T00:00:00\", \"2017-07-31T00:00:00\", \"2017-08-31T00:00:00\", \"2017-09-29T00:00:00\", \"2017-10-31T00:00:00\", \"2017-11-30T00:00:00\", \"2017-12-29T00:00:00\", \"2018-01-31T00:00:00\", \"2018-02-28T00:00:00\", \"2018-03-30T00:00:00\", \"2018-04-30T00:00:00\", \"2018-05-31T00:00:00\", \"2018-06-29T00:00:00\", \"2018-07-31T00:00:00\", \"2018-08-31T00:00:00\", \"2018-09-28T00:00:00\", \"2018-10-31T00:00:00\", \"2018-11-30T00:00:00\", \"2018-12-31T00:00:00\", \"2019-01-31T00:00:00\", \"2019-02-28T00:00:00\", \"2019-03-29T00:00:00\", \"2019-04-30T00:00:00\", \"2019-05-31T00:00:00\", \"2019-06-28T00:00:00\", \"2019-07-31T00:00:00\", \"2019-08-30T00:00:00\", \"2019-09-30T00:00:00\", \"2019-10-31T00:00:00\", \"2019-11-29T00:00:00\", \"2019-12-31T00:00:00\", \"2020-01-31T00:00:00\", \"2020-02-28T00:00:00\", \"2020-03-31T00:00:00\", \"2020-04-30T00:00:00\", \"2020-05-29T00:00:00\", \"2020-06-30T00:00:00\", \"2020-07-31T00:00:00\", \"2020-08-31T00:00:00\"], \"xaxis\": \"x\", \"y\": [0.015380968519509559, 0.10174709275455149, 0.12398868034973315, 0.12881878937007674, 0.13579268396859107, 0.08267246163212226, -0.03655958317507601, -0.18261319925186223, -0.2781864143864777, -0.36358593055648775, -0.4269576503175095, -0.43655596962627696, -0.41215424500418035, -0.38399533432613825, -0.28472101691207274, -0.20420687847585597, -0.12937054237899975, -0.17234667726559855, -0.20846323608038025, -0.24093148433941342, -0.17903295541938735, -0.10934423807171384, -0.05245680054072727, -0.018203311983355515, 0.014851767268500425, 0.03360727301478977, 0.023076846036302348, 0.01882113076764351, 0.006842470962718381, 0.15053257081395488, 0.27622884177796453, 0.39498783586732117, 0.42798484857762914, 0.45778809701261736, 0.4908147865471198, 0.46903874746867075, 0.4263341064886897, 0.3971982773093068, 0.28207108038878453, 0.16497920725816895, 0.06286290334734158, -0.06501399890482253, -0.1873845360752839, -0.29057292124741985, -0.4106223169500546, -0.5002214656580058, -0.5822748519697285, -0.6281905294486664, -0.6637044223987327, -0.6969896857421422, -0.6873371637061793, -0.6749767133801513, -0.6634706564525489, -0.6848314264091576, -0.7046452425388255, -0.7377118587914651, -0.7090137501314576, -0.677173426861983, -0.6442641037635918, -0.5807690966423168, -0.5134839665004056, -0.4342371127664298, -0.35601895334136013, -0.2560461604063175, -0.1579877256870036, 0.017329049736409297, 0.18024062734649715, 0.36292475260865587, 0.4961689231866199, 0.5929929703641045, 0.6948571552812394, 0.746501295382902, 0.7630044368337892, 0.7858472792906558, 0.8035304787828945, 0.7981623813541115, 0.7942110338289012, 0.7864904843443309, 0.7710481981039476, 0.7549628430815968, 0.7458799427782312, 0.7300593417522713, 0.7134841098838622, 0.6959438080553879, 0.662779397353215, 0.6201990568026865, 0.6036852250033461, 0.5777819304941106, 0.5497948772043114, 0.4696204142216714, 0.18236095276853578, -0.0039972247399730374, -0.3390281222823724, 0.10456121327237694, 0.31257760067474016, 0.3647231022476777], \"yaxis\": \"y\"}],\n",
              "                        {\"legend\": {\"title\": {\"text\": \"variable\"}, \"tracegroupgap\": 0}, \"template\": {\"data\": {\"bar\": [{\"error_x\": {\"color\": \"#2a3f5f\"}, \"error_y\": {\"color\": \"#2a3f5f\"}, \"marker\": {\"line\": {\"color\": \"#E5ECF6\", \"width\": 0.5}}, \"type\": \"bar\"}], \"barpolar\": [{\"marker\": {\"line\": {\"color\": \"#E5ECF6\", \"width\": 0.5}}, \"type\": \"barpolar\"}], \"carpet\": [{\"aaxis\": {\"endlinecolor\": \"#2a3f5f\", \"gridcolor\": \"white\", \"linecolor\": \"white\", \"minorgridcolor\": \"white\", \"startlinecolor\": \"#2a3f5f\"}, \"baxis\": {\"endlinecolor\": \"#2a3f5f\", \"gridcolor\": \"white\", \"linecolor\": \"white\", \"minorgridcolor\": \"white\", \"startlinecolor\": \"#2a3f5f\"}, \"type\": \"carpet\"}], \"choropleth\": [{\"colorbar\": {\"outlinewidth\": 0, \"ticks\": \"\"}, \"type\": \"choropleth\"}], \"contour\": [{\"colorbar\": {\"outlinewidth\": 0, \"ticks\": \"\"}, \"colorscale\": [[0.0, \"#0d0887\"], [0.1111111111111111, \"#46039f\"], [0.2222222222222222, \"#7201a8\"], [0.3333333333333333, \"#9c179e\"], [0.4444444444444444, \"#bd3786\"], [0.5555555555555556, \"#d8576b\"], [0.6666666666666666, \"#ed7953\"], [0.7777777777777778, \"#fb9f3a\"], [0.8888888888888888, \"#fdca26\"], [1.0, \"#f0f921\"]], \"type\": \"contour\"}], \"contourcarpet\": [{\"colorbar\": {\"outlinewidth\": 0, \"ticks\": \"\"}, \"type\": \"contourcarpet\"}], \"heatmap\": [{\"colorbar\": {\"outlinewidth\": 0, \"ticks\": \"\"}, \"colorscale\": [[0.0, \"#0d0887\"], [0.1111111111111111, \"#46039f\"], [0.2222222222222222, \"#7201a8\"], [0.3333333333333333, \"#9c179e\"], [0.4444444444444444, \"#bd3786\"], [0.5555555555555556, \"#d8576b\"], [0.6666666666666666, \"#ed7953\"], [0.7777777777777778, \"#fb9f3a\"], [0.8888888888888888, \"#fdca26\"], [1.0, \"#f0f921\"]], \"type\": \"heatmap\"}], \"heatmapgl\": [{\"colorbar\": {\"outlinewidth\": 0, \"ticks\": \"\"}, \"colorscale\": [[0.0, \"#0d0887\"], [0.1111111111111111, \"#46039f\"], [0.2222222222222222, \"#7201a8\"], [0.3333333333333333, \"#9c179e\"], [0.4444444444444444, \"#bd3786\"], [0.5555555555555556, \"#d8576b\"], [0.6666666666666666, \"#ed7953\"], [0.7777777777777778, \"#fb9f3a\"], [0.8888888888888888, \"#fdca26\"], [1.0, \"#f0f921\"]], \"type\": \"heatmapgl\"}], \"histogram\": [{\"marker\": {\"colorbar\": {\"outlinewidth\": 0, \"ticks\": \"\"}}, \"type\": \"histogram\"}], \"histogram2d\": [{\"colorbar\": {\"outlinewidth\": 0, \"ticks\": \"\"}, \"colorscale\": [[0.0, \"#0d0887\"], [0.1111111111111111, \"#46039f\"], [0.2222222222222222, \"#7201a8\"], [0.3333333333333333, \"#9c179e\"], [0.4444444444444444, \"#bd3786\"], [0.5555555555555556, \"#d8576b\"], [0.6666666666666666, \"#ed7953\"], [0.7777777777777778, \"#fb9f3a\"], [0.8888888888888888, \"#fdca26\"], [1.0, \"#f0f921\"]], \"type\": \"histogram2d\"}], \"histogram2dcontour\": [{\"colorbar\": {\"outlinewidth\": 0, \"ticks\": \"\"}, \"colorscale\": [[0.0, \"#0d0887\"], [0.1111111111111111, \"#46039f\"], [0.2222222222222222, \"#7201a8\"], [0.3333333333333333, \"#9c179e\"], [0.4444444444444444, \"#bd3786\"], [0.5555555555555556, \"#d8576b\"], [0.6666666666666666, \"#ed7953\"], [0.7777777777777778, \"#fb9f3a\"], [0.8888888888888888, \"#fdca26\"], [1.0, \"#f0f921\"]], \"type\": \"histogram2dcontour\"}], \"mesh3d\": [{\"colorbar\": {\"outlinewidth\": 0, \"ticks\": \"\"}, \"type\": \"mesh3d\"}], \"parcoords\": [{\"line\": {\"colorbar\": {\"outlinewidth\": 0, \"ticks\": \"\"}}, \"type\": \"parcoords\"}], \"pie\": [{\"automargin\": true, \"type\": \"pie\"}], \"scatter\": [{\"marker\": {\"colorbar\": {\"outlinewidth\": 0, \"ticks\": \"\"}}, \"type\": \"scatter\"}], \"scatter3d\": [{\"line\": {\"colorbar\": {\"outlinewidth\": 0, \"ticks\": \"\"}}, \"marker\": {\"colorbar\": {\"outlinewidth\": 0, \"ticks\": \"\"}}, \"type\": \"scatter3d\"}], \"scattercarpet\": [{\"marker\": {\"colorbar\": {\"outlinewidth\": 0, \"ticks\": \"\"}}, \"type\": \"scattercarpet\"}], \"scattergeo\": [{\"marker\": {\"colorbar\": {\"outlinewidth\": 0, \"ticks\": \"\"}}, \"type\": \"scattergeo\"}], \"scattergl\": [{\"marker\": {\"colorbar\": {\"outlinewidth\": 0, \"ticks\": \"\"}}, \"type\": \"scattergl\"}], \"scattermapbox\": [{\"marker\": {\"colorbar\": {\"outlinewidth\": 0, \"ticks\": \"\"}}, \"type\": \"scattermapbox\"}], \"scatterpolar\": [{\"marker\": {\"colorbar\": {\"outlinewidth\": 0, \"ticks\": \"\"}}, \"type\": \"scatterpolar\"}], \"scatterpolargl\": [{\"marker\": {\"colorbar\": {\"outlinewidth\": 0, \"ticks\": \"\"}}, \"type\": \"scatterpolargl\"}], \"scatterternary\": [{\"marker\": {\"colorbar\": {\"outlinewidth\": 0, \"ticks\": \"\"}}, \"type\": \"scatterternary\"}], \"surface\": [{\"colorbar\": {\"outlinewidth\": 0, \"ticks\": \"\"}, \"colorscale\": [[0.0, \"#0d0887\"], [0.1111111111111111, \"#46039f\"], [0.2222222222222222, \"#7201a8\"], [0.3333333333333333, \"#9c179e\"], [0.4444444444444444, \"#bd3786\"], [0.5555555555555556, \"#d8576b\"], [0.6666666666666666, \"#ed7953\"], [0.7777777777777778, \"#fb9f3a\"], [0.8888888888888888, \"#fdca26\"], [1.0, \"#f0f921\"]], \"type\": \"surface\"}], \"table\": [{\"cells\": {\"fill\": {\"color\": \"#EBF0F8\"}, \"line\": {\"color\": \"white\"}}, \"header\": {\"fill\": {\"color\": \"#C8D4E3\"}, \"line\": {\"color\": \"white\"}}, \"type\": \"table\"}]}, \"layout\": {\"annotationdefaults\": {\"arrowcolor\": \"#2a3f5f\", \"arrowhead\": 0, \"arrowwidth\": 1}, \"coloraxis\": {\"colorbar\": {\"outlinewidth\": 0, \"ticks\": \"\"}}, \"colorscale\": {\"diverging\": [[0, \"#8e0152\"], [0.1, \"#c51b7d\"], [0.2, \"#de77ae\"], [0.3, \"#f1b6da\"], [0.4, \"#fde0ef\"], [0.5, \"#f7f7f7\"], [0.6, \"#e6f5d0\"], [0.7, \"#b8e186\"], [0.8, \"#7fbc41\"], [0.9, \"#4d9221\"], [1, \"#276419\"]], \"sequential\": [[0.0, \"#0d0887\"], [0.1111111111111111, \"#46039f\"], [0.2222222222222222, \"#7201a8\"], [0.3333333333333333, \"#9c179e\"], [0.4444444444444444, \"#bd3786\"], [0.5555555555555556, \"#d8576b\"], [0.6666666666666666, \"#ed7953\"], [0.7777777777777778, \"#fb9f3a\"], [0.8888888888888888, \"#fdca26\"], [1.0, \"#f0f921\"]], \"sequentialminus\": [[0.0, \"#0d0887\"], [0.1111111111111111, \"#46039f\"], [0.2222222222222222, \"#7201a8\"], [0.3333333333333333, \"#9c179e\"], [0.4444444444444444, \"#bd3786\"], [0.5555555555555556, \"#d8576b\"], [0.6666666666666666, \"#ed7953\"], [0.7777777777777778, \"#fb9f3a\"], [0.8888888888888888, \"#fdca26\"], [1.0, \"#f0f921\"]]}, \"colorway\": [\"#636efa\", \"#EF553B\", \"#00cc96\", \"#ab63fa\", \"#FFA15A\", \"#19d3f3\", \"#FF6692\", \"#B6E880\", \"#FF97FF\", \"#FECB52\"], \"font\": {\"color\": \"#2a3f5f\"}, \"geo\": {\"bgcolor\": \"white\", \"lakecolor\": \"white\", \"landcolor\": \"#E5ECF6\", \"showlakes\": true, \"showland\": true, \"subunitcolor\": \"white\"}, \"hoverlabel\": {\"align\": \"left\"}, \"hovermode\": \"closest\", \"mapbox\": {\"style\": \"light\"}, \"paper_bgcolor\": \"white\", \"plot_bgcolor\": \"#E5ECF6\", \"polar\": {\"angularaxis\": {\"gridcolor\": \"white\", \"linecolor\": \"white\", \"ticks\": \"\"}, \"bgcolor\": \"#E5ECF6\", \"radialaxis\": {\"gridcolor\": \"white\", \"linecolor\": \"white\", \"ticks\": \"\"}}, \"scene\": {\"xaxis\": {\"backgroundcolor\": \"#E5ECF6\", \"gridcolor\": \"white\", \"gridwidth\": 2, \"linecolor\": \"white\", \"showbackground\": true, \"ticks\": \"\", \"zerolinecolor\": \"white\"}, \"yaxis\": {\"backgroundcolor\": \"#E5ECF6\", \"gridcolor\": \"white\", \"gridwidth\": 2, \"linecolor\": \"white\", \"showbackground\": true, \"ticks\": \"\", \"zerolinecolor\": \"white\"}, \"zaxis\": {\"backgroundcolor\": \"#E5ECF6\", \"gridcolor\": \"white\", \"gridwidth\": 2, \"linecolor\": \"white\", \"showbackground\": true, \"ticks\": \"\", \"zerolinecolor\": \"white\"}}, \"shapedefaults\": {\"line\": {\"color\": \"#2a3f5f\"}}, \"ternary\": {\"aaxis\": {\"gridcolor\": \"white\", \"linecolor\": \"white\", \"ticks\": \"\"}, \"baxis\": {\"gridcolor\": \"white\", \"linecolor\": \"white\", \"ticks\": \"\"}, \"bgcolor\": \"#E5ECF6\", \"caxis\": {\"gridcolor\": \"white\", \"linecolor\": \"white\", \"ticks\": \"\"}}, \"title\": {\"x\": 0.05}, \"xaxis\": {\"automargin\": true, \"gridcolor\": \"white\", \"linecolor\": \"white\", \"ticks\": \"\", \"title\": {\"standoff\": 15}, \"zerolinecolor\": \"white\", \"zerolinewidth\": 2}, \"yaxis\": {\"automargin\": true, \"gridcolor\": \"white\", \"linecolor\": \"white\", \"ticks\": \"\", \"title\": {\"standoff\": 15}, \"zerolinecolor\": \"white\", \"zerolinewidth\": 2}}}, \"title\": {\"text\": \"GDP Correlation\"}, \"xaxis\": {\"anchor\": \"y\", \"domain\": [0.0, 1.0], \"title\": {\"text\": \"Date\"}}, \"yaxis\": {\"anchor\": \"x\", \"domain\": [0.0, 1.0], \"title\": {\"text\": \"Correlation\"}}},\n",
              "                        {\"responsive\": true}\n",
              "                    ).then(function(){\n",
              "                            \n",
              "var gd = document.getElementById('42e0c79c-9d26-4630-84a2-01903a982f0f');\n",
              "var x = new MutationObserver(function (mutations, observer) {{\n",
              "        var display = window.getComputedStyle(gd).display;\n",
              "        if (!display || display === 'none') {{\n",
              "            console.log([gd, 'removed!']);\n",
              "            Plotly.purge(gd);\n",
              "            observer.disconnect();\n",
              "        }}\n",
              "}});\n",
              "\n",
              "// Listen for the removal of the full notebook cells\n",
              "var notebookContainer = gd.closest('#notebook-container');\n",
              "if (notebookContainer) {{\n",
              "    x.observe(notebookContainer, {childList: true});\n",
              "}}\n",
              "\n",
              "// Listen for the clearing of the current output cell\n",
              "var outputEl = gd.closest('.output');\n",
              "if (outputEl) {{\n",
              "    x.observe(outputEl, {childList: true});\n",
              "}}\n",
              "\n",
              "                        })\n",
              "                };\n",
              "                \n",
              "            </script>\n",
              "        </div>\n",
              "</body>\n",
              "</html>"
            ]
          },
          "metadata": {
            "tags": []
          }
        }
      ]
    },
    {
      "cell_type": "code",
      "metadata": {
        "colab": {
          "base_uri": "https://localhost:8080/",
          "height": 542
        },
        "id": "bv15yuJTjo4d",
        "outputId": "6786df75-f8cd-4a00-ed2c-f91094b124a7"
      },
      "source": [
        "#@title Leading Indicator Correlation\n",
        "\n",
        "fig = rolling_corr_df[[\"Composite Index of Leading Indicators\", \"Conference Board US Leading\"]].plot(backend=\"plotly\")\n",
        "fig.update_yaxes(title_text='Correlation')\n",
        "fig.show()"
      ],
      "execution_count": null,
      "outputs": [
        {
          "output_type": "display_data",
          "data": {
            "text/html": [
              "<html>\n",
              "<head><meta charset=\"utf-8\" /></head>\n",
              "<body>\n",
              "    <div>\n",
              "            <script src=\"https://cdnjs.cloudflare.com/ajax/libs/mathjax/2.7.5/MathJax.js?config=TeX-AMS-MML_SVG\"></script><script type=\"text/javascript\">if (window.MathJax) {MathJax.Hub.Config({SVG: {font: \"STIX-Web\"}});}</script>\n",
              "                <script type=\"text/javascript\">window.PlotlyConfig = {MathJaxConfig: 'local'};</script>\n",
              "        <script src=\"https://cdn.plot.ly/plotly-latest.min.js\"></script>    \n",
              "            <div id=\"f8be33ef-1420-457f-8c13-ddf45a6c7e29\" class=\"plotly-graph-div\" style=\"height:525px; width:100%;\"></div>\n",
              "            <script type=\"text/javascript\">\n",
              "                \n",
              "                    window.PLOTLYENV=window.PLOTLYENV || {};\n",
              "                    \n",
              "                if (document.getElementById(\"f8be33ef-1420-457f-8c13-ddf45a6c7e29\")) {\n",
              "                    Plotly.newPlot(\n",
              "                        'f8be33ef-1420-457f-8c13-ddf45a6c7e29',\n",
              "                        [{\"hovertemplate\": \"variable=Composite Index of Leading Indicators<br>Date=%{x}<br>value=%{y}<extra></extra>\", \"legendgroup\": \"Composite Index of Leading Indicators\", \"line\": {\"color\": \"#636efa\", \"dash\": \"solid\"}, \"mode\": \"lines\", \"name\": \"Composite Index of Leading Indicators\", \"orientation\": \"v\", \"showlegend\": true, \"type\": \"scatter\", \"x\": [\"2012-09-28T00:00:00\", \"2012-10-31T00:00:00\", \"2012-11-30T00:00:00\", \"2012-12-31T00:00:00\", \"2013-01-31T00:00:00\", \"2013-02-28T00:00:00\", \"2013-03-29T00:00:00\", \"2013-04-30T00:00:00\", \"2013-05-31T00:00:00\", \"2013-06-28T00:00:00\", \"2013-07-31T00:00:00\", \"2013-08-30T00:00:00\", \"2013-09-30T00:00:00\", \"2013-10-31T00:00:00\", \"2013-11-29T00:00:00\", \"2013-12-31T00:00:00\", \"2014-01-31T00:00:00\", \"2014-02-28T00:00:00\", \"2014-03-31T00:00:00\", \"2014-04-30T00:00:00\", \"2014-05-30T00:00:00\", \"2014-06-30T00:00:00\", \"2014-07-31T00:00:00\", \"2014-08-29T00:00:00\", \"2014-09-30T00:00:00\", \"2014-10-31T00:00:00\", \"2014-11-28T00:00:00\", \"2014-12-31T00:00:00\", \"2015-01-30T00:00:00\", \"2015-02-27T00:00:00\", \"2015-03-31T00:00:00\", \"2015-04-30T00:00:00\", \"2015-05-29T00:00:00\", \"2015-06-30T00:00:00\", \"2015-07-31T00:00:00\", \"2015-08-31T00:00:00\", \"2015-09-30T00:00:00\", \"2015-10-30T00:00:00\", \"2015-11-30T00:00:00\", \"2015-12-31T00:00:00\", \"2016-01-29T00:00:00\", \"2016-02-29T00:00:00\", \"2016-03-31T00:00:00\", \"2016-04-29T00:00:00\", \"2016-05-31T00:00:00\", \"2016-06-30T00:00:00\", \"2016-07-29T00:00:00\", \"2016-08-31T00:00:00\", \"2016-09-30T00:00:00\", \"2016-10-31T00:00:00\", \"2016-11-30T00:00:00\", \"2016-12-30T00:00:00\", \"2017-01-31T00:00:00\", \"2017-02-28T00:00:00\", \"2017-03-31T00:00:00\", \"2017-04-28T00:00:00\", \"2017-05-31T00:00:00\", \"2017-06-30T00:00:00\", \"2017-07-31T00:00:00\", \"2017-08-31T00:00:00\", \"2017-09-29T00:00:00\", \"2017-10-31T00:00:00\", \"2017-11-30T00:00:00\", \"2017-12-29T00:00:00\", \"2018-01-31T00:00:00\", \"2018-02-28T00:00:00\", \"2018-03-30T00:00:00\", \"2018-04-30T00:00:00\", \"2018-05-31T00:00:00\", \"2018-06-29T00:00:00\", \"2018-07-31T00:00:00\", \"2018-08-31T00:00:00\", \"2018-09-28T00:00:00\", \"2018-10-31T00:00:00\", \"2018-11-30T00:00:00\", \"2018-12-31T00:00:00\", \"2019-01-31T00:00:00\", \"2019-02-28T00:00:00\", \"2019-03-29T00:00:00\", \"2019-04-30T00:00:00\", \"2019-05-31T00:00:00\", \"2019-06-28T00:00:00\", \"2019-07-31T00:00:00\", \"2019-08-30T00:00:00\", \"2019-09-30T00:00:00\", \"2019-10-31T00:00:00\", \"2019-11-29T00:00:00\", \"2019-12-31T00:00:00\", \"2020-01-31T00:00:00\", \"2020-02-28T00:00:00\", \"2020-03-31T00:00:00\", \"2020-04-30T00:00:00\", \"2020-05-29T00:00:00\", \"2020-06-30T00:00:00\", \"2020-07-31T00:00:00\", \"2020-08-31T00:00:00\"], \"xaxis\": \"x\", \"y\": [0.7687367129729026, 0.6403767801197084, 0.5284070820046276, 0.3951399803757027, 0.27941873459381433, 0.20113396223140395, 0.14009055025211917, 0.07375376418454317, -0.03929565714549003, -0.13583858906421772, -0.2145761021042487, -0.20746184045847474, -0.20154004681148446, -0.2034466510468582, -0.14078535018729002, -0.09375382618566572, -0.05844966501994852, -0.10396179196686238, -0.14787864477046483, -0.1891236642507024, -0.09423988640963948, -0.014964477233934024, 0.05012028556769638, 0.09570685471959052, 0.12243041469765699, 0.13598823386197292, 0.12853517211231438, 0.11867558253725467, 0.10760080123382068, 0.16550874341629954, 0.20477857275563752, 0.23235358248669735, 0.2364932610579086, 0.23844439376776402, 0.23534687317863456, 0.2941879182713114, 0.3559405508205729, 0.40945187087390894, 0.4495017316444409, 0.48379063494274716, 0.5132142943073155, 0.5599583797848351, 0.6008121021060948, 0.6377569124549836, 0.687622566071281, 0.7360704411300004, 0.7823464595259227, 0.8047155124104777, 0.8248111675297837, 0.8422658267976453, 0.8380295863073165, 0.8357651321054788, 0.8341345730617179, 0.8602265205172098, 0.8946721428224905, 0.9389254780831275, 0.9386876616813009, 0.9391701690718415, 0.9402676676479896, 0.9367210699225333, 0.9323219901835356, 0.9256995266451075, 0.9394361756290266, 0.9529944141837275, 0.9619877671984489, 0.9618412136288654, 0.9638247119632807, 0.9706182395202202, 0.9666477559212315, 0.9647966264399871, 0.9648711876634133, 0.9666090502394246, 0.9655230359227522, 0.9615167174288887, 0.9600937868732813, 0.9549041031630284, 0.9441419091116678, 0.9355815811838151, 0.9217166477563523, 0.901353775345227, 0.8868876280317103, 0.8690051095087081, 0.849459808008065, 0.8307250938069789, 0.8187300954717821, 0.8212764630269853, 0.8159288424885677, 0.8178579805180267, 0.8271549373274515, 0.8009632603828463, 0.8414960476025333, 0.732596677931218, 0.7577745520402241, 0.7637112904775972, 0.7402828100690572, 0.7470021564121889], \"yaxis\": \"y\"}, {\"hovertemplate\": \"variable=Conference Board US Leading<br>Date=%{x}<br>value=%{y}<extra></extra>\", \"legendgroup\": \"Conference Board US Leading\", \"line\": {\"color\": \"#EF553B\", \"dash\": \"solid\"}, \"mode\": \"lines\", \"name\": \"Conference Board US Leading\", \"orientation\": \"v\", \"showlegend\": true, \"type\": \"scatter\", \"x\": [\"2012-09-28T00:00:00\", \"2012-10-31T00:00:00\", \"2012-11-30T00:00:00\", \"2012-12-31T00:00:00\", \"2013-01-31T00:00:00\", \"2013-02-28T00:00:00\", \"2013-03-29T00:00:00\", \"2013-04-30T00:00:00\", \"2013-05-31T00:00:00\", \"2013-06-28T00:00:00\", \"2013-07-31T00:00:00\", \"2013-08-30T00:00:00\", \"2013-09-30T00:00:00\", \"2013-10-31T00:00:00\", \"2013-11-29T00:00:00\", \"2013-12-31T00:00:00\", \"2014-01-31T00:00:00\", \"2014-02-28T00:00:00\", \"2014-03-31T00:00:00\", \"2014-04-30T00:00:00\", \"2014-05-30T00:00:00\", \"2014-06-30T00:00:00\", \"2014-07-31T00:00:00\", \"2014-08-29T00:00:00\", \"2014-09-30T00:00:00\", \"2014-10-31T00:00:00\", \"2014-11-28T00:00:00\", \"2014-12-31T00:00:00\", \"2015-01-30T00:00:00\", \"2015-02-27T00:00:00\", \"2015-03-31T00:00:00\", \"2015-04-30T00:00:00\", \"2015-05-29T00:00:00\", \"2015-06-30T00:00:00\", \"2015-07-31T00:00:00\", \"2015-08-31T00:00:00\", \"2015-09-30T00:00:00\", \"2015-10-30T00:00:00\", \"2015-11-30T00:00:00\", \"2015-12-31T00:00:00\", \"2016-01-29T00:00:00\", \"2016-02-29T00:00:00\", \"2016-03-31T00:00:00\", \"2016-04-29T00:00:00\", \"2016-05-31T00:00:00\", \"2016-06-30T00:00:00\", \"2016-07-29T00:00:00\", \"2016-08-31T00:00:00\", \"2016-09-30T00:00:00\", \"2016-10-31T00:00:00\", \"2016-11-30T00:00:00\", \"2016-12-30T00:00:00\", \"2017-01-31T00:00:00\", \"2017-02-28T00:00:00\", \"2017-03-31T00:00:00\", \"2017-04-28T00:00:00\", \"2017-05-31T00:00:00\", \"2017-06-30T00:00:00\", \"2017-07-31T00:00:00\", \"2017-08-31T00:00:00\", \"2017-09-29T00:00:00\", \"2017-10-31T00:00:00\", \"2017-11-30T00:00:00\", \"2017-12-29T00:00:00\", \"2018-01-31T00:00:00\", \"2018-02-28T00:00:00\", \"2018-03-30T00:00:00\", \"2018-04-30T00:00:00\", \"2018-05-31T00:00:00\", \"2018-06-29T00:00:00\", \"2018-07-31T00:00:00\", \"2018-08-31T00:00:00\", \"2018-09-28T00:00:00\", \"2018-10-31T00:00:00\", \"2018-11-30T00:00:00\", \"2018-12-31T00:00:00\", \"2019-01-31T00:00:00\", \"2019-02-28T00:00:00\", \"2019-03-29T00:00:00\", \"2019-04-30T00:00:00\", \"2019-05-31T00:00:00\", \"2019-06-28T00:00:00\", \"2019-07-31T00:00:00\", \"2019-08-30T00:00:00\", \"2019-09-30T00:00:00\", \"2019-10-31T00:00:00\", \"2019-11-29T00:00:00\", \"2019-12-31T00:00:00\", \"2020-01-31T00:00:00\", \"2020-02-28T00:00:00\", \"2020-03-31T00:00:00\", \"2020-04-30T00:00:00\", \"2020-05-29T00:00:00\", \"2020-06-30T00:00:00\", \"2020-07-31T00:00:00\", \"2020-08-31T00:00:00\"], \"xaxis\": \"x\", \"y\": [0.5140744855105132, 0.18003556498568318, -0.04671686333364071, -0.20457949072554035, -0.3068578477869066, -0.27490825081738474, -0.10316994623440835, 0.1393209899257113, 0.19168041186603546, 0.22171275371401955, 0.24504350785937407, 0.18930565505593755, 0.1230353012597503, 0.05377494276446798, 0.04715650678131244, 0.030500565726024453, 0.012594578711972762, -0.012620314986592322, -0.06419081887087451, -0.10226455277157515, -0.026114888643673815, 0.06405813909052542, 0.16094837832734718, 0.2712202181858904, 0.34535511327858653, 0.4274755474449637, 0.4479720171091514, 0.4592754765401007, 0.47077610789512625, 0.4980718190499196, 0.5233870461928086, 0.5632214762030103, 0.5783194860975585, 0.5992259115282217, 0.6223297246414946, 0.6503292397703797, 0.6712765467848392, 0.704905091443868, 0.7110714291292999, 0.7284202131720917, 0.7452613002921363, 0.7653797763234338, 0.7955462110857332, 0.8128922037946462, 0.8232534998996414, 0.8334086471026217, 0.8423454473068832, 0.8506981307398871, 0.8586965069123842, 0.8656523118416114, 0.8473683068481913, 0.8371361416498108, 0.837317561829691, 0.8478049681914379, 0.8838418168917503, 0.9114474161409456, 0.9086163174334037, 0.9062907890594768, 0.9082549587035885, 0.9027275778475035, 0.8963758616625116, 0.8797085564235558, 0.8836308642406833, 0.8906577652059449, 0.8985948909780391, 0.9038469808880221, 0.9169564961108829, 0.9257203837127633, 0.9170222060505903, 0.9157684362409223, 0.9228919596816487, 0.9304592182707656, 0.9349257177088488, 0.9329810673914105, 0.9371232443655275, 0.9345905530547186, 0.9263308571926595, 0.9218046276955608, 0.9150006374522572, 0.9051505358606492, 0.897271446814687, 0.884391016205194, 0.8749632686149554, 0.8614411654130208, 0.8483522409359471, 0.8350269953483541, 0.8190056702895692, 0.8046326333740014, 0.8061100817599877, 0.806841453063732, 0.8315939169467014, 0.8166426030847853, 0.7524193528387766, 0.7622288977248951, 0.7664484519247614, 0.7772502820100694], \"yaxis\": \"y\"}],\n",
              "                        {\"legend\": {\"title\": {\"text\": \"variable\"}, \"tracegroupgap\": 0}, \"margin\": {\"t\": 60}, \"template\": {\"data\": {\"bar\": [{\"error_x\": {\"color\": \"#2a3f5f\"}, \"error_y\": {\"color\": \"#2a3f5f\"}, \"marker\": {\"line\": {\"color\": \"#E5ECF6\", \"width\": 0.5}}, \"type\": \"bar\"}], \"barpolar\": [{\"marker\": {\"line\": {\"color\": \"#E5ECF6\", \"width\": 0.5}}, \"type\": \"barpolar\"}], \"carpet\": [{\"aaxis\": {\"endlinecolor\": \"#2a3f5f\", \"gridcolor\": \"white\", \"linecolor\": \"white\", \"minorgridcolor\": \"white\", \"startlinecolor\": \"#2a3f5f\"}, \"baxis\": {\"endlinecolor\": \"#2a3f5f\", \"gridcolor\": \"white\", \"linecolor\": \"white\", \"minorgridcolor\": \"white\", \"startlinecolor\": \"#2a3f5f\"}, \"type\": \"carpet\"}], \"choropleth\": [{\"colorbar\": {\"outlinewidth\": 0, \"ticks\": \"\"}, \"type\": \"choropleth\"}], \"contour\": [{\"colorbar\": {\"outlinewidth\": 0, \"ticks\": \"\"}, \"colorscale\": [[0.0, \"#0d0887\"], [0.1111111111111111, \"#46039f\"], [0.2222222222222222, \"#7201a8\"], [0.3333333333333333, \"#9c179e\"], [0.4444444444444444, \"#bd3786\"], [0.5555555555555556, \"#d8576b\"], [0.6666666666666666, \"#ed7953\"], [0.7777777777777778, \"#fb9f3a\"], [0.8888888888888888, \"#fdca26\"], [1.0, \"#f0f921\"]], \"type\": \"contour\"}], \"contourcarpet\": [{\"colorbar\": {\"outlinewidth\": 0, \"ticks\": \"\"}, \"type\": \"contourcarpet\"}], \"heatmap\": [{\"colorbar\": {\"outlinewidth\": 0, \"ticks\": \"\"}, \"colorscale\": [[0.0, \"#0d0887\"], [0.1111111111111111, \"#46039f\"], [0.2222222222222222, \"#7201a8\"], [0.3333333333333333, \"#9c179e\"], [0.4444444444444444, \"#bd3786\"], [0.5555555555555556, \"#d8576b\"], [0.6666666666666666, \"#ed7953\"], [0.7777777777777778, \"#fb9f3a\"], [0.8888888888888888, \"#fdca26\"], [1.0, \"#f0f921\"]], \"type\": \"heatmap\"}], \"heatmapgl\": [{\"colorbar\": {\"outlinewidth\": 0, \"ticks\": \"\"}, \"colorscale\": [[0.0, \"#0d0887\"], [0.1111111111111111, \"#46039f\"], [0.2222222222222222, \"#7201a8\"], [0.3333333333333333, \"#9c179e\"], [0.4444444444444444, \"#bd3786\"], [0.5555555555555556, \"#d8576b\"], [0.6666666666666666, \"#ed7953\"], [0.7777777777777778, \"#fb9f3a\"], [0.8888888888888888, \"#fdca26\"], [1.0, \"#f0f921\"]], \"type\": \"heatmapgl\"}], \"histogram\": [{\"marker\": {\"colorbar\": {\"outlinewidth\": 0, \"ticks\": \"\"}}, \"type\": \"histogram\"}], \"histogram2d\": [{\"colorbar\": {\"outlinewidth\": 0, \"ticks\": \"\"}, \"colorscale\": [[0.0, \"#0d0887\"], [0.1111111111111111, \"#46039f\"], [0.2222222222222222, \"#7201a8\"], [0.3333333333333333, \"#9c179e\"], [0.4444444444444444, \"#bd3786\"], [0.5555555555555556, \"#d8576b\"], [0.6666666666666666, \"#ed7953\"], [0.7777777777777778, \"#fb9f3a\"], [0.8888888888888888, \"#fdca26\"], [1.0, \"#f0f921\"]], \"type\": \"histogram2d\"}], \"histogram2dcontour\": [{\"colorbar\": {\"outlinewidth\": 0, \"ticks\": \"\"}, \"colorscale\": [[0.0, \"#0d0887\"], [0.1111111111111111, \"#46039f\"], [0.2222222222222222, \"#7201a8\"], [0.3333333333333333, \"#9c179e\"], [0.4444444444444444, \"#bd3786\"], [0.5555555555555556, \"#d8576b\"], [0.6666666666666666, \"#ed7953\"], [0.7777777777777778, \"#fb9f3a\"], [0.8888888888888888, \"#fdca26\"], [1.0, \"#f0f921\"]], \"type\": \"histogram2dcontour\"}], \"mesh3d\": [{\"colorbar\": {\"outlinewidth\": 0, \"ticks\": \"\"}, \"type\": \"mesh3d\"}], \"parcoords\": [{\"line\": {\"colorbar\": {\"outlinewidth\": 0, \"ticks\": \"\"}}, \"type\": \"parcoords\"}], \"pie\": [{\"automargin\": true, \"type\": \"pie\"}], \"scatter\": [{\"marker\": {\"colorbar\": {\"outlinewidth\": 0, \"ticks\": \"\"}}, \"type\": \"scatter\"}], \"scatter3d\": [{\"line\": {\"colorbar\": {\"outlinewidth\": 0, \"ticks\": \"\"}}, \"marker\": {\"colorbar\": {\"outlinewidth\": 0, \"ticks\": \"\"}}, \"type\": \"scatter3d\"}], \"scattercarpet\": [{\"marker\": {\"colorbar\": {\"outlinewidth\": 0, \"ticks\": \"\"}}, \"type\": \"scattercarpet\"}], \"scattergeo\": [{\"marker\": {\"colorbar\": {\"outlinewidth\": 0, \"ticks\": \"\"}}, \"type\": \"scattergeo\"}], \"scattergl\": [{\"marker\": {\"colorbar\": {\"outlinewidth\": 0, \"ticks\": \"\"}}, \"type\": \"scattergl\"}], \"scattermapbox\": [{\"marker\": {\"colorbar\": {\"outlinewidth\": 0, \"ticks\": \"\"}}, \"type\": \"scattermapbox\"}], \"scatterpolar\": [{\"marker\": {\"colorbar\": {\"outlinewidth\": 0, \"ticks\": \"\"}}, \"type\": \"scatterpolar\"}], \"scatterpolargl\": [{\"marker\": {\"colorbar\": {\"outlinewidth\": 0, \"ticks\": \"\"}}, \"type\": \"scatterpolargl\"}], \"scatterternary\": [{\"marker\": {\"colorbar\": {\"outlinewidth\": 0, \"ticks\": \"\"}}, \"type\": \"scatterternary\"}], \"surface\": [{\"colorbar\": {\"outlinewidth\": 0, \"ticks\": \"\"}, \"colorscale\": [[0.0, \"#0d0887\"], [0.1111111111111111, \"#46039f\"], [0.2222222222222222, \"#7201a8\"], [0.3333333333333333, \"#9c179e\"], [0.4444444444444444, \"#bd3786\"], [0.5555555555555556, \"#d8576b\"], [0.6666666666666666, \"#ed7953\"], [0.7777777777777778, \"#fb9f3a\"], [0.8888888888888888, \"#fdca26\"], [1.0, \"#f0f921\"]], \"type\": \"surface\"}], \"table\": [{\"cells\": {\"fill\": {\"color\": \"#EBF0F8\"}, \"line\": {\"color\": \"white\"}}, \"header\": {\"fill\": {\"color\": \"#C8D4E3\"}, \"line\": {\"color\": \"white\"}}, \"type\": \"table\"}]}, \"layout\": {\"annotationdefaults\": {\"arrowcolor\": \"#2a3f5f\", \"arrowhead\": 0, \"arrowwidth\": 1}, \"coloraxis\": {\"colorbar\": {\"outlinewidth\": 0, \"ticks\": \"\"}}, \"colorscale\": {\"diverging\": [[0, \"#8e0152\"], [0.1, \"#c51b7d\"], [0.2, \"#de77ae\"], [0.3, \"#f1b6da\"], [0.4, \"#fde0ef\"], [0.5, \"#f7f7f7\"], [0.6, \"#e6f5d0\"], [0.7, \"#b8e186\"], [0.8, \"#7fbc41\"], [0.9, \"#4d9221\"], [1, \"#276419\"]], \"sequential\": [[0.0, \"#0d0887\"], [0.1111111111111111, \"#46039f\"], [0.2222222222222222, \"#7201a8\"], [0.3333333333333333, \"#9c179e\"], [0.4444444444444444, \"#bd3786\"], [0.5555555555555556, \"#d8576b\"], [0.6666666666666666, \"#ed7953\"], [0.7777777777777778, \"#fb9f3a\"], [0.8888888888888888, \"#fdca26\"], [1.0, \"#f0f921\"]], \"sequentialminus\": [[0.0, \"#0d0887\"], [0.1111111111111111, \"#46039f\"], [0.2222222222222222, \"#7201a8\"], [0.3333333333333333, \"#9c179e\"], [0.4444444444444444, \"#bd3786\"], [0.5555555555555556, \"#d8576b\"], [0.6666666666666666, \"#ed7953\"], [0.7777777777777778, \"#fb9f3a\"], [0.8888888888888888, \"#fdca26\"], [1.0, \"#f0f921\"]]}, \"colorway\": [\"#636efa\", \"#EF553B\", \"#00cc96\", \"#ab63fa\", \"#FFA15A\", \"#19d3f3\", \"#FF6692\", \"#B6E880\", \"#FF97FF\", \"#FECB52\"], \"font\": {\"color\": \"#2a3f5f\"}, \"geo\": {\"bgcolor\": \"white\", \"lakecolor\": \"white\", \"landcolor\": \"#E5ECF6\", \"showlakes\": true, \"showland\": true, \"subunitcolor\": \"white\"}, \"hoverlabel\": {\"align\": \"left\"}, \"hovermode\": \"closest\", \"mapbox\": {\"style\": \"light\"}, \"paper_bgcolor\": \"white\", \"plot_bgcolor\": \"#E5ECF6\", \"polar\": {\"angularaxis\": {\"gridcolor\": \"white\", \"linecolor\": \"white\", \"ticks\": \"\"}, \"bgcolor\": \"#E5ECF6\", \"radialaxis\": {\"gridcolor\": \"white\", \"linecolor\": \"white\", \"ticks\": \"\"}}, \"scene\": {\"xaxis\": {\"backgroundcolor\": \"#E5ECF6\", \"gridcolor\": \"white\", \"gridwidth\": 2, \"linecolor\": \"white\", \"showbackground\": true, \"ticks\": \"\", \"zerolinecolor\": \"white\"}, \"yaxis\": {\"backgroundcolor\": \"#E5ECF6\", \"gridcolor\": \"white\", \"gridwidth\": 2, \"linecolor\": \"white\", \"showbackground\": true, \"ticks\": \"\", \"zerolinecolor\": \"white\"}, \"zaxis\": {\"backgroundcolor\": \"#E5ECF6\", \"gridcolor\": \"white\", \"gridwidth\": 2, \"linecolor\": \"white\", \"showbackground\": true, \"ticks\": \"\", \"zerolinecolor\": \"white\"}}, \"shapedefaults\": {\"line\": {\"color\": \"#2a3f5f\"}}, \"ternary\": {\"aaxis\": {\"gridcolor\": \"white\", \"linecolor\": \"white\", \"ticks\": \"\"}, \"baxis\": {\"gridcolor\": \"white\", \"linecolor\": \"white\", \"ticks\": \"\"}, \"bgcolor\": \"#E5ECF6\", \"caxis\": {\"gridcolor\": \"white\", \"linecolor\": \"white\", \"ticks\": \"\"}}, \"title\": {\"x\": 0.05}, \"xaxis\": {\"automargin\": true, \"gridcolor\": \"white\", \"linecolor\": \"white\", \"ticks\": \"\", \"title\": {\"standoff\": 15}, \"zerolinecolor\": \"white\", \"zerolinewidth\": 2}, \"yaxis\": {\"automargin\": true, \"gridcolor\": \"white\", \"linecolor\": \"white\", \"ticks\": \"\", \"title\": {\"standoff\": 15}, \"zerolinecolor\": \"white\", \"zerolinewidth\": 2}}}, \"xaxis\": {\"anchor\": \"y\", \"domain\": [0.0, 1.0], \"title\": {\"text\": \"Date\"}}, \"yaxis\": {\"anchor\": \"x\", \"domain\": [0.0, 1.0], \"title\": {\"text\": \"Correlation\"}}},\n",
              "                        {\"responsive\": true}\n",
              "                    ).then(function(){\n",
              "                            \n",
              "var gd = document.getElementById('f8be33ef-1420-457f-8c13-ddf45a6c7e29');\n",
              "var x = new MutationObserver(function (mutations, observer) {{\n",
              "        var display = window.getComputedStyle(gd).display;\n",
              "        if (!display || display === 'none') {{\n",
              "            console.log([gd, 'removed!']);\n",
              "            Plotly.purge(gd);\n",
              "            observer.disconnect();\n",
              "        }}\n",
              "}});\n",
              "\n",
              "// Listen for the removal of the full notebook cells\n",
              "var notebookContainer = gd.closest('#notebook-container');\n",
              "if (notebookContainer) {{\n",
              "    x.observe(notebookContainer, {childList: true});\n",
              "}}\n",
              "\n",
              "// Listen for the clearing of the current output cell\n",
              "var outputEl = gd.closest('.output');\n",
              "if (outputEl) {{\n",
              "    x.observe(outputEl, {childList: true});\n",
              "}}\n",
              "\n",
              "                        })\n",
              "                };\n",
              "                \n",
              "            </script>\n",
              "        </div>\n",
              "</body>\n",
              "</html>"
            ]
          },
          "metadata": {
            "tags": []
          }
        }
      ]
    },
    {
      "cell_type": "code",
      "metadata": {
        "colab": {
          "base_uri": "https://localhost:8080/",
          "height": 542
        },
        "id": "zVKjhdTzkBTn",
        "outputId": "90770f1d-c2fb-45b4-9117-ff3ab6bf8fbf"
      },
      "source": [
        "#@title PMI Indicator Correlation\n",
        "\n",
        "fig = rolling_corr_df[[\"PMI Output\", \"PMI New Orders\", \"US Manufacturing PMI stocks\", \"US Service PMI Business activity\", \"US Composite PMI\"]].plot(backend=\"plotly\")\n",
        "fig.update_yaxes(title_text='Correlation')\n",
        "fig.show()"
      ],
      "execution_count": null,
      "outputs": [
        {
          "output_type": "display_data",
          "data": {
            "text/html": [
              "<html>\n",
              "<head><meta charset=\"utf-8\" /></head>\n",
              "<body>\n",
              "    <div>\n",
              "            <script src=\"https://cdnjs.cloudflare.com/ajax/libs/mathjax/2.7.5/MathJax.js?config=TeX-AMS-MML_SVG\"></script><script type=\"text/javascript\">if (window.MathJax) {MathJax.Hub.Config({SVG: {font: \"STIX-Web\"}});}</script>\n",
              "                <script type=\"text/javascript\">window.PlotlyConfig = {MathJaxConfig: 'local'};</script>\n",
              "        <script src=\"https://cdn.plot.ly/plotly-latest.min.js\"></script>    \n",
              "            <div id=\"141af405-9c9e-4613-99b7-e24c4d51fd59\" class=\"plotly-graph-div\" style=\"height:525px; width:100%;\"></div>\n",
              "            <script type=\"text/javascript\">\n",
              "                \n",
              "                    window.PLOTLYENV=window.PLOTLYENV || {};\n",
              "                    \n",
              "                if (document.getElementById(\"141af405-9c9e-4613-99b7-e24c4d51fd59\")) {\n",
              "                    Plotly.newPlot(\n",
              "                        '141af405-9c9e-4613-99b7-e24c4d51fd59',\n",
              "                        [{\"hovertemplate\": \"variable=PMI Output<br>Date=%{x}<br>value=%{y}<extra></extra>\", \"legendgroup\": \"PMI Output\", \"line\": {\"color\": \"#636efa\", \"dash\": \"solid\"}, \"mode\": \"lines\", \"name\": \"PMI Output\", \"orientation\": \"v\", \"showlegend\": true, \"type\": \"scatter\", \"x\": [\"2012-09-28T00:00:00\", \"2012-10-31T00:00:00\", \"2012-11-30T00:00:00\", \"2012-12-31T00:00:00\", \"2013-01-31T00:00:00\", \"2013-02-28T00:00:00\", \"2013-03-29T00:00:00\", \"2013-04-30T00:00:00\", \"2013-05-31T00:00:00\", \"2013-06-28T00:00:00\", \"2013-07-31T00:00:00\", \"2013-08-30T00:00:00\", \"2013-09-30T00:00:00\", \"2013-10-31T00:00:00\", \"2013-11-29T00:00:00\", \"2013-12-31T00:00:00\", \"2014-01-31T00:00:00\", \"2014-02-28T00:00:00\", \"2014-03-31T00:00:00\", \"2014-04-30T00:00:00\", \"2014-05-30T00:00:00\", \"2014-06-30T00:00:00\", \"2014-07-31T00:00:00\", \"2014-08-29T00:00:00\", \"2014-09-30T00:00:00\", \"2014-10-31T00:00:00\", \"2014-11-28T00:00:00\", \"2014-12-31T00:00:00\", \"2015-01-30T00:00:00\", \"2015-02-27T00:00:00\", \"2015-03-31T00:00:00\", \"2015-04-30T00:00:00\", \"2015-05-29T00:00:00\", \"2015-06-30T00:00:00\", \"2015-07-31T00:00:00\", \"2015-08-31T00:00:00\", \"2015-09-30T00:00:00\", \"2015-10-30T00:00:00\", \"2015-11-30T00:00:00\", \"2015-12-31T00:00:00\", \"2016-01-29T00:00:00\", \"2016-02-29T00:00:00\", \"2016-03-31T00:00:00\", \"2016-04-29T00:00:00\", \"2016-05-31T00:00:00\", \"2016-06-30T00:00:00\", \"2016-07-29T00:00:00\", \"2016-08-31T00:00:00\", \"2016-09-30T00:00:00\", \"2016-10-31T00:00:00\", \"2016-11-30T00:00:00\", \"2016-12-30T00:00:00\", \"2017-01-31T00:00:00\", \"2017-02-28T00:00:00\", \"2017-03-31T00:00:00\", \"2017-04-28T00:00:00\", \"2017-05-31T00:00:00\", \"2017-06-30T00:00:00\", \"2017-07-31T00:00:00\", \"2017-08-31T00:00:00\", \"2017-09-29T00:00:00\", \"2017-10-31T00:00:00\", \"2017-11-30T00:00:00\", \"2017-12-29T00:00:00\", \"2018-01-31T00:00:00\", \"2018-02-28T00:00:00\", \"2018-03-30T00:00:00\", \"2018-04-30T00:00:00\", \"2018-05-31T00:00:00\", \"2018-06-29T00:00:00\", \"2018-07-31T00:00:00\", \"2018-08-31T00:00:00\", \"2018-09-28T00:00:00\", \"2018-10-31T00:00:00\", \"2018-11-30T00:00:00\", \"2018-12-31T00:00:00\", \"2019-01-31T00:00:00\", \"2019-02-28T00:00:00\", \"2019-03-29T00:00:00\", \"2019-04-30T00:00:00\", \"2019-05-31T00:00:00\", \"2019-06-28T00:00:00\", \"2019-07-31T00:00:00\", \"2019-08-30T00:00:00\", \"2019-09-30T00:00:00\", \"2019-10-31T00:00:00\", \"2019-11-29T00:00:00\", \"2019-12-31T00:00:00\", \"2020-01-31T00:00:00\", \"2020-02-28T00:00:00\", \"2020-03-31T00:00:00\", \"2020-04-30T00:00:00\", \"2020-05-29T00:00:00\", \"2020-06-30T00:00:00\", \"2020-07-31T00:00:00\", \"2020-08-31T00:00:00\"], \"xaxis\": \"x\", \"y\": [-0.4322224429598411, -0.4692949056594296, -0.4305220074138121, -0.39135403953561254, -0.411826807290885, -0.3893335291951453, -0.32678586832032974, -0.09333146053436488, -0.04919500585426312, -0.02438976451651265, -0.038167204365782866, -0.024941798458184807, -0.03057372690025318, -0.03086257122885622, 0.024631249174233396, 0.09892186736466965, 0.08464996375768422, 0.03515652140077924, -0.013448186903423113, -0.06926624625836114, 0.053347954164533494, 0.167081526602797, 0.23780367293279228, 0.3263033588167013, 0.3761377241761744, 0.3845768452934596, 0.37683774759652283, 0.3636608183403256, 0.3633192084890936, 0.39474679464989987, 0.4126744136143836, 0.39050770018206293, 0.3887949553568375, 0.38223550628345365, 0.3930911872751549, 0.4240539460226466, 0.46955910533310385, 0.5061789658642369, 0.5032602758841869, 0.5248133209884345, 0.5514805902716511, 0.6074556232117581, 0.6484130271321136, 0.671561332133333, 0.6935089838165064, 0.7125997892803048, 0.711754814638661, 0.7113782723353351, 0.7200666371215818, 0.7172719758893682, 0.7110821835647112, 0.7077779973634556, 0.7216587997553644, 0.744557975865761, 0.7607790360944309, 0.784504610139283, 0.7761663113382266, 0.7697190102499168, 0.7644116682870972, 0.7276443639492779, 0.6808736423875835, 0.6529734188867632, 0.6394039711714397, 0.6499842018685456, 0.6554133407498323, 0.631100305754406, 0.5896745505028765, 0.6109137926160997, 0.6172422663109408, 0.5970479542964929, 0.5702105112961772, 0.5568126046110972, 0.5768021596693675, 0.5993492186946593, 0.6167831689467582, 0.6074758504759058, 0.6100886551042756, 0.5785062460839683, 0.527660543458088, 0.4777266451471118, 0.40135347383409514, 0.32735262466345055, 0.3481054575818442, 0.3761211904774985, 0.36744109403632125, 0.4737224821166999, 0.5416746825768589, 0.590211085571286, 0.6982691442134275, 0.7485372062223113, 0.8065483943484525, 0.6861758472600197, 0.7448569824680871, 0.6457333844866405, 0.5481453597924839, 0.5297694789397602], \"yaxis\": \"y\"}, {\"hovertemplate\": \"variable=PMI New Orders<br>Date=%{x}<br>value=%{y}<extra></extra>\", \"legendgroup\": \"PMI New Orders\", \"line\": {\"color\": \"#EF553B\", \"dash\": \"solid\"}, \"mode\": \"lines\", \"name\": \"PMI New Orders\", \"orientation\": \"v\", \"showlegend\": true, \"type\": \"scatter\", \"x\": [\"2012-09-28T00:00:00\", \"2012-10-31T00:00:00\", \"2012-11-30T00:00:00\", \"2012-12-31T00:00:00\", \"2013-01-31T00:00:00\", \"2013-02-28T00:00:00\", \"2013-03-29T00:00:00\", \"2013-04-30T00:00:00\", \"2013-05-31T00:00:00\", \"2013-06-28T00:00:00\", \"2013-07-31T00:00:00\", \"2013-08-30T00:00:00\", \"2013-09-30T00:00:00\", \"2013-10-31T00:00:00\", \"2013-11-29T00:00:00\", \"2013-12-31T00:00:00\", \"2014-01-31T00:00:00\", \"2014-02-28T00:00:00\", \"2014-03-31T00:00:00\", \"2014-04-30T00:00:00\", \"2014-05-30T00:00:00\", \"2014-06-30T00:00:00\", \"2014-07-31T00:00:00\", \"2014-08-29T00:00:00\", \"2014-09-30T00:00:00\", \"2014-10-31T00:00:00\", \"2014-11-28T00:00:00\", \"2014-12-31T00:00:00\", \"2015-01-30T00:00:00\", \"2015-02-27T00:00:00\", \"2015-03-31T00:00:00\", \"2015-04-30T00:00:00\", \"2015-05-29T00:00:00\", \"2015-06-30T00:00:00\", \"2015-07-31T00:00:00\", \"2015-08-31T00:00:00\", \"2015-09-30T00:00:00\", \"2015-10-30T00:00:00\", \"2015-11-30T00:00:00\", \"2015-12-31T00:00:00\", \"2016-01-29T00:00:00\", \"2016-02-29T00:00:00\", \"2016-03-31T00:00:00\", \"2016-04-29T00:00:00\", \"2016-05-31T00:00:00\", \"2016-06-30T00:00:00\", \"2016-07-29T00:00:00\", \"2016-08-31T00:00:00\", \"2016-09-30T00:00:00\", \"2016-10-31T00:00:00\", \"2016-11-30T00:00:00\", \"2016-12-30T00:00:00\", \"2017-01-31T00:00:00\", \"2017-02-28T00:00:00\", \"2017-03-31T00:00:00\", \"2017-04-28T00:00:00\", \"2017-05-31T00:00:00\", \"2017-06-30T00:00:00\", \"2017-07-31T00:00:00\", \"2017-08-31T00:00:00\", \"2017-09-29T00:00:00\", \"2017-10-31T00:00:00\", \"2017-11-30T00:00:00\", \"2017-12-29T00:00:00\", \"2018-01-31T00:00:00\", \"2018-02-28T00:00:00\", \"2018-03-30T00:00:00\", \"2018-04-30T00:00:00\", \"2018-05-31T00:00:00\", \"2018-06-29T00:00:00\", \"2018-07-31T00:00:00\", \"2018-08-31T00:00:00\", \"2018-09-28T00:00:00\", \"2018-10-31T00:00:00\", \"2018-11-30T00:00:00\", \"2018-12-31T00:00:00\", \"2019-01-31T00:00:00\", \"2019-02-28T00:00:00\", \"2019-03-29T00:00:00\", \"2019-04-30T00:00:00\", \"2019-05-31T00:00:00\", \"2019-06-28T00:00:00\", \"2019-07-31T00:00:00\", \"2019-08-30T00:00:00\", \"2019-09-30T00:00:00\", \"2019-10-31T00:00:00\", \"2019-11-29T00:00:00\", \"2019-12-31T00:00:00\", \"2020-01-31T00:00:00\", \"2020-02-28T00:00:00\", \"2020-03-31T00:00:00\", \"2020-04-30T00:00:00\", \"2020-05-29T00:00:00\", \"2020-06-30T00:00:00\", \"2020-07-31T00:00:00\", \"2020-08-31T00:00:00\"], \"xaxis\": \"x\", \"y\": [-0.41028016185275995, -0.617384486481073, -0.5796589621139886, -0.5566197157473763, -0.5693286971534955, -0.5522936302802665, -0.4755309696939644, -0.17819224839520553, -0.16892549993790915, -0.1423278374616249, -0.17328707363204537, -0.13129410587814247, -0.1025594674554804, -0.09129254965188621, -0.04383755870789152, 0.019977677286132842, 0.017183674792505658, -0.07398265984052588, -0.1298505742919629, -0.18463502806245777, -0.07182869431165619, 0.06074604257020303, 0.1350647329351619, 0.232171975447948, 0.28705425374665083, 0.30703176879624333, 0.2938474056653673, 0.29498761220807035, 0.29661505562689505, 0.3153690126718488, 0.32209765419476594, 0.2979597780015323, 0.2910296493249267, 0.28886940216598295, 0.3031518799366452, 0.3282955342131826, 0.35392392482979723, 0.3904691522909516, 0.4096187036507028, 0.4495470447457509, 0.47992549619203817, 0.5128622118739705, 0.5384662078677973, 0.5584360355089766, 0.5778319773367845, 0.5923682676106576, 0.5984057039018581, 0.6140201031767183, 0.6340862933712319, 0.6289840290051381, 0.625533473761647, 0.6233272396524929, 0.630158399653405, 0.6806399095480733, 0.7086146941309156, 0.7470504911380188, 0.7344584601166947, 0.7192174468964356, 0.7110891745593235, 0.6831545055840583, 0.6361295871587277, 0.6068007821828628, 0.5953217362575899, 0.6023241203767942, 0.618260447696743, 0.6351240866815538, 0.6238762902855141, 0.6620158909403835, 0.7072064608177355, 0.6789790917190704, 0.6537743124979628, 0.6438653217705962, 0.655677411546372, 0.679481335455309, 0.6801864556922541, 0.6697609755247665, 0.6690716506647653, 0.64025236823938, 0.6083895207114386, 0.5800594460099903, 0.527718020227647, 0.502534331652684, 0.5314873694805119, 0.5263503322272162, 0.49407843175084887, 0.5581393037903334, 0.6017781204868752, 0.6473271439324811, 0.7432244176622225, 0.7819104450393088, 0.8317456231209424, 0.7269350125118048, 0.7354797747232064, 0.598209890842604, 0.5206535345724912, 0.49644740222623573], \"yaxis\": \"y\"}, {\"hovertemplate\": \"variable=US Manufacturing PMI stocks<br>Date=%{x}<br>value=%{y}<extra></extra>\", \"legendgroup\": \"US Manufacturing PMI stocks\", \"line\": {\"color\": \"#00cc96\", \"dash\": \"solid\"}, \"mode\": \"lines\", \"name\": \"US Manufacturing PMI stocks\", \"orientation\": \"v\", \"showlegend\": true, \"type\": \"scatter\", \"x\": [\"2012-09-28T00:00:00\", \"2012-10-31T00:00:00\", \"2012-11-30T00:00:00\", \"2012-12-31T00:00:00\", \"2013-01-31T00:00:00\", \"2013-02-28T00:00:00\", \"2013-03-29T00:00:00\", \"2013-04-30T00:00:00\", \"2013-05-31T00:00:00\", \"2013-06-28T00:00:00\", \"2013-07-31T00:00:00\", \"2013-08-30T00:00:00\", \"2013-09-30T00:00:00\", \"2013-10-31T00:00:00\", \"2013-11-29T00:00:00\", \"2013-12-31T00:00:00\", \"2014-01-31T00:00:00\", \"2014-02-28T00:00:00\", \"2014-03-31T00:00:00\", \"2014-04-30T00:00:00\", \"2014-05-30T00:00:00\", \"2014-06-30T00:00:00\", \"2014-07-31T00:00:00\", \"2014-08-29T00:00:00\", \"2014-09-30T00:00:00\", \"2014-10-31T00:00:00\", \"2014-11-28T00:00:00\", \"2014-12-31T00:00:00\", \"2015-01-30T00:00:00\", \"2015-02-27T00:00:00\", \"2015-03-31T00:00:00\", \"2015-04-30T00:00:00\", \"2015-05-29T00:00:00\", \"2015-06-30T00:00:00\", \"2015-07-31T00:00:00\", \"2015-08-31T00:00:00\", \"2015-09-30T00:00:00\", \"2015-10-30T00:00:00\", \"2015-11-30T00:00:00\", \"2015-12-31T00:00:00\", \"2016-01-29T00:00:00\", \"2016-02-29T00:00:00\", \"2016-03-31T00:00:00\", \"2016-04-29T00:00:00\", \"2016-05-31T00:00:00\", \"2016-06-30T00:00:00\", \"2016-07-29T00:00:00\", \"2016-08-31T00:00:00\", \"2016-09-30T00:00:00\", \"2016-10-31T00:00:00\", \"2016-11-30T00:00:00\", \"2016-12-30T00:00:00\", \"2017-01-31T00:00:00\", \"2017-02-28T00:00:00\", \"2017-03-31T00:00:00\", \"2017-04-28T00:00:00\", \"2017-05-31T00:00:00\", \"2017-06-30T00:00:00\", \"2017-07-31T00:00:00\", \"2017-08-31T00:00:00\", \"2017-09-29T00:00:00\", \"2017-10-31T00:00:00\", \"2017-11-30T00:00:00\", \"2017-12-29T00:00:00\", \"2018-01-31T00:00:00\", \"2018-02-28T00:00:00\", \"2018-03-30T00:00:00\", \"2018-04-30T00:00:00\", \"2018-05-31T00:00:00\", \"2018-06-29T00:00:00\", \"2018-07-31T00:00:00\", \"2018-08-31T00:00:00\", \"2018-09-28T00:00:00\", \"2018-10-31T00:00:00\", \"2018-11-30T00:00:00\", \"2018-12-31T00:00:00\", \"2019-01-31T00:00:00\", \"2019-02-28T00:00:00\", \"2019-03-29T00:00:00\", \"2019-04-30T00:00:00\", \"2019-05-31T00:00:00\", \"2019-06-28T00:00:00\", \"2019-07-31T00:00:00\", \"2019-08-30T00:00:00\", \"2019-09-30T00:00:00\", \"2019-10-31T00:00:00\", \"2019-11-29T00:00:00\", \"2019-12-31T00:00:00\", \"2020-01-31T00:00:00\", \"2020-02-28T00:00:00\", \"2020-03-31T00:00:00\", \"2020-04-30T00:00:00\", \"2020-05-29T00:00:00\", \"2020-06-30T00:00:00\", \"2020-07-31T00:00:00\", \"2020-08-31T00:00:00\"], \"xaxis\": \"x\", \"y\": [0.5425722718732758, 0.4339163953792381, 0.42154775116321563, 0.25333290755994325, 0.261238289889866, 0.3357475361196112, 0.21301324079970807, 0.1506269741129339, 0.09839015398335162, -0.007916079739232886, 0.056185740744351516, 0.056076073316099935, 0.0514027434583321, 0.008693259739972195, -0.022705746182340118, 0.007489377362883593, -0.04297767841919969, 0.0018444424735977176, 0.022224741826327877, 0.014775696770561576, -0.015867360205315515, -0.11869831228334031, -0.07434760808634583, 0.024109838739296924, 0.07963233044895114, 0.08140360497463224, 0.09282844855668511, 0.08589685737471431, 0.1058012785075592, 0.19978657037532796, 0.23225155882724677, 0.24916478487483013, 0.25362498358555996, 0.25902014088906145, 0.2650414946885615, 0.2717224056711353, 0.269506355425561, 0.28352397773422955, 0.2846955892484016, 0.24097410631376254, 0.23152060833879065, 0.22731686246601585, 0.21788123567784434, 0.24171937639875454, 0.20768226188632685, 0.24191684817892495, 0.22040038870875434, 0.23163834820880644, 0.24524314895970717, 0.21886093638484308, 0.2340001537285204, 0.22323048742761778, 0.2860311552236134, 0.27487274487948976, 0.2557483619191692, 0.2530363877718766, 0.3085455249868737, 0.5168128552038774, 0.5169314251887155, 0.49329718887147067, 0.4917550754816738, 0.5081617508513915, 0.46811110121171096, 0.43265127827844074, 0.44390881024646917, 0.415372613311186, 0.38547480449470156, 0.3741372453850373, 0.38153162719626144, 0.3874528608390893, 0.38254988859566097, 0.40219923815470265, 0.36436800026071464, 0.2537763078348793, 0.2273275295140008, 0.19354722129772464, 0.17995453542263426, 0.17042120075369407, 0.15913637630315045, 0.10648575138730791, 0.1423648831377014, 0.11376075742354026, 0.06223915089206668, 0.015477445703940731, -0.06939354496197901, -0.05523361453622396, -0.05696020904918386, -0.0158414026779945, 0.07858257210152554, 0.1979768387870595, 0.2973833388172459, 0.4773464257722243, 0.7767387706861907, 0.7179845887528428, 0.65506852467653, 0.6273190800476011], \"yaxis\": \"y\"}, {\"hovertemplate\": \"variable=US Service PMI Business activity<br>Date=%{x}<br>value=%{y}<extra></extra>\", \"legendgroup\": \"US Service PMI Business activity\", \"line\": {\"color\": \"#ab63fa\", \"dash\": \"solid\"}, \"mode\": \"lines\", \"name\": \"US Service PMI Business activity\", \"orientation\": \"v\", \"showlegend\": true, \"type\": \"scatter\", \"x\": [\"2012-09-28T00:00:00\", \"2012-10-31T00:00:00\", \"2012-11-30T00:00:00\", \"2012-12-31T00:00:00\", \"2013-01-31T00:00:00\", \"2013-02-28T00:00:00\", \"2013-03-29T00:00:00\", \"2013-04-30T00:00:00\", \"2013-05-31T00:00:00\", \"2013-06-28T00:00:00\", \"2013-07-31T00:00:00\", \"2013-08-30T00:00:00\", \"2013-09-30T00:00:00\", \"2013-10-31T00:00:00\", \"2013-11-29T00:00:00\", \"2013-12-31T00:00:00\", \"2014-01-31T00:00:00\", \"2014-02-28T00:00:00\", \"2014-03-31T00:00:00\", \"2014-04-30T00:00:00\", \"2014-05-30T00:00:00\", \"2014-06-30T00:00:00\", \"2014-07-31T00:00:00\", \"2014-08-29T00:00:00\", \"2014-09-30T00:00:00\", \"2014-10-31T00:00:00\", \"2014-11-28T00:00:00\", \"2014-12-31T00:00:00\", \"2015-01-30T00:00:00\", \"2015-02-27T00:00:00\", \"2015-03-31T00:00:00\", \"2015-04-30T00:00:00\", \"2015-05-29T00:00:00\", \"2015-06-30T00:00:00\", \"2015-07-31T00:00:00\", \"2015-08-31T00:00:00\", \"2015-09-30T00:00:00\", \"2015-10-30T00:00:00\", \"2015-11-30T00:00:00\", \"2015-12-31T00:00:00\", \"2016-01-29T00:00:00\", \"2016-02-29T00:00:00\", \"2016-03-31T00:00:00\", \"2016-04-29T00:00:00\", \"2016-05-31T00:00:00\", \"2016-06-30T00:00:00\", \"2016-07-29T00:00:00\", \"2016-08-31T00:00:00\", \"2016-09-30T00:00:00\", \"2016-10-31T00:00:00\", \"2016-11-30T00:00:00\", \"2016-12-30T00:00:00\", \"2017-01-31T00:00:00\", \"2017-02-28T00:00:00\", \"2017-03-31T00:00:00\", \"2017-04-28T00:00:00\", \"2017-05-31T00:00:00\", \"2017-06-30T00:00:00\", \"2017-07-31T00:00:00\", \"2017-08-31T00:00:00\", \"2017-09-29T00:00:00\", \"2017-10-31T00:00:00\", \"2017-11-30T00:00:00\", \"2017-12-29T00:00:00\", \"2018-01-31T00:00:00\", \"2018-02-28T00:00:00\", \"2018-03-30T00:00:00\", \"2018-04-30T00:00:00\", \"2018-05-31T00:00:00\", \"2018-06-29T00:00:00\", \"2018-07-31T00:00:00\", \"2018-08-31T00:00:00\", \"2018-09-28T00:00:00\", \"2018-10-31T00:00:00\", \"2018-11-30T00:00:00\", \"2018-12-31T00:00:00\", \"2019-01-31T00:00:00\", \"2019-02-28T00:00:00\", \"2019-03-29T00:00:00\", \"2019-04-30T00:00:00\", \"2019-05-31T00:00:00\", \"2019-06-28T00:00:00\", \"2019-07-31T00:00:00\", \"2019-08-30T00:00:00\", \"2019-09-30T00:00:00\", \"2019-10-31T00:00:00\", \"2019-11-29T00:00:00\", \"2019-12-31T00:00:00\", \"2020-01-31T00:00:00\", \"2020-02-28T00:00:00\", \"2020-03-31T00:00:00\", \"2020-04-30T00:00:00\", \"2020-05-29T00:00:00\", \"2020-06-30T00:00:00\", \"2020-07-31T00:00:00\", \"2020-08-31T00:00:00\"], \"xaxis\": \"x\", \"y\": [-0.1411848973079092, -0.3026320254319931, -0.3535431282550732, -0.3191086315972858, -0.27979885760253204, -0.16195310936286733, -0.01597577432140017, 0.15445286417157048, 0.15104186455010912, 0.10605991737483407, 0.04032816328074387, -0.013225888044467147, -0.05576240259301007, 0.0054315679117018, 0.035548894733086034, 0.03786450883187773, 0.058773864899559734, 0.08544474946234337, 0.07811881758055626, 0.07507951303284716, 0.14446045913920408, 0.2454960828162802, 0.31850751238365765, 0.3741040925840648, 0.41360166812107424, 0.43272086114647323, 0.4346189870114477, 0.42514322915832503, 0.4434855758878541, 0.44166709484024536, 0.4603646540045036, 0.46695345577629305, 0.4694403379840173, 0.4707318142833802, 0.4907558157772753, 0.5029465338713152, 0.5473074423967859, 0.5740023232564228, 0.5487784072325891, 0.551639575327124, 0.5658430207969986, 0.6042599141490219, 0.6284882243880919, 0.6401857863349506, 0.6700072010485669, 0.7099448375939224, 0.75768294133602, 0.7783497269875366, 0.8006380050318117, 0.8208871481500974, 0.8214439361087497, 0.8222901834221374, 0.8188832786309514, 0.8071686550005842, 0.7948583879205532, 0.7859103255964845, 0.7761801445635015, 0.7800427297918672, 0.7885440327845136, 0.774723739581102, 0.7568973606552414, 0.7433755945569303, 0.7251164553746051, 0.7218954744128884, 0.6975165540795979, 0.682240881134959, 0.615382246872051, 0.5674178664051606, 0.6018348537953454, 0.6295930902372181, 0.6408396705195113, 0.6624813567089846, 0.6420538692220789, 0.6519582859750609, 0.7105207690235585, 0.7268290368581791, 0.7258269298387486, 0.6999591573583609, 0.6725434753894459, 0.6560122481347919, 0.6049687693840868, 0.5619513058868582, 0.5161161101646025, 0.4550757301497948, 0.43156171823231415, 0.5183421801775294, 0.5521168499961592, 0.5696203397002635, 0.6299578176701387, 0.7023691360964476, 0.7287662309621934, 0.6946081919642236, 0.6561526439499775, 0.5695338685761605, 0.5093275232369581, 0.4749379717383344], \"yaxis\": \"y\"}, {\"hovertemplate\": \"variable=US Composite PMI<br>Date=%{x}<br>value=%{y}<extra></extra>\", \"legendgroup\": \"US Composite PMI\", \"line\": {\"color\": \"#FFA15A\", \"dash\": \"solid\"}, \"mode\": \"lines\", \"name\": \"US Composite PMI\", \"orientation\": \"v\", \"showlegend\": true, \"type\": \"scatter\", \"x\": [\"2012-09-28T00:00:00\", \"2012-10-31T00:00:00\", \"2012-11-30T00:00:00\", \"2012-12-31T00:00:00\", \"2013-01-31T00:00:00\", \"2013-02-28T00:00:00\", \"2013-03-29T00:00:00\", \"2013-04-30T00:00:00\", \"2013-05-31T00:00:00\", \"2013-06-28T00:00:00\", \"2013-07-31T00:00:00\", \"2013-08-30T00:00:00\", \"2013-09-30T00:00:00\", \"2013-10-31T00:00:00\", \"2013-11-29T00:00:00\", \"2013-12-31T00:00:00\", \"2014-01-31T00:00:00\", \"2014-02-28T00:00:00\", \"2014-03-31T00:00:00\", \"2014-04-30T00:00:00\", \"2014-05-30T00:00:00\", \"2014-06-30T00:00:00\", \"2014-07-31T00:00:00\", \"2014-08-29T00:00:00\", \"2014-09-30T00:00:00\", \"2014-10-31T00:00:00\", \"2014-11-28T00:00:00\", \"2014-12-31T00:00:00\", \"2015-01-30T00:00:00\", \"2015-02-27T00:00:00\", \"2015-03-31T00:00:00\", \"2015-04-30T00:00:00\", \"2015-05-29T00:00:00\", \"2015-06-30T00:00:00\", \"2015-07-31T00:00:00\", \"2015-08-31T00:00:00\", \"2015-09-30T00:00:00\", \"2015-10-30T00:00:00\", \"2015-11-30T00:00:00\", \"2015-12-31T00:00:00\", \"2016-01-29T00:00:00\", \"2016-02-29T00:00:00\", \"2016-03-31T00:00:00\", \"2016-04-29T00:00:00\", \"2016-05-31T00:00:00\", \"2016-06-30T00:00:00\", \"2016-07-29T00:00:00\", \"2016-08-31T00:00:00\", \"2016-09-30T00:00:00\", \"2016-10-31T00:00:00\", \"2016-11-30T00:00:00\", \"2016-12-30T00:00:00\", \"2017-01-31T00:00:00\", \"2017-02-28T00:00:00\", \"2017-03-31T00:00:00\", \"2017-04-28T00:00:00\", \"2017-05-31T00:00:00\", \"2017-06-30T00:00:00\", \"2017-07-31T00:00:00\", \"2017-08-31T00:00:00\", \"2017-09-29T00:00:00\", \"2017-10-31T00:00:00\", \"2017-11-30T00:00:00\", \"2017-12-29T00:00:00\", \"2018-01-31T00:00:00\", \"2018-02-28T00:00:00\", \"2018-03-30T00:00:00\", \"2018-04-30T00:00:00\", \"2018-05-31T00:00:00\", \"2018-06-29T00:00:00\", \"2018-07-31T00:00:00\", \"2018-08-31T00:00:00\", \"2018-09-28T00:00:00\", \"2018-10-31T00:00:00\", \"2018-11-30T00:00:00\", \"2018-12-31T00:00:00\", \"2019-01-31T00:00:00\", \"2019-02-28T00:00:00\", \"2019-03-29T00:00:00\", \"2019-04-30T00:00:00\", \"2019-05-31T00:00:00\", \"2019-06-28T00:00:00\", \"2019-07-31T00:00:00\", \"2019-08-30T00:00:00\", \"2019-09-30T00:00:00\", \"2019-10-31T00:00:00\", \"2019-11-29T00:00:00\", \"2019-12-31T00:00:00\", \"2020-01-31T00:00:00\", \"2020-02-28T00:00:00\", \"2020-03-31T00:00:00\", \"2020-04-30T00:00:00\", \"2020-05-29T00:00:00\", \"2020-06-30T00:00:00\", \"2020-07-31T00:00:00\", \"2020-08-31T00:00:00\"], \"xaxis\": \"x\", \"y\": [-0.20672539540712198, -0.3488006148070653, -0.3827419981835348, -0.34646954520825973, -0.3216267505350562, -0.22338073840546216, -0.09076572675713647, 0.10109013374943629, 0.11189033921021982, 0.0808126099391325, 0.02326067480705843, -0.018151696943064368, -0.0547339477586886, 0.0013334817058704754, 0.037130380199334984, 0.05351533337107673, 0.06961715169748321, 0.08533288801637355, 0.07220089303563809, 0.05861183068009743, 0.14255774378006958, 0.24965009813524644, 0.32434994224116914, 0.3865050150313536, 0.42765537624956496, 0.4443037402525182, 0.44432776912034555, 0.4325063536515669, 0.44690367365656986, 0.45038619402890867, 0.4697644545936773, 0.47081771134337513, 0.4718303101368496, 0.4719796223660237, 0.4928259346532207, 0.5125553692415511, 0.5630950705619737, 0.5947029145074414, 0.5732919862833814, 0.5806324664316468, 0.5946988765473594, 0.6317169664637158, 0.6557887623895536, 0.670170872018786, 0.6974687725337936, 0.7318598714723519, 0.7715243415907356, 0.786501595452929, 0.8054870097536376, 0.8228380563364432, 0.822348147773834, 0.8220378716286483, 0.8192511969247123, 0.8105660313776725, 0.80233803532401, 0.7979310889035159, 0.7883382285030154, 0.7930421197582895, 0.8014001870726516, 0.7897003492604264, 0.7722433470968472, 0.7575812888199066, 0.740099364933145, 0.7414096954783217, 0.7243901642863839, 0.707314339381851, 0.650324245376248, 0.6150699086151371, 0.6435703831210765, 0.6647039552402538, 0.6695391249104223, 0.6843442149660491, 0.6731814445589077, 0.6881262766473341, 0.7447633596386853, 0.7558007388391524, 0.7558928981209392, 0.738769734733764, 0.7187085729148066, 0.6951314622128917, 0.6337973542119851, 0.5815326768331285, 0.541800079875469, 0.4843637137574121, 0.45766540675095324, 0.5529339953160518, 0.5962371614141982, 0.6198600869478196, 0.695914867626994, 0.7597626746134006, 0.7620828930784064, 0.6996392467621669, 0.6754421215959964, 0.5849524272095488, 0.518379844630544, 0.48622489380217426], \"yaxis\": \"y\"}],\n",
              "                        {\"legend\": {\"title\": {\"text\": \"variable\"}, \"tracegroupgap\": 0}, \"margin\": {\"t\": 60}, \"template\": {\"data\": {\"bar\": [{\"error_x\": {\"color\": \"#2a3f5f\"}, \"error_y\": {\"color\": \"#2a3f5f\"}, \"marker\": {\"line\": {\"color\": \"#E5ECF6\", \"width\": 0.5}}, \"type\": \"bar\"}], \"barpolar\": [{\"marker\": {\"line\": {\"color\": \"#E5ECF6\", \"width\": 0.5}}, \"type\": \"barpolar\"}], \"carpet\": [{\"aaxis\": {\"endlinecolor\": \"#2a3f5f\", \"gridcolor\": \"white\", \"linecolor\": \"white\", \"minorgridcolor\": \"white\", \"startlinecolor\": \"#2a3f5f\"}, \"baxis\": {\"endlinecolor\": \"#2a3f5f\", \"gridcolor\": \"white\", \"linecolor\": \"white\", \"minorgridcolor\": \"white\", \"startlinecolor\": \"#2a3f5f\"}, \"type\": \"carpet\"}], \"choropleth\": [{\"colorbar\": {\"outlinewidth\": 0, \"ticks\": \"\"}, \"type\": \"choropleth\"}], \"contour\": [{\"colorbar\": {\"outlinewidth\": 0, \"ticks\": \"\"}, \"colorscale\": [[0.0, \"#0d0887\"], [0.1111111111111111, \"#46039f\"], [0.2222222222222222, \"#7201a8\"], [0.3333333333333333, \"#9c179e\"], [0.4444444444444444, \"#bd3786\"], [0.5555555555555556, \"#d8576b\"], [0.6666666666666666, \"#ed7953\"], [0.7777777777777778, \"#fb9f3a\"], [0.8888888888888888, \"#fdca26\"], [1.0, \"#f0f921\"]], \"type\": \"contour\"}], \"contourcarpet\": [{\"colorbar\": {\"outlinewidth\": 0, \"ticks\": \"\"}, \"type\": \"contourcarpet\"}], \"heatmap\": [{\"colorbar\": {\"outlinewidth\": 0, \"ticks\": \"\"}, \"colorscale\": [[0.0, \"#0d0887\"], [0.1111111111111111, \"#46039f\"], [0.2222222222222222, \"#7201a8\"], [0.3333333333333333, \"#9c179e\"], [0.4444444444444444, \"#bd3786\"], [0.5555555555555556, \"#d8576b\"], [0.6666666666666666, \"#ed7953\"], [0.7777777777777778, \"#fb9f3a\"], [0.8888888888888888, \"#fdca26\"], [1.0, \"#f0f921\"]], \"type\": \"heatmap\"}], \"heatmapgl\": [{\"colorbar\": {\"outlinewidth\": 0, \"ticks\": \"\"}, \"colorscale\": [[0.0, \"#0d0887\"], [0.1111111111111111, \"#46039f\"], [0.2222222222222222, \"#7201a8\"], [0.3333333333333333, \"#9c179e\"], [0.4444444444444444, \"#bd3786\"], [0.5555555555555556, \"#d8576b\"], [0.6666666666666666, \"#ed7953\"], [0.7777777777777778, \"#fb9f3a\"], [0.8888888888888888, \"#fdca26\"], [1.0, \"#f0f921\"]], \"type\": \"heatmapgl\"}], \"histogram\": [{\"marker\": {\"colorbar\": {\"outlinewidth\": 0, \"ticks\": \"\"}}, \"type\": \"histogram\"}], \"histogram2d\": [{\"colorbar\": {\"outlinewidth\": 0, \"ticks\": \"\"}, \"colorscale\": [[0.0, \"#0d0887\"], [0.1111111111111111, \"#46039f\"], [0.2222222222222222, \"#7201a8\"], [0.3333333333333333, \"#9c179e\"], [0.4444444444444444, \"#bd3786\"], [0.5555555555555556, \"#d8576b\"], [0.6666666666666666, \"#ed7953\"], [0.7777777777777778, \"#fb9f3a\"], [0.8888888888888888, \"#fdca26\"], [1.0, \"#f0f921\"]], \"type\": \"histogram2d\"}], \"histogram2dcontour\": [{\"colorbar\": {\"outlinewidth\": 0, \"ticks\": \"\"}, \"colorscale\": [[0.0, \"#0d0887\"], [0.1111111111111111, \"#46039f\"], [0.2222222222222222, \"#7201a8\"], [0.3333333333333333, \"#9c179e\"], [0.4444444444444444, \"#bd3786\"], [0.5555555555555556, \"#d8576b\"], [0.6666666666666666, \"#ed7953\"], [0.7777777777777778, \"#fb9f3a\"], [0.8888888888888888, \"#fdca26\"], [1.0, \"#f0f921\"]], \"type\": \"histogram2dcontour\"}], \"mesh3d\": [{\"colorbar\": {\"outlinewidth\": 0, \"ticks\": \"\"}, \"type\": \"mesh3d\"}], \"parcoords\": [{\"line\": {\"colorbar\": {\"outlinewidth\": 0, \"ticks\": \"\"}}, \"type\": \"parcoords\"}], \"pie\": [{\"automargin\": true, \"type\": \"pie\"}], \"scatter\": [{\"marker\": {\"colorbar\": {\"outlinewidth\": 0, \"ticks\": \"\"}}, \"type\": \"scatter\"}], \"scatter3d\": [{\"line\": {\"colorbar\": {\"outlinewidth\": 0, \"ticks\": \"\"}}, \"marker\": {\"colorbar\": {\"outlinewidth\": 0, \"ticks\": \"\"}}, \"type\": \"scatter3d\"}], \"scattercarpet\": [{\"marker\": {\"colorbar\": {\"outlinewidth\": 0, \"ticks\": \"\"}}, \"type\": \"scattercarpet\"}], \"scattergeo\": [{\"marker\": {\"colorbar\": {\"outlinewidth\": 0, \"ticks\": \"\"}}, \"type\": \"scattergeo\"}], \"scattergl\": [{\"marker\": {\"colorbar\": {\"outlinewidth\": 0, \"ticks\": \"\"}}, \"type\": \"scattergl\"}], \"scattermapbox\": [{\"marker\": {\"colorbar\": {\"outlinewidth\": 0, \"ticks\": \"\"}}, \"type\": \"scattermapbox\"}], \"scatterpolar\": [{\"marker\": {\"colorbar\": {\"outlinewidth\": 0, \"ticks\": \"\"}}, \"type\": \"scatterpolar\"}], \"scatterpolargl\": [{\"marker\": {\"colorbar\": {\"outlinewidth\": 0, \"ticks\": \"\"}}, \"type\": \"scatterpolargl\"}], \"scatterternary\": [{\"marker\": {\"colorbar\": {\"outlinewidth\": 0, \"ticks\": \"\"}}, \"type\": \"scatterternary\"}], \"surface\": [{\"colorbar\": {\"outlinewidth\": 0, \"ticks\": \"\"}, \"colorscale\": [[0.0, \"#0d0887\"], [0.1111111111111111, \"#46039f\"], [0.2222222222222222, \"#7201a8\"], [0.3333333333333333, \"#9c179e\"], [0.4444444444444444, \"#bd3786\"], [0.5555555555555556, \"#d8576b\"], [0.6666666666666666, \"#ed7953\"], [0.7777777777777778, \"#fb9f3a\"], [0.8888888888888888, \"#fdca26\"], [1.0, \"#f0f921\"]], \"type\": \"surface\"}], \"table\": [{\"cells\": {\"fill\": {\"color\": \"#EBF0F8\"}, \"line\": {\"color\": \"white\"}}, \"header\": {\"fill\": {\"color\": \"#C8D4E3\"}, \"line\": {\"color\": \"white\"}}, \"type\": \"table\"}]}, \"layout\": {\"annotationdefaults\": {\"arrowcolor\": \"#2a3f5f\", \"arrowhead\": 0, \"arrowwidth\": 1}, \"coloraxis\": {\"colorbar\": {\"outlinewidth\": 0, \"ticks\": \"\"}}, \"colorscale\": {\"diverging\": [[0, \"#8e0152\"], [0.1, \"#c51b7d\"], [0.2, \"#de77ae\"], [0.3, \"#f1b6da\"], [0.4, \"#fde0ef\"], [0.5, \"#f7f7f7\"], [0.6, \"#e6f5d0\"], [0.7, \"#b8e186\"], [0.8, \"#7fbc41\"], [0.9, \"#4d9221\"], [1, \"#276419\"]], \"sequential\": [[0.0, \"#0d0887\"], [0.1111111111111111, \"#46039f\"], [0.2222222222222222, \"#7201a8\"], [0.3333333333333333, \"#9c179e\"], [0.4444444444444444, \"#bd3786\"], [0.5555555555555556, \"#d8576b\"], [0.6666666666666666, \"#ed7953\"], [0.7777777777777778, \"#fb9f3a\"], [0.8888888888888888, \"#fdca26\"], [1.0, \"#f0f921\"]], \"sequentialminus\": [[0.0, \"#0d0887\"], [0.1111111111111111, \"#46039f\"], [0.2222222222222222, \"#7201a8\"], [0.3333333333333333, \"#9c179e\"], [0.4444444444444444, \"#bd3786\"], [0.5555555555555556, \"#d8576b\"], [0.6666666666666666, \"#ed7953\"], [0.7777777777777778, \"#fb9f3a\"], [0.8888888888888888, \"#fdca26\"], [1.0, \"#f0f921\"]]}, \"colorway\": [\"#636efa\", \"#EF553B\", \"#00cc96\", \"#ab63fa\", \"#FFA15A\", \"#19d3f3\", \"#FF6692\", \"#B6E880\", \"#FF97FF\", \"#FECB52\"], \"font\": {\"color\": \"#2a3f5f\"}, \"geo\": {\"bgcolor\": \"white\", \"lakecolor\": \"white\", \"landcolor\": \"#E5ECF6\", \"showlakes\": true, \"showland\": true, \"subunitcolor\": \"white\"}, \"hoverlabel\": {\"align\": \"left\"}, \"hovermode\": \"closest\", \"mapbox\": {\"style\": \"light\"}, \"paper_bgcolor\": \"white\", \"plot_bgcolor\": \"#E5ECF6\", \"polar\": {\"angularaxis\": {\"gridcolor\": \"white\", \"linecolor\": \"white\", \"ticks\": \"\"}, \"bgcolor\": \"#E5ECF6\", \"radialaxis\": {\"gridcolor\": \"white\", \"linecolor\": \"white\", \"ticks\": \"\"}}, \"scene\": {\"xaxis\": {\"backgroundcolor\": \"#E5ECF6\", \"gridcolor\": \"white\", \"gridwidth\": 2, \"linecolor\": \"white\", \"showbackground\": true, \"ticks\": \"\", \"zerolinecolor\": \"white\"}, \"yaxis\": {\"backgroundcolor\": \"#E5ECF6\", \"gridcolor\": \"white\", \"gridwidth\": 2, \"linecolor\": \"white\", \"showbackground\": true, \"ticks\": \"\", \"zerolinecolor\": \"white\"}, \"zaxis\": {\"backgroundcolor\": \"#E5ECF6\", \"gridcolor\": \"white\", \"gridwidth\": 2, \"linecolor\": \"white\", \"showbackground\": true, \"ticks\": \"\", \"zerolinecolor\": \"white\"}}, \"shapedefaults\": {\"line\": {\"color\": \"#2a3f5f\"}}, \"ternary\": {\"aaxis\": {\"gridcolor\": \"white\", \"linecolor\": \"white\", \"ticks\": \"\"}, \"baxis\": {\"gridcolor\": \"white\", \"linecolor\": \"white\", \"ticks\": \"\"}, \"bgcolor\": \"#E5ECF6\", \"caxis\": {\"gridcolor\": \"white\", \"linecolor\": \"white\", \"ticks\": \"\"}}, \"title\": {\"x\": 0.05}, \"xaxis\": {\"automargin\": true, \"gridcolor\": \"white\", \"linecolor\": \"white\", \"ticks\": \"\", \"title\": {\"standoff\": 15}, \"zerolinecolor\": \"white\", \"zerolinewidth\": 2}, \"yaxis\": {\"automargin\": true, \"gridcolor\": \"white\", \"linecolor\": \"white\", \"ticks\": \"\", \"title\": {\"standoff\": 15}, \"zerolinecolor\": \"white\", \"zerolinewidth\": 2}}}, \"xaxis\": {\"anchor\": \"y\", \"domain\": [0.0, 1.0], \"title\": {\"text\": \"Date\"}}, \"yaxis\": {\"anchor\": \"x\", \"domain\": [0.0, 1.0], \"title\": {\"text\": \"Correlation\"}}},\n",
              "                        {\"responsive\": true}\n",
              "                    ).then(function(){\n",
              "                            \n",
              "var gd = document.getElementById('141af405-9c9e-4613-99b7-e24c4d51fd59');\n",
              "var x = new MutationObserver(function (mutations, observer) {{\n",
              "        var display = window.getComputedStyle(gd).display;\n",
              "        if (!display || display === 'none') {{\n",
              "            console.log([gd, 'removed!']);\n",
              "            Plotly.purge(gd);\n",
              "            observer.disconnect();\n",
              "        }}\n",
              "}});\n",
              "\n",
              "// Listen for the removal of the full notebook cells\n",
              "var notebookContainer = gd.closest('#notebook-container');\n",
              "if (notebookContainer) {{\n",
              "    x.observe(notebookContainer, {childList: true});\n",
              "}}\n",
              "\n",
              "// Listen for the clearing of the current output cell\n",
              "var outputEl = gd.closest('.output');\n",
              "if (outputEl) {{\n",
              "    x.observe(outputEl, {childList: true});\n",
              "}}\n",
              "\n",
              "                        })\n",
              "                };\n",
              "                \n",
              "            </script>\n",
              "        </div>\n",
              "</body>\n",
              "</html>"
            ]
          },
          "metadata": {
            "tags": []
          }
        }
      ]
    },
    {
      "cell_type": "code",
      "metadata": {
        "colab": {
          "base_uri": "https://localhost:8080/",
          "height": 542
        },
        "id": "w8x5Itw_lOl5",
        "outputId": "a9fbcb40-e951-4a35-a802-076cb9bfb03b"
      },
      "source": [
        "#@title Wages, Savings and Prices Correlation\n",
        "\n",
        "\n",
        "fig = rolling_corr_df[[\"disposable income as % of saving\", \"US Retail Sales\", \"average hourly earning\", \"Consumer Price Index (CPI)\"]].plot(backend=\"plotly\")\n",
        "fig.update_yaxes(title_text='Correlation')\n",
        "fig.show()"
      ],
      "execution_count": null,
      "outputs": [
        {
          "output_type": "display_data",
          "data": {
            "text/html": [
              "<html>\n",
              "<head><meta charset=\"utf-8\" /></head>\n",
              "<body>\n",
              "    <div>\n",
              "            <script src=\"https://cdnjs.cloudflare.com/ajax/libs/mathjax/2.7.5/MathJax.js?config=TeX-AMS-MML_SVG\"></script><script type=\"text/javascript\">if (window.MathJax) {MathJax.Hub.Config({SVG: {font: \"STIX-Web\"}});}</script>\n",
              "                <script type=\"text/javascript\">window.PlotlyConfig = {MathJaxConfig: 'local'};</script>\n",
              "        <script src=\"https://cdn.plot.ly/plotly-latest.min.js\"></script>    \n",
              "            <div id=\"d5ef2e4f-d9e7-4722-9336-c45e2ac9e933\" class=\"plotly-graph-div\" style=\"height:525px; width:100%;\"></div>\n",
              "            <script type=\"text/javascript\">\n",
              "                \n",
              "                    window.PLOTLYENV=window.PLOTLYENV || {};\n",
              "                    \n",
              "                if (document.getElementById(\"d5ef2e4f-d9e7-4722-9336-c45e2ac9e933\")) {\n",
              "                    Plotly.newPlot(\n",
              "                        'd5ef2e4f-d9e7-4722-9336-c45e2ac9e933',\n",
              "                        [{\"hovertemplate\": \"variable=disposable income as % of saving<br>Date=%{x}<br>value=%{y}<extra></extra>\", \"legendgroup\": \"disposable income as % of saving\", \"line\": {\"color\": \"#636efa\", \"dash\": \"solid\"}, \"mode\": \"lines\", \"name\": \"disposable income as % of saving\", \"orientation\": \"v\", \"showlegend\": true, \"type\": \"scatter\", \"x\": [\"2012-09-28T00:00:00\", \"2012-10-31T00:00:00\", \"2012-11-30T00:00:00\", \"2012-12-31T00:00:00\", \"2013-01-31T00:00:00\", \"2013-02-28T00:00:00\", \"2013-03-29T00:00:00\", \"2013-04-30T00:00:00\", \"2013-05-31T00:00:00\", \"2013-06-28T00:00:00\", \"2013-07-31T00:00:00\", \"2013-08-30T00:00:00\", \"2013-09-30T00:00:00\", \"2013-10-31T00:00:00\", \"2013-11-29T00:00:00\", \"2013-12-31T00:00:00\", \"2014-01-31T00:00:00\", \"2014-02-28T00:00:00\", \"2014-03-31T00:00:00\", \"2014-04-30T00:00:00\", \"2014-05-30T00:00:00\", \"2014-06-30T00:00:00\", \"2014-07-31T00:00:00\", \"2014-08-29T00:00:00\", \"2014-09-30T00:00:00\", \"2014-10-31T00:00:00\", \"2014-11-28T00:00:00\", \"2014-12-31T00:00:00\", \"2015-01-30T00:00:00\", \"2015-02-27T00:00:00\", \"2015-03-31T00:00:00\", \"2015-04-30T00:00:00\", \"2015-05-29T00:00:00\", \"2015-06-30T00:00:00\", \"2015-07-31T00:00:00\", \"2015-08-31T00:00:00\", \"2015-09-30T00:00:00\", \"2015-10-30T00:00:00\", \"2015-11-30T00:00:00\", \"2015-12-31T00:00:00\", \"2016-01-29T00:00:00\", \"2016-02-29T00:00:00\", \"2016-03-31T00:00:00\", \"2016-04-29T00:00:00\", \"2016-05-31T00:00:00\", \"2016-06-30T00:00:00\", \"2016-07-29T00:00:00\", \"2016-08-31T00:00:00\", \"2016-09-30T00:00:00\", \"2016-10-31T00:00:00\", \"2016-11-30T00:00:00\", \"2016-12-30T00:00:00\", \"2017-01-31T00:00:00\", \"2017-02-28T00:00:00\", \"2017-03-31T00:00:00\", \"2017-04-28T00:00:00\", \"2017-05-31T00:00:00\", \"2017-06-30T00:00:00\", \"2017-07-31T00:00:00\", \"2017-08-31T00:00:00\", \"2017-09-29T00:00:00\", \"2017-10-31T00:00:00\", \"2017-11-30T00:00:00\", \"2017-12-29T00:00:00\", \"2018-01-31T00:00:00\", \"2018-02-28T00:00:00\", \"2018-03-30T00:00:00\", \"2018-04-30T00:00:00\", \"2018-05-31T00:00:00\", \"2018-06-29T00:00:00\", \"2018-07-31T00:00:00\", \"2018-08-31T00:00:00\", \"2018-09-28T00:00:00\", \"2018-10-31T00:00:00\", \"2018-11-30T00:00:00\", \"2018-12-31T00:00:00\", \"2019-01-31T00:00:00\", \"2019-02-28T00:00:00\", \"2019-03-29T00:00:00\", \"2019-04-30T00:00:00\", \"2019-05-31T00:00:00\", \"2019-06-28T00:00:00\", \"2019-07-31T00:00:00\", \"2019-08-30T00:00:00\", \"2019-09-30T00:00:00\", \"2019-10-31T00:00:00\", \"2019-11-29T00:00:00\", \"2019-12-31T00:00:00\", \"2020-01-31T00:00:00\", \"2020-02-28T00:00:00\", \"2020-03-31T00:00:00\", \"2020-04-30T00:00:00\", \"2020-05-29T00:00:00\", \"2020-06-30T00:00:00\", \"2020-07-31T00:00:00\", \"2020-08-31T00:00:00\"], \"xaxis\": \"x\", \"y\": [0.6775010360507839, 0.6554247392714003, 0.5614662344436695, 0.3748459818746259, 0.3384900709208998, 0.29286633615818797, 0.23269858003140756, 0.20448766466364737, 0.23176946685518598, 0.25314458516648347, 0.2816833593361446, 0.3182549060098028, 0.36506627222403637, 0.42281266602598544, 0.3905198912265917, 0.35965152314862786, 0.3466641572397956, 0.34853096847818854, 0.348385956990771, 0.34948666905111464, 0.3312700443137269, 0.31867173036926033, 0.30766876247944536, 0.2774392737781175, 0.25405941414427574, 0.2236844160430606, 0.21329626485645392, 0.22029293032952266, 0.23644721270382227, 0.2452030683217882, 0.2257723405307703, 0.20096708842757846, 0.2013776691866503, 0.20316301899822095, 0.20155694003311603, 0.19867348292560777, 0.19214792727544808, 0.18140918843246095, 0.23608755622969557, 0.5249916859377237, 0.47151315100608937, 0.438527979537036, 0.38261394726799064, 0.36706160449123704, 0.3626108195580178, 0.3925654261322099, 0.40113677160645705, 0.4296777439085344, 0.4553968816393886, 0.4915082856539548, 0.5876377859899015, 0.6368408587731483, 0.6380264044582964, 0.6249099764763123, 0.6159604636070946, 0.6125095459172517, 0.6065864044236126, 0.6006773193241762, 0.5935863054068347, 0.6106753717299949, 0.6081450164970844, 0.6284586370218691, 0.5909962761405614, 0.5006974448884268, 0.4962472912855226, 0.47224854570174424, 0.47754911337219, 0.4846931180261382, 0.5117013069877469, 0.5578715821776242, 0.5975192371650546, 0.6234431308712077, 0.6529430890851579, 0.6707484063768192, 0.6762268105598687, 0.6281344890430217, 0.6467973364640344, 0.6204012780154793, 0.6401625815820605, 0.643487178382267, 0.6380348419438764, 0.6121008230259998, 0.5956518080651779, 0.5641382400475742, 0.52596870238735, 0.5012460322895514, 0.4717744381223767, 0.4419079325679194, 0.40059534130142227, 0.2109799114283458, -0.28943907340468095, -0.43890523892070576, -0.6317919339502739, -0.6547298831618024, -0.6759193725393841, -0.6837654055141758], \"yaxis\": \"y\"}, {\"hovertemplate\": \"variable=US Retail Sales<br>Date=%{x}<br>value=%{y}<extra></extra>\", \"legendgroup\": \"US Retail Sales\", \"line\": {\"color\": \"#EF553B\", \"dash\": \"solid\"}, \"mode\": \"lines\", \"name\": \"US Retail Sales\", \"orientation\": \"v\", \"showlegend\": true, \"type\": \"scatter\", \"x\": [\"2012-09-28T00:00:00\", \"2012-10-31T00:00:00\", \"2012-11-30T00:00:00\", \"2012-12-31T00:00:00\", \"2013-01-31T00:00:00\", \"2013-02-28T00:00:00\", \"2013-03-29T00:00:00\", \"2013-04-30T00:00:00\", \"2013-05-31T00:00:00\", \"2013-06-28T00:00:00\", \"2013-07-31T00:00:00\", \"2013-08-30T00:00:00\", \"2013-09-30T00:00:00\", \"2013-10-31T00:00:00\", \"2013-11-29T00:00:00\", \"2013-12-31T00:00:00\", \"2014-01-31T00:00:00\", \"2014-02-28T00:00:00\", \"2014-03-31T00:00:00\", \"2014-04-30T00:00:00\", \"2014-05-30T00:00:00\", \"2014-06-30T00:00:00\", \"2014-07-31T00:00:00\", \"2014-08-29T00:00:00\", \"2014-09-30T00:00:00\", \"2014-10-31T00:00:00\", \"2014-11-28T00:00:00\", \"2014-12-31T00:00:00\", \"2015-01-30T00:00:00\", \"2015-02-27T00:00:00\", \"2015-03-31T00:00:00\", \"2015-04-30T00:00:00\", \"2015-05-29T00:00:00\", \"2015-06-30T00:00:00\", \"2015-07-31T00:00:00\", \"2015-08-31T00:00:00\", \"2015-09-30T00:00:00\", \"2015-10-30T00:00:00\", \"2015-11-30T00:00:00\", \"2015-12-31T00:00:00\", \"2016-01-29T00:00:00\", \"2016-02-29T00:00:00\", \"2016-03-31T00:00:00\", \"2016-04-29T00:00:00\", \"2016-05-31T00:00:00\", \"2016-06-30T00:00:00\", \"2016-07-29T00:00:00\", \"2016-08-31T00:00:00\", \"2016-09-30T00:00:00\", \"2016-10-31T00:00:00\", \"2016-11-30T00:00:00\", \"2016-12-30T00:00:00\", \"2017-01-31T00:00:00\", \"2017-02-28T00:00:00\", \"2017-03-31T00:00:00\", \"2017-04-28T00:00:00\", \"2017-05-31T00:00:00\", \"2017-06-30T00:00:00\", \"2017-07-31T00:00:00\", \"2017-08-31T00:00:00\", \"2017-09-29T00:00:00\", \"2017-10-31T00:00:00\", \"2017-11-30T00:00:00\", \"2017-12-29T00:00:00\", \"2018-01-31T00:00:00\", \"2018-02-28T00:00:00\", \"2018-03-30T00:00:00\", \"2018-04-30T00:00:00\", \"2018-05-31T00:00:00\", \"2018-06-29T00:00:00\", \"2018-07-31T00:00:00\", \"2018-08-31T00:00:00\", \"2018-09-28T00:00:00\", \"2018-10-31T00:00:00\", \"2018-11-30T00:00:00\", \"2018-12-31T00:00:00\", \"2019-01-31T00:00:00\", \"2019-02-28T00:00:00\", \"2019-03-29T00:00:00\", \"2019-04-30T00:00:00\", \"2019-05-31T00:00:00\", \"2019-06-28T00:00:00\", \"2019-07-31T00:00:00\", \"2019-08-30T00:00:00\", \"2019-09-30T00:00:00\", \"2019-10-31T00:00:00\", \"2019-11-29T00:00:00\", \"2019-12-31T00:00:00\", \"2020-01-31T00:00:00\", \"2020-02-28T00:00:00\", \"2020-03-31T00:00:00\", \"2020-04-30T00:00:00\", \"2020-05-29T00:00:00\", \"2020-06-30T00:00:00\", \"2020-07-31T00:00:00\", \"2020-08-31T00:00:00\"], \"xaxis\": \"x\", \"y\": [0.6188076702488547, 0.29183923597134925, 0.12436248822295141, 0.043717382703755685, -0.23092559212191965, -0.36698142923037186, -0.2551901503403086, -0.09620797243400261, -0.02027075198584097, 0.007495382758846178, 0.022789351137781088, 0.11416542491409704, 0.1243308334218258, 0.12006777582522248, 0.05336631277247212, -0.004275609467936669, -0.10004812407038004, -0.03250241964126064, -0.007179880077727877, -0.01387592558812175, -0.012057109073956247, -0.00865228425486366, -0.017441688313613226, 0.06034446058601455, 0.14894555826861217, 0.2327685680396619, 0.28724060202239504, 0.3182320595877351, 0.37261155550995106, 0.228669929132391, 0.12177857227140731, 0.0023167798438185677, -0.017654340108936566, -0.033184267128917, -0.04234622729345882, -0.012283765808617389, 0.013142469327688786, 0.04827706353027179, 0.11432151632894953, 0.14710599609720218, 0.17748229645219385, 0.16529599650196078, 0.20476297242653113, 0.2303310223153122, 0.28743675715777145, 0.34970890718124836, 0.45004091495956905, 0.4778443725682114, 0.47429838118536044, 0.45502123542903233, 0.4566129733615062, 0.4505483184199667, 0.45357513911919717, 0.4495192853738463, 0.4581002288716711, 0.5042397740899695, 0.4857807933902971, 0.4677190668780721, 0.45638307035525316, 0.415138231343582, 0.375886807013309, 0.3414945014375864, 0.36741562086443397, 0.3973973883157566, 0.3956580312194298, 0.4756437192569602, 0.5382261317608663, 0.6375712573302793, 0.7128803620849491, 0.7584071025531608, 0.7963584195986251, 0.8128471259859338, 0.7743382215105131, 0.7779286257127453, 0.7633427659004626, 0.6496301968071823, 0.6075461631194625, 0.6053720784916923, 0.5824374775369333, 0.5616674127319413, 0.5288779873636059, 0.5115218270258128, 0.4657925205296715, 0.4022135490065285, 0.37279193319951814, 0.3812600170046525, 0.3713924429979005, 0.32773137985865575, 0.37776967699972785, 0.31346044365973846, 0.5184401929246741, 0.5636692912504622, 0.5138967103041682, 0.40297303424348996, 0.34254412750522717, 0.32778431809299297], \"yaxis\": \"y\"}, {\"hovertemplate\": \"variable=average hourly earning<br>Date=%{x}<br>value=%{y}<extra></extra>\", \"legendgroup\": \"average hourly earning\", \"line\": {\"color\": \"#00cc96\", \"dash\": \"solid\"}, \"mode\": \"lines\", \"name\": \"average hourly earning\", \"orientation\": \"v\", \"showlegend\": true, \"type\": \"scatter\", \"x\": [\"2012-09-28T00:00:00\", \"2012-10-31T00:00:00\", \"2012-11-30T00:00:00\", \"2012-12-31T00:00:00\", \"2013-01-31T00:00:00\", \"2013-02-28T00:00:00\", \"2013-03-29T00:00:00\", \"2013-04-30T00:00:00\", \"2013-05-31T00:00:00\", \"2013-06-28T00:00:00\", \"2013-07-31T00:00:00\", \"2013-08-30T00:00:00\", \"2013-09-30T00:00:00\", \"2013-10-31T00:00:00\", \"2013-11-29T00:00:00\", \"2013-12-31T00:00:00\", \"2014-01-31T00:00:00\", \"2014-02-28T00:00:00\", \"2014-03-31T00:00:00\", \"2014-04-30T00:00:00\", \"2014-05-30T00:00:00\", \"2014-06-30T00:00:00\", \"2014-07-31T00:00:00\", \"2014-08-29T00:00:00\", \"2014-09-30T00:00:00\", \"2014-10-31T00:00:00\", \"2014-11-28T00:00:00\", \"2014-12-31T00:00:00\", \"2015-01-30T00:00:00\", \"2015-02-27T00:00:00\", \"2015-03-31T00:00:00\", \"2015-04-30T00:00:00\", \"2015-05-29T00:00:00\", \"2015-06-30T00:00:00\", \"2015-07-31T00:00:00\", \"2015-08-31T00:00:00\", \"2015-09-30T00:00:00\", \"2015-10-30T00:00:00\", \"2015-11-30T00:00:00\", \"2015-12-31T00:00:00\", \"2016-01-29T00:00:00\", \"2016-02-29T00:00:00\", \"2016-03-31T00:00:00\", \"2016-04-29T00:00:00\", \"2016-05-31T00:00:00\", \"2016-06-30T00:00:00\", \"2016-07-29T00:00:00\", \"2016-08-31T00:00:00\", \"2016-09-30T00:00:00\", \"2016-10-31T00:00:00\", \"2016-11-30T00:00:00\", \"2016-12-30T00:00:00\", \"2017-01-31T00:00:00\", \"2017-02-28T00:00:00\", \"2017-03-31T00:00:00\", \"2017-04-28T00:00:00\", \"2017-05-31T00:00:00\", \"2017-06-30T00:00:00\", \"2017-07-31T00:00:00\", \"2017-08-31T00:00:00\", \"2017-09-29T00:00:00\", \"2017-10-31T00:00:00\", \"2017-11-30T00:00:00\", \"2017-12-29T00:00:00\", \"2018-01-31T00:00:00\", \"2018-02-28T00:00:00\", \"2018-03-30T00:00:00\", \"2018-04-30T00:00:00\", \"2018-05-31T00:00:00\", \"2018-06-29T00:00:00\", \"2018-07-31T00:00:00\", \"2018-08-31T00:00:00\", \"2018-09-28T00:00:00\", \"2018-10-31T00:00:00\", \"2018-11-30T00:00:00\", \"2018-12-31T00:00:00\", \"2019-01-31T00:00:00\", \"2019-02-28T00:00:00\", \"2019-03-29T00:00:00\", \"2019-04-30T00:00:00\", \"2019-05-31T00:00:00\", \"2019-06-28T00:00:00\", \"2019-07-31T00:00:00\", \"2019-08-30T00:00:00\", \"2019-09-30T00:00:00\", \"2019-10-31T00:00:00\", \"2019-11-29T00:00:00\", \"2019-12-31T00:00:00\", \"2020-01-31T00:00:00\", \"2020-02-28T00:00:00\", \"2020-03-31T00:00:00\", \"2020-04-30T00:00:00\", \"2020-05-29T00:00:00\", \"2020-06-30T00:00:00\", \"2020-07-31T00:00:00\", \"2020-08-31T00:00:00\"], \"xaxis\": \"x\", \"y\": [-0.5165757689902742, -0.24859561090478358, -0.11965053739845591, -0.15196117058530348, -0.13648290555540898, -0.08862081263363596, -0.16427164860400603, -0.31237654588189284, -0.3477744583660703, -0.40123224229555227, -0.3978363637171715, -0.383053293413513, -0.3643885664580757, -0.3909947681935056, -0.312360186660551, -0.3065167260703958, -0.3208543686099488, -0.3616328924742564, -0.3721742268317295, -0.3647789161310732, -0.3207212692075567, -0.31183364424573023, -0.28382996708929453, -0.20062089874847802, -0.18162296973769365, -0.18361515219067856, -0.1875122623892101, -0.1916578651888536, -0.23208458310119073, -0.21810032776724847, -0.17233260926119934, -0.10040906754255462, -0.07547919765054381, -0.06192451139055653, -0.049087773658721516, -0.05798347880020097, -0.06989801078521887, -0.10899524478323838, -0.20792483232832776, -0.2694534873106534, -0.3197172717657004, -0.3932659914044283, -0.48998580983672285, -0.5478480966468938, -0.5929518636610144, -0.6377599195619462, -0.7155569718002243, -0.7276049193374412, -0.7517137795800989, -0.765619219065224, -0.7423713869378714, -0.7257785999879107, -0.7204237685375244, -0.683482993181656, -0.6882484725816873, -0.7260727647912746, -0.7138869050412728, -0.7000699840287349, -0.6784188925677614, -0.6503720784557754, -0.5793549884472147, -0.544903824100185, -0.5242757640871716, -0.44712687775138127, -0.371483586414103, -0.22885574048834614, -0.06065713427489561, 0.08095631637720803, 0.24194836730765612, 0.3891491138407966, 0.520094186357965, 0.5851488885419149, 0.640020042579096, 0.656043628972722, 0.6171117819757124, 0.5939440408247117, 0.5826956412871377, 0.5258633964906957, 0.4763534016953122, 0.4529620792154818, 0.38302959073394927, 0.3237858342794262, 0.2759223560152968, 0.18516113592700378, 0.13023022435384962, 0.07557493212463134, 0.0332073603041272, 0.011919000884273945, -0.02729504923629863, -0.03903275647922947, -0.14621535919188927, -0.4149743208355266, -0.6389216139058729, -0.6351683415065177, -0.6320215832163816, -0.6469222827691052], \"yaxis\": \"y\"}, {\"hovertemplate\": \"variable=Consumer Price Index (CPI)<br>Date=%{x}<br>value=%{y}<extra></extra>\", \"legendgroup\": \"Consumer Price Index (CPI)\", \"line\": {\"color\": \"#ab63fa\", \"dash\": \"solid\"}, \"mode\": \"lines\", \"name\": \"Consumer Price Index (CPI)\", \"orientation\": \"v\", \"showlegend\": true, \"type\": \"scatter\", \"x\": [\"2012-09-28T00:00:00\", \"2012-10-31T00:00:00\", \"2012-11-30T00:00:00\", \"2012-12-31T00:00:00\", \"2013-01-31T00:00:00\", \"2013-02-28T00:00:00\", \"2013-03-29T00:00:00\", \"2013-04-30T00:00:00\", \"2013-05-31T00:00:00\", \"2013-06-28T00:00:00\", \"2013-07-31T00:00:00\", \"2013-08-30T00:00:00\", \"2013-09-30T00:00:00\", \"2013-10-31T00:00:00\", \"2013-11-29T00:00:00\", \"2013-12-31T00:00:00\", \"2014-01-31T00:00:00\", \"2014-02-28T00:00:00\", \"2014-03-31T00:00:00\", \"2014-04-30T00:00:00\", \"2014-05-30T00:00:00\", \"2014-06-30T00:00:00\", \"2014-07-31T00:00:00\", \"2014-08-29T00:00:00\", \"2014-09-30T00:00:00\", \"2014-10-31T00:00:00\", \"2014-11-28T00:00:00\", \"2014-12-31T00:00:00\", \"2015-01-30T00:00:00\", \"2015-02-27T00:00:00\", \"2015-03-31T00:00:00\", \"2015-04-30T00:00:00\", \"2015-05-29T00:00:00\", \"2015-06-30T00:00:00\", \"2015-07-31T00:00:00\", \"2015-08-31T00:00:00\", \"2015-09-30T00:00:00\", \"2015-10-30T00:00:00\", \"2015-11-30T00:00:00\", \"2015-12-31T00:00:00\", \"2016-01-29T00:00:00\", \"2016-02-29T00:00:00\", \"2016-03-31T00:00:00\", \"2016-04-29T00:00:00\", \"2016-05-31T00:00:00\", \"2016-06-30T00:00:00\", \"2016-07-29T00:00:00\", \"2016-08-31T00:00:00\", \"2016-09-30T00:00:00\", \"2016-10-31T00:00:00\", \"2016-11-30T00:00:00\", \"2016-12-30T00:00:00\", \"2017-01-31T00:00:00\", \"2017-02-28T00:00:00\", \"2017-03-31T00:00:00\", \"2017-04-28T00:00:00\", \"2017-05-31T00:00:00\", \"2017-06-30T00:00:00\", \"2017-07-31T00:00:00\", \"2017-08-31T00:00:00\", \"2017-09-29T00:00:00\", \"2017-10-31T00:00:00\", \"2017-11-30T00:00:00\", \"2017-12-29T00:00:00\", \"2018-01-31T00:00:00\", \"2018-02-28T00:00:00\", \"2018-03-30T00:00:00\", \"2018-04-30T00:00:00\", \"2018-05-31T00:00:00\", \"2018-06-29T00:00:00\", \"2018-07-31T00:00:00\", \"2018-08-31T00:00:00\", \"2018-09-28T00:00:00\", \"2018-10-31T00:00:00\", \"2018-11-30T00:00:00\", \"2018-12-31T00:00:00\", \"2019-01-31T00:00:00\", \"2019-02-28T00:00:00\", \"2019-03-29T00:00:00\", \"2019-04-30T00:00:00\", \"2019-05-31T00:00:00\", \"2019-06-28T00:00:00\", \"2019-07-31T00:00:00\", \"2019-08-30T00:00:00\", \"2019-09-30T00:00:00\", \"2019-10-31T00:00:00\", \"2019-11-29T00:00:00\", \"2019-12-31T00:00:00\", \"2020-01-31T00:00:00\", \"2020-02-28T00:00:00\", \"2020-03-31T00:00:00\", \"2020-04-30T00:00:00\", \"2020-05-29T00:00:00\", \"2020-06-30T00:00:00\", \"2020-07-31T00:00:00\", \"2020-08-31T00:00:00\"], \"xaxis\": \"x\", \"y\": [0.8247262198400239, 0.7387510207582108, 0.6339957144245111, 0.4258726078933853, 0.21975687680475559, 0.14463044547990087, 0.12404159370717235, 0.12728351847171626, 0.23199402911740347, 0.306541999032397, 0.35452595498500605, 0.36582307922943824, 0.37974248001389915, 0.3796286823559485, 0.27548915227621024, 0.1480479173766135, 0.11892900380435838, 0.11307267066627241, 0.0940658589114422, 0.07167472315060029, 0.09848935525584046, 0.13160272165135367, 0.17610289737003515, 0.25241677800114093, 0.3207935855712144, 0.38674720923719086, 0.41327233403698393, 0.43816150257997777, 0.45333863322172857, 0.47386031884255875, 0.47555865779936113, 0.4742638688067479, 0.4781636340568133, 0.4806167806596315, 0.4831371216096834, 0.4774990906453015, 0.4718676188997553, 0.4669196155674341, 0.4893229103830905, 0.5442607860128009, 0.5395627367296916, 0.5348067079912716, 0.5296459220748932, 0.5301084726314876, 0.5260573048964874, 0.524502902177973, 0.525164205150555, 0.5367023499460143, 0.5463361036009639, 0.563664352243252, 0.6465566957652306, 0.867408824681954, 0.8817145743697472, 0.8839749162892275, 0.9007586427974988, 0.9228445518305171, 0.9228310860722538, 0.921305587057227, 0.9184410446052355, 0.9138975127378135, 0.9083137417214685, 0.9004250545653609, 0.9132787272328423, 0.9279383595542674, 0.9413994493882538, 0.9365733910772788, 0.9377861171274741, 0.9407862424861048, 0.9148239391986108, 0.90720437853147, 0.9076872895361056, 0.9159482553229407, 0.9129887168806387, 0.9035310997745347, 0.9014992291471092, 0.9019078542389222, 0.8982397599821761, 0.8919541364561112, 0.8851465991944077, 0.8765736340926447, 0.8640251332983683, 0.8483166638052444, 0.8249765897387801, 0.8013729296649426, 0.7743553128711803, 0.7468915573569455, 0.7391949110448663, 0.7110112072170364, 0.7038372997715364, 0.6715205827639228, 0.7408165284013324, 0.002570731116729088, -0.3506429491190152, -0.4220882062505434, -0.49592808574434244, -0.48651348585310156], \"yaxis\": \"y\"}],\n",
              "                        {\"legend\": {\"title\": {\"text\": \"variable\"}, \"tracegroupgap\": 0}, \"margin\": {\"t\": 60}, \"template\": {\"data\": {\"bar\": [{\"error_x\": {\"color\": \"#2a3f5f\"}, \"error_y\": {\"color\": \"#2a3f5f\"}, \"marker\": {\"line\": {\"color\": \"#E5ECF6\", \"width\": 0.5}}, \"type\": \"bar\"}], \"barpolar\": [{\"marker\": {\"line\": {\"color\": \"#E5ECF6\", \"width\": 0.5}}, \"type\": \"barpolar\"}], \"carpet\": [{\"aaxis\": {\"endlinecolor\": \"#2a3f5f\", \"gridcolor\": \"white\", \"linecolor\": \"white\", \"minorgridcolor\": \"white\", \"startlinecolor\": \"#2a3f5f\"}, \"baxis\": {\"endlinecolor\": \"#2a3f5f\", \"gridcolor\": \"white\", \"linecolor\": \"white\", \"minorgridcolor\": \"white\", \"startlinecolor\": \"#2a3f5f\"}, \"type\": \"carpet\"}], \"choropleth\": [{\"colorbar\": {\"outlinewidth\": 0, \"ticks\": \"\"}, \"type\": \"choropleth\"}], \"contour\": [{\"colorbar\": {\"outlinewidth\": 0, \"ticks\": \"\"}, \"colorscale\": [[0.0, \"#0d0887\"], [0.1111111111111111, \"#46039f\"], [0.2222222222222222, \"#7201a8\"], [0.3333333333333333, \"#9c179e\"], [0.4444444444444444, \"#bd3786\"], [0.5555555555555556, \"#d8576b\"], [0.6666666666666666, \"#ed7953\"], [0.7777777777777778, \"#fb9f3a\"], [0.8888888888888888, \"#fdca26\"], [1.0, \"#f0f921\"]], \"type\": \"contour\"}], \"contourcarpet\": [{\"colorbar\": {\"outlinewidth\": 0, \"ticks\": \"\"}, \"type\": \"contourcarpet\"}], \"heatmap\": [{\"colorbar\": {\"outlinewidth\": 0, \"ticks\": \"\"}, \"colorscale\": [[0.0, \"#0d0887\"], [0.1111111111111111, \"#46039f\"], [0.2222222222222222, \"#7201a8\"], [0.3333333333333333, \"#9c179e\"], [0.4444444444444444, \"#bd3786\"], [0.5555555555555556, \"#d8576b\"], [0.6666666666666666, \"#ed7953\"], [0.7777777777777778, \"#fb9f3a\"], [0.8888888888888888, \"#fdca26\"], [1.0, \"#f0f921\"]], \"type\": \"heatmap\"}], \"heatmapgl\": [{\"colorbar\": {\"outlinewidth\": 0, \"ticks\": \"\"}, \"colorscale\": [[0.0, \"#0d0887\"], [0.1111111111111111, \"#46039f\"], [0.2222222222222222, \"#7201a8\"], [0.3333333333333333, \"#9c179e\"], [0.4444444444444444, \"#bd3786\"], [0.5555555555555556, \"#d8576b\"], [0.6666666666666666, \"#ed7953\"], [0.7777777777777778, \"#fb9f3a\"], [0.8888888888888888, \"#fdca26\"], [1.0, \"#f0f921\"]], \"type\": \"heatmapgl\"}], \"histogram\": [{\"marker\": {\"colorbar\": {\"outlinewidth\": 0, \"ticks\": \"\"}}, \"type\": \"histogram\"}], \"histogram2d\": [{\"colorbar\": {\"outlinewidth\": 0, \"ticks\": \"\"}, \"colorscale\": [[0.0, \"#0d0887\"], [0.1111111111111111, \"#46039f\"], [0.2222222222222222, \"#7201a8\"], [0.3333333333333333, \"#9c179e\"], [0.4444444444444444, \"#bd3786\"], [0.5555555555555556, \"#d8576b\"], [0.6666666666666666, \"#ed7953\"], [0.7777777777777778, \"#fb9f3a\"], [0.8888888888888888, \"#fdca26\"], [1.0, \"#f0f921\"]], \"type\": \"histogram2d\"}], \"histogram2dcontour\": [{\"colorbar\": {\"outlinewidth\": 0, \"ticks\": \"\"}, \"colorscale\": [[0.0, \"#0d0887\"], [0.1111111111111111, \"#46039f\"], [0.2222222222222222, \"#7201a8\"], [0.3333333333333333, \"#9c179e\"], [0.4444444444444444, \"#bd3786\"], [0.5555555555555556, \"#d8576b\"], [0.6666666666666666, \"#ed7953\"], [0.7777777777777778, \"#fb9f3a\"], [0.8888888888888888, \"#fdca26\"], [1.0, \"#f0f921\"]], \"type\": \"histogram2dcontour\"}], \"mesh3d\": [{\"colorbar\": {\"outlinewidth\": 0, \"ticks\": \"\"}, \"type\": \"mesh3d\"}], \"parcoords\": [{\"line\": {\"colorbar\": {\"outlinewidth\": 0, \"ticks\": \"\"}}, \"type\": \"parcoords\"}], \"pie\": [{\"automargin\": true, \"type\": \"pie\"}], \"scatter\": [{\"marker\": {\"colorbar\": {\"outlinewidth\": 0, \"ticks\": \"\"}}, \"type\": \"scatter\"}], \"scatter3d\": [{\"line\": {\"colorbar\": {\"outlinewidth\": 0, \"ticks\": \"\"}}, \"marker\": {\"colorbar\": {\"outlinewidth\": 0, \"ticks\": \"\"}}, \"type\": \"scatter3d\"}], \"scattercarpet\": [{\"marker\": {\"colorbar\": {\"outlinewidth\": 0, \"ticks\": \"\"}}, \"type\": \"scattercarpet\"}], \"scattergeo\": [{\"marker\": {\"colorbar\": {\"outlinewidth\": 0, \"ticks\": \"\"}}, \"type\": \"scattergeo\"}], \"scattergl\": [{\"marker\": {\"colorbar\": {\"outlinewidth\": 0, \"ticks\": \"\"}}, \"type\": \"scattergl\"}], \"scattermapbox\": [{\"marker\": {\"colorbar\": {\"outlinewidth\": 0, \"ticks\": \"\"}}, \"type\": \"scattermapbox\"}], \"scatterpolar\": [{\"marker\": {\"colorbar\": {\"outlinewidth\": 0, \"ticks\": \"\"}}, \"type\": \"scatterpolar\"}], \"scatterpolargl\": [{\"marker\": {\"colorbar\": {\"outlinewidth\": 0, \"ticks\": \"\"}}, \"type\": \"scatterpolargl\"}], \"scatterternary\": [{\"marker\": {\"colorbar\": {\"outlinewidth\": 0, \"ticks\": \"\"}}, \"type\": \"scatterternary\"}], \"surface\": [{\"colorbar\": {\"outlinewidth\": 0, \"ticks\": \"\"}, \"colorscale\": [[0.0, \"#0d0887\"], [0.1111111111111111, \"#46039f\"], [0.2222222222222222, \"#7201a8\"], [0.3333333333333333, \"#9c179e\"], [0.4444444444444444, \"#bd3786\"], [0.5555555555555556, \"#d8576b\"], [0.6666666666666666, \"#ed7953\"], [0.7777777777777778, \"#fb9f3a\"], [0.8888888888888888, \"#fdca26\"], [1.0, \"#f0f921\"]], \"type\": \"surface\"}], \"table\": [{\"cells\": {\"fill\": {\"color\": \"#EBF0F8\"}, \"line\": {\"color\": \"white\"}}, \"header\": {\"fill\": {\"color\": \"#C8D4E3\"}, \"line\": {\"color\": \"white\"}}, \"type\": \"table\"}]}, \"layout\": {\"annotationdefaults\": {\"arrowcolor\": \"#2a3f5f\", \"arrowhead\": 0, \"arrowwidth\": 1}, \"coloraxis\": {\"colorbar\": {\"outlinewidth\": 0, \"ticks\": \"\"}}, \"colorscale\": {\"diverging\": [[0, \"#8e0152\"], [0.1, \"#c51b7d\"], [0.2, \"#de77ae\"], [0.3, \"#f1b6da\"], [0.4, \"#fde0ef\"], [0.5, \"#f7f7f7\"], [0.6, \"#e6f5d0\"], [0.7, \"#b8e186\"], [0.8, \"#7fbc41\"], [0.9, \"#4d9221\"], [1, \"#276419\"]], \"sequential\": [[0.0, \"#0d0887\"], [0.1111111111111111, \"#46039f\"], [0.2222222222222222, \"#7201a8\"], [0.3333333333333333, \"#9c179e\"], [0.4444444444444444, \"#bd3786\"], [0.5555555555555556, \"#d8576b\"], [0.6666666666666666, \"#ed7953\"], [0.7777777777777778, \"#fb9f3a\"], [0.8888888888888888, \"#fdca26\"], [1.0, \"#f0f921\"]], \"sequentialminus\": [[0.0, \"#0d0887\"], [0.1111111111111111, \"#46039f\"], [0.2222222222222222, \"#7201a8\"], [0.3333333333333333, \"#9c179e\"], [0.4444444444444444, \"#bd3786\"], [0.5555555555555556, \"#d8576b\"], [0.6666666666666666, \"#ed7953\"], [0.7777777777777778, \"#fb9f3a\"], [0.8888888888888888, \"#fdca26\"], [1.0, \"#f0f921\"]]}, \"colorway\": [\"#636efa\", \"#EF553B\", \"#00cc96\", \"#ab63fa\", \"#FFA15A\", \"#19d3f3\", \"#FF6692\", \"#B6E880\", \"#FF97FF\", \"#FECB52\"], \"font\": {\"color\": \"#2a3f5f\"}, \"geo\": {\"bgcolor\": \"white\", \"lakecolor\": \"white\", \"landcolor\": \"#E5ECF6\", \"showlakes\": true, \"showland\": true, \"subunitcolor\": \"white\"}, \"hoverlabel\": {\"align\": \"left\"}, \"hovermode\": \"closest\", \"mapbox\": {\"style\": \"light\"}, \"paper_bgcolor\": \"white\", \"plot_bgcolor\": \"#E5ECF6\", \"polar\": {\"angularaxis\": {\"gridcolor\": \"white\", \"linecolor\": \"white\", \"ticks\": \"\"}, \"bgcolor\": \"#E5ECF6\", \"radialaxis\": {\"gridcolor\": \"white\", \"linecolor\": \"white\", \"ticks\": \"\"}}, \"scene\": {\"xaxis\": {\"backgroundcolor\": \"#E5ECF6\", \"gridcolor\": \"white\", \"gridwidth\": 2, \"linecolor\": \"white\", \"showbackground\": true, \"ticks\": \"\", \"zerolinecolor\": \"white\"}, \"yaxis\": {\"backgroundcolor\": \"#E5ECF6\", \"gridcolor\": \"white\", \"gridwidth\": 2, \"linecolor\": \"white\", \"showbackground\": true, \"ticks\": \"\", \"zerolinecolor\": \"white\"}, \"zaxis\": {\"backgroundcolor\": \"#E5ECF6\", \"gridcolor\": \"white\", \"gridwidth\": 2, \"linecolor\": \"white\", \"showbackground\": true, \"ticks\": \"\", \"zerolinecolor\": \"white\"}}, \"shapedefaults\": {\"line\": {\"color\": \"#2a3f5f\"}}, \"ternary\": {\"aaxis\": {\"gridcolor\": \"white\", \"linecolor\": \"white\", \"ticks\": \"\"}, \"baxis\": {\"gridcolor\": \"white\", \"linecolor\": \"white\", \"ticks\": \"\"}, \"bgcolor\": \"#E5ECF6\", \"caxis\": {\"gridcolor\": \"white\", \"linecolor\": \"white\", \"ticks\": \"\"}}, \"title\": {\"x\": 0.05}, \"xaxis\": {\"automargin\": true, \"gridcolor\": \"white\", \"linecolor\": \"white\", \"ticks\": \"\", \"title\": {\"standoff\": 15}, \"zerolinecolor\": \"white\", \"zerolinewidth\": 2}, \"yaxis\": {\"automargin\": true, \"gridcolor\": \"white\", \"linecolor\": \"white\", \"ticks\": \"\", \"title\": {\"standoff\": 15}, \"zerolinecolor\": \"white\", \"zerolinewidth\": 2}}}, \"xaxis\": {\"anchor\": \"y\", \"domain\": [0.0, 1.0], \"title\": {\"text\": \"Date\"}}, \"yaxis\": {\"anchor\": \"x\", \"domain\": [0.0, 1.0], \"title\": {\"text\": \"Correlation\"}}},\n",
              "                        {\"responsive\": true}\n",
              "                    ).then(function(){\n",
              "                            \n",
              "var gd = document.getElementById('d5ef2e4f-d9e7-4722-9336-c45e2ac9e933');\n",
              "var x = new MutationObserver(function (mutations, observer) {{\n",
              "        var display = window.getComputedStyle(gd).display;\n",
              "        if (!display || display === 'none') {{\n",
              "            console.log([gd, 'removed!']);\n",
              "            Plotly.purge(gd);\n",
              "            observer.disconnect();\n",
              "        }}\n",
              "}});\n",
              "\n",
              "// Listen for the removal of the full notebook cells\n",
              "var notebookContainer = gd.closest('#notebook-container');\n",
              "if (notebookContainer) {{\n",
              "    x.observe(notebookContainer, {childList: true});\n",
              "}}\n",
              "\n",
              "// Listen for the clearing of the current output cell\n",
              "var outputEl = gd.closest('.output');\n",
              "if (outputEl) {{\n",
              "    x.observe(outputEl, {childList: true});\n",
              "}}\n",
              "\n",
              "                        })\n",
              "                };\n",
              "                \n",
              "            </script>\n",
              "        </div>\n",
              "</body>\n",
              "</html>"
            ]
          },
          "metadata": {
            "tags": []
          }
        }
      ]
    },
    {
      "cell_type": "code",
      "metadata": {
        "colab": {
          "base_uri": "https://localhost:8080/",
          "height": 542
        },
        "id": "DjIFMyVokwCm",
        "outputId": "76fa25ae-5816-4f97-b0f5-ec771011bcdc"
      },
      "source": [
        "#@title Housing Metrics Correlation\n",
        "\n",
        "fig = rolling_corr_df[[\"New Privately Owned Housing Units \"]].plot(backend=\"plotly\")\n",
        "fig.update_yaxes(title_text='Correlation')\n",
        "fig.show()"
      ],
      "execution_count": null,
      "outputs": [
        {
          "output_type": "display_data",
          "data": {
            "text/html": [
              "<html>\n",
              "<head><meta charset=\"utf-8\" /></head>\n",
              "<body>\n",
              "    <div>\n",
              "            <script src=\"https://cdnjs.cloudflare.com/ajax/libs/mathjax/2.7.5/MathJax.js?config=TeX-AMS-MML_SVG\"></script><script type=\"text/javascript\">if (window.MathJax) {MathJax.Hub.Config({SVG: {font: \"STIX-Web\"}});}</script>\n",
              "                <script type=\"text/javascript\">window.PlotlyConfig = {MathJaxConfig: 'local'};</script>\n",
              "        <script src=\"https://cdn.plot.ly/plotly-latest.min.js\"></script>    \n",
              "            <div id=\"6927264f-5b89-4e5e-bacd-44120c0c96c2\" class=\"plotly-graph-div\" style=\"height:525px; width:100%;\"></div>\n",
              "            <script type=\"text/javascript\">\n",
              "                \n",
              "                    window.PLOTLYENV=window.PLOTLYENV || {};\n",
              "                    \n",
              "                if (document.getElementById(\"6927264f-5b89-4e5e-bacd-44120c0c96c2\")) {\n",
              "                    Plotly.newPlot(\n",
              "                        '6927264f-5b89-4e5e-bacd-44120c0c96c2',\n",
              "                        [{\"hovertemplate\": \"variable=New Privately Owned Housing Units <br>Date=%{x}<br>value=%{y}<extra></extra>\", \"legendgroup\": \"New Privately Owned Housing Units \", \"line\": {\"color\": \"#636efa\", \"dash\": \"solid\"}, \"mode\": \"lines\", \"name\": \"New Privately Owned Housing Units \", \"orientation\": \"v\", \"showlegend\": true, \"type\": \"scatter\", \"x\": [\"2012-09-28T00:00:00\", \"2012-10-31T00:00:00\", \"2012-11-30T00:00:00\", \"2012-12-31T00:00:00\", \"2013-01-31T00:00:00\", \"2013-02-28T00:00:00\", \"2013-03-29T00:00:00\", \"2013-04-30T00:00:00\", \"2013-05-31T00:00:00\", \"2013-06-28T00:00:00\", \"2013-07-31T00:00:00\", \"2013-08-30T00:00:00\", \"2013-09-30T00:00:00\", \"2013-10-31T00:00:00\", \"2013-11-29T00:00:00\", \"2013-12-31T00:00:00\", \"2014-01-31T00:00:00\", \"2014-02-28T00:00:00\", \"2014-03-31T00:00:00\", \"2014-04-30T00:00:00\", \"2014-05-30T00:00:00\", \"2014-06-30T00:00:00\", \"2014-07-31T00:00:00\", \"2014-08-29T00:00:00\", \"2014-09-30T00:00:00\", \"2014-10-31T00:00:00\", \"2014-11-28T00:00:00\", \"2014-12-31T00:00:00\", \"2015-01-30T00:00:00\", \"2015-02-27T00:00:00\", \"2015-03-31T00:00:00\", \"2015-04-30T00:00:00\", \"2015-05-29T00:00:00\", \"2015-06-30T00:00:00\", \"2015-07-31T00:00:00\", \"2015-08-31T00:00:00\", \"2015-09-30T00:00:00\", \"2015-10-30T00:00:00\", \"2015-11-30T00:00:00\", \"2015-12-31T00:00:00\", \"2016-01-29T00:00:00\", \"2016-02-29T00:00:00\", \"2016-03-31T00:00:00\", \"2016-04-29T00:00:00\", \"2016-05-31T00:00:00\", \"2016-06-30T00:00:00\", \"2016-07-29T00:00:00\", \"2016-08-31T00:00:00\", \"2016-09-30T00:00:00\", \"2016-10-31T00:00:00\", \"2016-11-30T00:00:00\", \"2016-12-30T00:00:00\", \"2017-01-31T00:00:00\", \"2017-02-28T00:00:00\", \"2017-03-31T00:00:00\", \"2017-04-28T00:00:00\", \"2017-05-31T00:00:00\", \"2017-06-30T00:00:00\", \"2017-07-31T00:00:00\", \"2017-08-31T00:00:00\", \"2017-09-29T00:00:00\", \"2017-10-31T00:00:00\", \"2017-11-30T00:00:00\", \"2017-12-29T00:00:00\", \"2018-01-31T00:00:00\", \"2018-02-28T00:00:00\", \"2018-03-30T00:00:00\", \"2018-04-30T00:00:00\", \"2018-05-31T00:00:00\", \"2018-06-29T00:00:00\", \"2018-07-31T00:00:00\", \"2018-08-31T00:00:00\", \"2018-09-28T00:00:00\", \"2018-10-31T00:00:00\", \"2018-11-30T00:00:00\", \"2018-12-31T00:00:00\", \"2019-01-31T00:00:00\", \"2019-02-28T00:00:00\", \"2019-03-29T00:00:00\", \"2019-04-30T00:00:00\", \"2019-05-31T00:00:00\", \"2019-06-28T00:00:00\", \"2019-07-31T00:00:00\", \"2019-08-30T00:00:00\", \"2019-09-30T00:00:00\", \"2019-10-31T00:00:00\", \"2019-11-29T00:00:00\", \"2019-12-31T00:00:00\", \"2020-01-31T00:00:00\", \"2020-02-28T00:00:00\", \"2020-03-31T00:00:00\", \"2020-04-30T00:00:00\", \"2020-05-29T00:00:00\", \"2020-06-30T00:00:00\", \"2020-07-31T00:00:00\", \"2020-08-31T00:00:00\"], \"xaxis\": \"x\", \"y\": [0.28264659461075514, 0.2203471045205626, 0.17956496242377362, 0.09905401472633028, 0.03965776211548673, -0.06012544579405909, -0.16294645492478452, -0.22704046948232626, -0.2997720936227834, -0.3321587403047819, -0.3695519219512762, -0.3585103071850884, -0.34028494522483244, -0.30586992945205843, -0.17508831280493023, -0.0856638289062799, -0.039053098587357296, -0.07887707920567366, -0.1174967300627076, -0.16648602387650174, -0.09222971407251512, -0.06487614649090834, 0.015538634361135662, 0.028094017378399127, 0.05508305320029153, 0.08212014463959086, 0.07605008025819711, 0.07265907511657828, 0.06875777177017811, 0.110820086918426, 0.18972818082110893, 0.3255237399820201, 0.36361065457895164, 0.3882611149836167, 0.42351059928907425, 0.412097869864504, 0.3488141902915114, 0.3402061547341219, 0.24385729686486163, 0.18198578808902896, 0.13274245927449696, 0.0352782093010801, -0.004440547640104381, -0.08721809978916431, -0.15510171214406918, -0.2765589752565507, -0.39221475209507645, -0.4336471979935091, -0.4708727516153315, -0.5302718432688518, -0.5354336100290061, -0.5175052555177843, -0.5121373230028006, -0.5170207414791484, -0.5471929990104725, -0.5639489446744907, -0.5501180021855249, -0.5187731369369692, -0.505896567670884, -0.4633788219200617, -0.42221637723341715, -0.37248353838946935, -0.26757996003182055, -0.22747117131882352, -0.14030488048752573, 0.09246313010508433, 0.35699286187786133, 0.4050021413394231, 0.5334172012200024, 0.4873080596828363, 0.47131803695683006, 0.4920773525399046, 0.5010366527423357, 0.49346370613650664, 0.4813227643456058, 0.42746818114457463, 0.41269951826872486, 0.407226268027813, 0.36945558969550757, 0.34370344959730165, 0.2822564867266426, 0.27369531350110793, 0.31377624424567074, 0.20509331429019984, 0.05843589562097139, 0.11227869078932096, 0.023760951800824645, -0.05432551059399687, -0.13647251020296342, -0.3153027934858535, -0.292530860282119, -0.0825892391413027, 0.22294955878383083, 0.1665487022829587, -0.00924294018902696, -0.029989223505674695], \"yaxis\": \"y\"}],\n",
              "                        {\"legend\": {\"title\": {\"text\": \"variable\"}, \"tracegroupgap\": 0}, \"margin\": {\"t\": 60}, \"template\": {\"data\": {\"bar\": [{\"error_x\": {\"color\": \"#2a3f5f\"}, \"error_y\": {\"color\": \"#2a3f5f\"}, \"marker\": {\"line\": {\"color\": \"#E5ECF6\", \"width\": 0.5}}, \"type\": \"bar\"}], \"barpolar\": [{\"marker\": {\"line\": {\"color\": \"#E5ECF6\", \"width\": 0.5}}, \"type\": \"barpolar\"}], \"carpet\": [{\"aaxis\": {\"endlinecolor\": \"#2a3f5f\", \"gridcolor\": \"white\", \"linecolor\": \"white\", \"minorgridcolor\": \"white\", \"startlinecolor\": \"#2a3f5f\"}, \"baxis\": {\"endlinecolor\": \"#2a3f5f\", \"gridcolor\": \"white\", \"linecolor\": \"white\", \"minorgridcolor\": \"white\", \"startlinecolor\": \"#2a3f5f\"}, \"type\": \"carpet\"}], \"choropleth\": [{\"colorbar\": {\"outlinewidth\": 0, \"ticks\": \"\"}, \"type\": \"choropleth\"}], \"contour\": [{\"colorbar\": {\"outlinewidth\": 0, \"ticks\": \"\"}, \"colorscale\": [[0.0, \"#0d0887\"], [0.1111111111111111, \"#46039f\"], [0.2222222222222222, \"#7201a8\"], [0.3333333333333333, \"#9c179e\"], [0.4444444444444444, \"#bd3786\"], [0.5555555555555556, \"#d8576b\"], [0.6666666666666666, \"#ed7953\"], [0.7777777777777778, \"#fb9f3a\"], [0.8888888888888888, \"#fdca26\"], [1.0, \"#f0f921\"]], \"type\": \"contour\"}], \"contourcarpet\": [{\"colorbar\": {\"outlinewidth\": 0, \"ticks\": \"\"}, \"type\": \"contourcarpet\"}], \"heatmap\": [{\"colorbar\": {\"outlinewidth\": 0, \"ticks\": \"\"}, \"colorscale\": [[0.0, \"#0d0887\"], [0.1111111111111111, \"#46039f\"], [0.2222222222222222, \"#7201a8\"], [0.3333333333333333, \"#9c179e\"], [0.4444444444444444, \"#bd3786\"], [0.5555555555555556, \"#d8576b\"], [0.6666666666666666, \"#ed7953\"], [0.7777777777777778, \"#fb9f3a\"], [0.8888888888888888, \"#fdca26\"], [1.0, \"#f0f921\"]], \"type\": \"heatmap\"}], \"heatmapgl\": [{\"colorbar\": {\"outlinewidth\": 0, \"ticks\": \"\"}, \"colorscale\": [[0.0, \"#0d0887\"], [0.1111111111111111, \"#46039f\"], [0.2222222222222222, \"#7201a8\"], [0.3333333333333333, \"#9c179e\"], [0.4444444444444444, \"#bd3786\"], [0.5555555555555556, \"#d8576b\"], [0.6666666666666666, \"#ed7953\"], [0.7777777777777778, \"#fb9f3a\"], [0.8888888888888888, \"#fdca26\"], [1.0, \"#f0f921\"]], \"type\": \"heatmapgl\"}], \"histogram\": [{\"marker\": {\"colorbar\": {\"outlinewidth\": 0, \"ticks\": \"\"}}, \"type\": \"histogram\"}], \"histogram2d\": [{\"colorbar\": {\"outlinewidth\": 0, \"ticks\": \"\"}, \"colorscale\": [[0.0, \"#0d0887\"], [0.1111111111111111, \"#46039f\"], [0.2222222222222222, \"#7201a8\"], [0.3333333333333333, \"#9c179e\"], [0.4444444444444444, \"#bd3786\"], [0.5555555555555556, \"#d8576b\"], [0.6666666666666666, \"#ed7953\"], [0.7777777777777778, \"#fb9f3a\"], [0.8888888888888888, \"#fdca26\"], [1.0, \"#f0f921\"]], \"type\": \"histogram2d\"}], \"histogram2dcontour\": [{\"colorbar\": {\"outlinewidth\": 0, \"ticks\": \"\"}, \"colorscale\": [[0.0, \"#0d0887\"], [0.1111111111111111, \"#46039f\"], [0.2222222222222222, \"#7201a8\"], [0.3333333333333333, \"#9c179e\"], [0.4444444444444444, \"#bd3786\"], [0.5555555555555556, \"#d8576b\"], [0.6666666666666666, \"#ed7953\"], [0.7777777777777778, \"#fb9f3a\"], [0.8888888888888888, \"#fdca26\"], [1.0, \"#f0f921\"]], \"type\": \"histogram2dcontour\"}], \"mesh3d\": [{\"colorbar\": {\"outlinewidth\": 0, \"ticks\": \"\"}, \"type\": \"mesh3d\"}], \"parcoords\": [{\"line\": {\"colorbar\": {\"outlinewidth\": 0, \"ticks\": \"\"}}, \"type\": \"parcoords\"}], \"pie\": [{\"automargin\": true, \"type\": \"pie\"}], \"scatter\": [{\"marker\": {\"colorbar\": {\"outlinewidth\": 0, \"ticks\": \"\"}}, \"type\": \"scatter\"}], \"scatter3d\": [{\"line\": {\"colorbar\": {\"outlinewidth\": 0, \"ticks\": \"\"}}, \"marker\": {\"colorbar\": {\"outlinewidth\": 0, \"ticks\": \"\"}}, \"type\": \"scatter3d\"}], \"scattercarpet\": [{\"marker\": {\"colorbar\": {\"outlinewidth\": 0, \"ticks\": \"\"}}, \"type\": \"scattercarpet\"}], \"scattergeo\": [{\"marker\": {\"colorbar\": {\"outlinewidth\": 0, \"ticks\": \"\"}}, \"type\": \"scattergeo\"}], \"scattergl\": [{\"marker\": {\"colorbar\": {\"outlinewidth\": 0, \"ticks\": \"\"}}, \"type\": \"scattergl\"}], \"scattermapbox\": [{\"marker\": {\"colorbar\": {\"outlinewidth\": 0, \"ticks\": \"\"}}, \"type\": \"scattermapbox\"}], \"scatterpolar\": [{\"marker\": {\"colorbar\": {\"outlinewidth\": 0, \"ticks\": \"\"}}, \"type\": \"scatterpolar\"}], \"scatterpolargl\": [{\"marker\": {\"colorbar\": {\"outlinewidth\": 0, \"ticks\": \"\"}}, \"type\": \"scatterpolargl\"}], \"scatterternary\": [{\"marker\": {\"colorbar\": {\"outlinewidth\": 0, \"ticks\": \"\"}}, \"type\": \"scatterternary\"}], \"surface\": [{\"colorbar\": {\"outlinewidth\": 0, \"ticks\": \"\"}, \"colorscale\": [[0.0, \"#0d0887\"], [0.1111111111111111, \"#46039f\"], [0.2222222222222222, \"#7201a8\"], [0.3333333333333333, \"#9c179e\"], [0.4444444444444444, \"#bd3786\"], [0.5555555555555556, \"#d8576b\"], [0.6666666666666666, \"#ed7953\"], [0.7777777777777778, \"#fb9f3a\"], [0.8888888888888888, \"#fdca26\"], [1.0, \"#f0f921\"]], \"type\": \"surface\"}], \"table\": [{\"cells\": {\"fill\": {\"color\": \"#EBF0F8\"}, \"line\": {\"color\": \"white\"}}, \"header\": {\"fill\": {\"color\": \"#C8D4E3\"}, \"line\": {\"color\": \"white\"}}, \"type\": \"table\"}]}, \"layout\": {\"annotationdefaults\": {\"arrowcolor\": \"#2a3f5f\", \"arrowhead\": 0, \"arrowwidth\": 1}, \"coloraxis\": {\"colorbar\": {\"outlinewidth\": 0, \"ticks\": \"\"}}, \"colorscale\": {\"diverging\": [[0, \"#8e0152\"], [0.1, \"#c51b7d\"], [0.2, \"#de77ae\"], [0.3, \"#f1b6da\"], [0.4, \"#fde0ef\"], [0.5, \"#f7f7f7\"], [0.6, \"#e6f5d0\"], [0.7, \"#b8e186\"], [0.8, \"#7fbc41\"], [0.9, \"#4d9221\"], [1, \"#276419\"]], \"sequential\": [[0.0, \"#0d0887\"], [0.1111111111111111, \"#46039f\"], [0.2222222222222222, \"#7201a8\"], [0.3333333333333333, \"#9c179e\"], [0.4444444444444444, \"#bd3786\"], [0.5555555555555556, \"#d8576b\"], [0.6666666666666666, \"#ed7953\"], [0.7777777777777778, \"#fb9f3a\"], [0.8888888888888888, \"#fdca26\"], [1.0, \"#f0f921\"]], \"sequentialminus\": [[0.0, \"#0d0887\"], [0.1111111111111111, \"#46039f\"], [0.2222222222222222, \"#7201a8\"], [0.3333333333333333, \"#9c179e\"], [0.4444444444444444, \"#bd3786\"], [0.5555555555555556, \"#d8576b\"], [0.6666666666666666, \"#ed7953\"], [0.7777777777777778, \"#fb9f3a\"], [0.8888888888888888, \"#fdca26\"], [1.0, \"#f0f921\"]]}, \"colorway\": [\"#636efa\", \"#EF553B\", \"#00cc96\", \"#ab63fa\", \"#FFA15A\", \"#19d3f3\", \"#FF6692\", \"#B6E880\", \"#FF97FF\", \"#FECB52\"], \"font\": {\"color\": \"#2a3f5f\"}, \"geo\": {\"bgcolor\": \"white\", \"lakecolor\": \"white\", \"landcolor\": \"#E5ECF6\", \"showlakes\": true, \"showland\": true, \"subunitcolor\": \"white\"}, \"hoverlabel\": {\"align\": \"left\"}, \"hovermode\": \"closest\", \"mapbox\": {\"style\": \"light\"}, \"paper_bgcolor\": \"white\", \"plot_bgcolor\": \"#E5ECF6\", \"polar\": {\"angularaxis\": {\"gridcolor\": \"white\", \"linecolor\": \"white\", \"ticks\": \"\"}, \"bgcolor\": \"#E5ECF6\", \"radialaxis\": {\"gridcolor\": \"white\", \"linecolor\": \"white\", \"ticks\": \"\"}}, \"scene\": {\"xaxis\": {\"backgroundcolor\": \"#E5ECF6\", \"gridcolor\": \"white\", \"gridwidth\": 2, \"linecolor\": \"white\", \"showbackground\": true, \"ticks\": \"\", \"zerolinecolor\": \"white\"}, \"yaxis\": {\"backgroundcolor\": \"#E5ECF6\", \"gridcolor\": \"white\", \"gridwidth\": 2, \"linecolor\": \"white\", \"showbackground\": true, \"ticks\": \"\", \"zerolinecolor\": \"white\"}, \"zaxis\": {\"backgroundcolor\": \"#E5ECF6\", \"gridcolor\": \"white\", \"gridwidth\": 2, \"linecolor\": \"white\", \"showbackground\": true, \"ticks\": \"\", \"zerolinecolor\": \"white\"}}, \"shapedefaults\": {\"line\": {\"color\": \"#2a3f5f\"}}, \"ternary\": {\"aaxis\": {\"gridcolor\": \"white\", \"linecolor\": \"white\", \"ticks\": \"\"}, \"baxis\": {\"gridcolor\": \"white\", \"linecolor\": \"white\", \"ticks\": \"\"}, \"bgcolor\": \"#E5ECF6\", \"caxis\": {\"gridcolor\": \"white\", \"linecolor\": \"white\", \"ticks\": \"\"}}, \"title\": {\"x\": 0.05}, \"xaxis\": {\"automargin\": true, \"gridcolor\": \"white\", \"linecolor\": \"white\", \"ticks\": \"\", \"title\": {\"standoff\": 15}, \"zerolinecolor\": \"white\", \"zerolinewidth\": 2}, \"yaxis\": {\"automargin\": true, \"gridcolor\": \"white\", \"linecolor\": \"white\", \"ticks\": \"\", \"title\": {\"standoff\": 15}, \"zerolinecolor\": \"white\", \"zerolinewidth\": 2}}}, \"xaxis\": {\"anchor\": \"y\", \"domain\": [0.0, 1.0], \"title\": {\"text\": \"Date\"}}, \"yaxis\": {\"anchor\": \"x\", \"domain\": [0.0, 1.0], \"title\": {\"text\": \"Correlation\"}}},\n",
              "                        {\"responsive\": true}\n",
              "                    ).then(function(){\n",
              "                            \n",
              "var gd = document.getElementById('6927264f-5b89-4e5e-bacd-44120c0c96c2');\n",
              "var x = new MutationObserver(function (mutations, observer) {{\n",
              "        var display = window.getComputedStyle(gd).display;\n",
              "        if (!display || display === 'none') {{\n",
              "            console.log([gd, 'removed!']);\n",
              "            Plotly.purge(gd);\n",
              "            observer.disconnect();\n",
              "        }}\n",
              "}});\n",
              "\n",
              "// Listen for the removal of the full notebook cells\n",
              "var notebookContainer = gd.closest('#notebook-container');\n",
              "if (notebookContainer) {{\n",
              "    x.observe(notebookContainer, {childList: true});\n",
              "}}\n",
              "\n",
              "// Listen for the clearing of the current output cell\n",
              "var outputEl = gd.closest('.output');\n",
              "if (outputEl) {{\n",
              "    x.observe(outputEl, {childList: true});\n",
              "}}\n",
              "\n",
              "                        })\n",
              "                };\n",
              "                \n",
              "            </script>\n",
              "        </div>\n",
              "</body>\n",
              "</html>"
            ]
          },
          "metadata": {
            "tags": []
          }
        }
      ]
    },
    {
      "cell_type": "code",
      "metadata": {
        "id": "7d8U20moDT09",
        "colab": {
          "base_uri": "https://localhost:8080/",
          "height": 542
        },
        "outputId": "570616d0-dadf-4e35-e5fa-9af371cc3d6d"
      },
      "source": [
        "#@title Employment Metrics Correlation\n",
        "\n",
        "fig = rolling_corr_df[[\"OECD Employment\", \"US Unemployment Rate\", \"US Employees on Nonfarm Payrolls\", \"US Initial Jobless Claims SA\"]].plot(backend=\"plotly\")\n",
        "fig.update_yaxes(title_text='Correlation')\n",
        "fig.show()"
      ],
      "execution_count": null,
      "outputs": [
        {
          "output_type": "display_data",
          "data": {
            "text/html": [
              "<html>\n",
              "<head><meta charset=\"utf-8\" /></head>\n",
              "<body>\n",
              "    <div>\n",
              "            <script src=\"https://cdnjs.cloudflare.com/ajax/libs/mathjax/2.7.5/MathJax.js?config=TeX-AMS-MML_SVG\"></script><script type=\"text/javascript\">if (window.MathJax) {MathJax.Hub.Config({SVG: {font: \"STIX-Web\"}});}</script>\n",
              "                <script type=\"text/javascript\">window.PlotlyConfig = {MathJaxConfig: 'local'};</script>\n",
              "        <script src=\"https://cdn.plot.ly/plotly-latest.min.js\"></script>    \n",
              "            <div id=\"32225ca4-ffe7-47c3-9653-f7132269c0bc\" class=\"plotly-graph-div\" style=\"height:525px; width:100%;\"></div>\n",
              "            <script type=\"text/javascript\">\n",
              "                \n",
              "                    window.PLOTLYENV=window.PLOTLYENV || {};\n",
              "                    \n",
              "                if (document.getElementById(\"32225ca4-ffe7-47c3-9653-f7132269c0bc\")) {\n",
              "                    Plotly.newPlot(\n",
              "                        '32225ca4-ffe7-47c3-9653-f7132269c0bc',\n",
              "                        [{\"hovertemplate\": \"variable=OECD Employment<br>Date=%{x}<br>value=%{y}<extra></extra>\", \"legendgroup\": \"OECD Employment\", \"line\": {\"color\": \"#636efa\", \"dash\": \"solid\"}, \"mode\": \"lines\", \"name\": \"OECD Employment\", \"orientation\": \"v\", \"showlegend\": true, \"type\": \"scatter\", \"x\": [\"2012-09-28T00:00:00\", \"2012-10-31T00:00:00\", \"2012-11-30T00:00:00\", \"2012-12-31T00:00:00\", \"2013-01-31T00:00:00\", \"2013-02-28T00:00:00\", \"2013-03-29T00:00:00\", \"2013-04-30T00:00:00\", \"2013-05-31T00:00:00\", \"2013-06-28T00:00:00\", \"2013-07-31T00:00:00\", \"2013-08-30T00:00:00\", \"2013-09-30T00:00:00\", \"2013-10-31T00:00:00\", \"2013-11-29T00:00:00\", \"2013-12-31T00:00:00\", \"2014-01-31T00:00:00\", \"2014-02-28T00:00:00\", \"2014-03-31T00:00:00\", \"2014-04-30T00:00:00\", \"2014-05-30T00:00:00\", \"2014-06-30T00:00:00\", \"2014-07-31T00:00:00\", \"2014-08-29T00:00:00\", \"2014-09-30T00:00:00\", \"2014-10-31T00:00:00\", \"2014-11-28T00:00:00\", \"2014-12-31T00:00:00\", \"2015-01-30T00:00:00\", \"2015-02-27T00:00:00\", \"2015-03-31T00:00:00\", \"2015-04-30T00:00:00\", \"2015-05-29T00:00:00\", \"2015-06-30T00:00:00\", \"2015-07-31T00:00:00\", \"2015-08-31T00:00:00\", \"2015-09-30T00:00:00\", \"2015-10-30T00:00:00\", \"2015-11-30T00:00:00\", \"2015-12-31T00:00:00\", \"2016-01-29T00:00:00\", \"2016-02-29T00:00:00\", \"2016-03-31T00:00:00\", \"2016-04-29T00:00:00\", \"2016-05-31T00:00:00\", \"2016-06-30T00:00:00\", \"2016-07-29T00:00:00\", \"2016-08-31T00:00:00\", \"2016-09-30T00:00:00\", \"2016-10-31T00:00:00\", \"2016-11-30T00:00:00\", \"2016-12-30T00:00:00\", \"2017-01-31T00:00:00\", \"2017-02-28T00:00:00\", \"2017-03-31T00:00:00\", \"2017-04-28T00:00:00\", \"2017-05-31T00:00:00\", \"2017-06-30T00:00:00\", \"2017-07-31T00:00:00\", \"2017-08-31T00:00:00\", \"2017-09-29T00:00:00\", \"2017-10-31T00:00:00\", \"2017-11-30T00:00:00\", \"2017-12-29T00:00:00\", \"2018-01-31T00:00:00\", \"2018-02-28T00:00:00\", \"2018-03-30T00:00:00\", \"2018-04-30T00:00:00\", \"2018-05-31T00:00:00\", \"2018-06-29T00:00:00\", \"2018-07-31T00:00:00\", \"2018-08-31T00:00:00\", \"2018-09-28T00:00:00\", \"2018-10-31T00:00:00\", \"2018-11-30T00:00:00\", \"2018-12-31T00:00:00\", \"2019-01-31T00:00:00\", \"2019-02-28T00:00:00\", \"2019-03-29T00:00:00\", \"2019-04-30T00:00:00\", \"2019-05-31T00:00:00\", \"2019-06-28T00:00:00\", \"2019-07-31T00:00:00\", \"2019-08-30T00:00:00\", \"2019-09-30T00:00:00\", \"2019-10-31T00:00:00\", \"2019-11-29T00:00:00\", \"2019-12-31T00:00:00\", \"2020-01-31T00:00:00\", \"2020-02-28T00:00:00\", \"2020-03-31T00:00:00\", \"2020-04-30T00:00:00\", \"2020-05-29T00:00:00\", \"2020-06-30T00:00:00\", \"2020-07-31T00:00:00\", \"2020-08-31T00:00:00\"], \"xaxis\": \"x\", \"y\": [-0.7628739438541152, -0.5738250116912036, -0.3849580886666308, -0.3138134269744132, -0.22307479459039234, -0.16474061525695113, -0.09431081531811941, -0.0031212805445311556, -0.08364455346016474, -0.157106365568286, -0.22575345449648992, -0.31433483581464156, -0.4102894405414856, -0.5156589408243145, -0.49885815734035294, -0.39451370915927897, -0.303619879716772, -0.34533519348370123, -0.38106560475897816, -0.41206816270880153, -0.3182002242196629, -0.24303754241933645, -0.18224354933988013, -0.13218175748277383, -0.09828876760109032, -0.07742822673263307, -0.08441828494011698, -0.04419462604947983, -0.019921665801171166, 0.1348211246255573, 0.26521852279362257, 0.37965545963994834, 0.40206845976411454, 0.4252736431584322, 0.4498051595674036, 0.42188801219632743, 0.40383525059925635, 0.3956370452426975, 0.3087959162393148, 0.17615410136716148, 0.0702922385864189, -0.05012203914865762, -0.1503477884412159, -0.23608389839579666, -0.3348720352668163, -0.42489945804100776, -0.5087463999717224, -0.5570088817468984, -0.6026795307127475, -0.6470022783612792, -0.641278700735966, -0.6050771228656491, -0.5743648855889745, -0.5621849005476987, -0.5608183798105617, -0.5696050133391237, -0.530700346874235, -0.49037404432869064, -0.44734482950408827, -0.3683777261159545, -0.2763146444692142, -0.16474880584872253, -0.05949098572509859, 0.057301234753705736, 0.15771706066389193, 0.3080590759239981, 0.4537368205988327, 0.5986592474361124, 0.6916767370710607, 0.7721055751305335, 0.8455317682047141, 0.8734606897972391, 0.902161839348597, 0.9332972660245643, 0.9468214739306934, 0.9101173507425049, 0.8813177322915442, 0.8302250932316115, 0.7824154376800413, 0.7353165951497189, 0.6605367837125229, 0.5797489922576726, 0.4885262724015479, 0.3869905838016061, 0.26535708080623305, 0.11280605936199771, 0.013384536359666757, -0.07369796219736076, -0.16057236990512821, -0.29993991659249875, -0.40156650361456975, -0.4813210918573099, -0.44209964100370985, -0.4943957595295879, -0.5431614874869927, -0.5796556118832236], \"yaxis\": \"y\"}, {\"hovertemplate\": \"variable=US Unemployment Rate<br>Date=%{x}<br>value=%{y}<extra></extra>\", \"legendgroup\": \"US Unemployment Rate\", \"line\": {\"color\": \"#EF553B\", \"dash\": \"solid\"}, \"mode\": \"lines\", \"name\": \"US Unemployment Rate\", \"orientation\": \"v\", \"showlegend\": true, \"type\": \"scatter\", \"x\": [\"2012-09-28T00:00:00\", \"2012-10-31T00:00:00\", \"2012-11-30T00:00:00\", \"2012-12-31T00:00:00\", \"2013-01-31T00:00:00\", \"2013-02-28T00:00:00\", \"2013-03-29T00:00:00\", \"2013-04-30T00:00:00\", \"2013-05-31T00:00:00\", \"2013-06-28T00:00:00\", \"2013-07-31T00:00:00\", \"2013-08-30T00:00:00\", \"2013-09-30T00:00:00\", \"2013-10-31T00:00:00\", \"2013-11-29T00:00:00\", \"2013-12-31T00:00:00\", \"2014-01-31T00:00:00\", \"2014-02-28T00:00:00\", \"2014-03-31T00:00:00\", \"2014-04-30T00:00:00\", \"2014-05-30T00:00:00\", \"2014-06-30T00:00:00\", \"2014-07-31T00:00:00\", \"2014-08-29T00:00:00\", \"2014-09-30T00:00:00\", \"2014-10-31T00:00:00\", \"2014-11-28T00:00:00\", \"2014-12-31T00:00:00\", \"2015-01-30T00:00:00\", \"2015-02-27T00:00:00\", \"2015-03-31T00:00:00\", \"2015-04-30T00:00:00\", \"2015-05-29T00:00:00\", \"2015-06-30T00:00:00\", \"2015-07-31T00:00:00\", \"2015-08-31T00:00:00\", \"2015-09-30T00:00:00\", \"2015-10-30T00:00:00\", \"2015-11-30T00:00:00\", \"2015-12-31T00:00:00\", \"2016-01-29T00:00:00\", \"2016-02-29T00:00:00\", \"2016-03-31T00:00:00\", \"2016-04-29T00:00:00\", \"2016-05-31T00:00:00\", \"2016-06-30T00:00:00\", \"2016-07-29T00:00:00\", \"2016-08-31T00:00:00\", \"2016-09-30T00:00:00\", \"2016-10-31T00:00:00\", \"2016-11-30T00:00:00\", \"2016-12-30T00:00:00\", \"2017-01-31T00:00:00\", \"2017-02-28T00:00:00\", \"2017-03-31T00:00:00\", \"2017-04-28T00:00:00\", \"2017-05-31T00:00:00\", \"2017-06-30T00:00:00\", \"2017-07-31T00:00:00\", \"2017-08-31T00:00:00\", \"2017-09-29T00:00:00\", \"2017-10-31T00:00:00\", \"2017-11-30T00:00:00\", \"2017-12-29T00:00:00\", \"2018-01-31T00:00:00\", \"2018-02-28T00:00:00\", \"2018-03-30T00:00:00\", \"2018-04-30T00:00:00\", \"2018-05-31T00:00:00\", \"2018-06-29T00:00:00\", \"2018-07-31T00:00:00\", \"2018-08-31T00:00:00\", \"2018-09-28T00:00:00\", \"2018-10-31T00:00:00\", \"2018-11-30T00:00:00\", \"2018-12-31T00:00:00\", \"2019-01-31T00:00:00\", \"2019-02-28T00:00:00\", \"2019-03-29T00:00:00\", \"2019-04-30T00:00:00\", \"2019-05-31T00:00:00\", \"2019-06-28T00:00:00\", \"2019-07-31T00:00:00\", \"2019-08-30T00:00:00\", \"2019-09-30T00:00:00\", \"2019-10-31T00:00:00\", \"2019-11-29T00:00:00\", \"2019-12-31T00:00:00\", \"2020-01-31T00:00:00\", \"2020-02-28T00:00:00\", \"2020-03-31T00:00:00\", \"2020-04-30T00:00:00\", \"2020-05-29T00:00:00\", \"2020-06-30T00:00:00\", \"2020-07-31T00:00:00\", \"2020-08-31T00:00:00\"], \"xaxis\": \"x\", \"y\": [-0.48530639938887155, -0.5406809552526568, -0.5123220317126446, -0.43223565129604913, -0.3282404047657663, -0.19246863648312532, -0.030265977234509665, 0.19091806726070104, 0.26463167629327755, 0.33400056579470166, 0.3903969006872542, 0.3596288602554277, 0.327075726388735, 0.2873131904459982, 0.18886984984918942, 0.07874848286102547, -0.024070580830974363, 0.039825882231275006, 0.10374882259383959, 0.15715359226693848, 0.05571180610655314, -0.05412887602869668, -0.14062125756759541, -0.20830925694998384, -0.2642571118754247, -0.30428914702539106, -0.3078238171028878, -0.3100376553259739, -0.30854999531201116, -0.4327295136487164, -0.5326828241096835, -0.6243251123821183, -0.6428738593820197, -0.6598456110345693, -0.6794557673090167, -0.6493553931624549, -0.6054294198720543, -0.5735036229483877, -0.4743278406137261, -0.3815411380319636, -0.29886127962849973, -0.19103997804985778, -0.08747694244417831, 0.007321626495916893, 0.12897182454947212, 0.23890265967232177, 0.3493677232521705, 0.4191773298988853, 0.4797809969021706, 0.543153713349238, 0.5461090346090554, 0.5413817231136269, 0.5377918702458544, 0.6001741433462381, 0.6465725349040627, 0.7126944282751303, 0.6981578920514716, 0.6578369313237811, 0.6168300411063006, 0.5394525606219509, 0.4468019132060762, 0.34049325630192795, 0.23088000813725126, 0.11483382254524, 0.004583524441038401, -0.1796557620911002, -0.3545585148264956, -0.5347602394118978, -0.66115232033815, -0.7691165997420267, -0.8686985107531435, -0.9122436977329279, -0.9272072764536192, -0.941293018192156, -0.9322149365767631, -0.9255817868850484, -0.9195186833637418, -0.8949144151297634, -0.8736777510800531, -0.8511417337823829, -0.8091087119022511, -0.7391098004600609, -0.6607860632251852, -0.5728542979219139, -0.46325537866131433, -0.3294399153446998, -0.24175984041412252, -0.1516066495393572, -0.049309258300054684, 0.0870572697476213, 0.14175218629458433, 0.18845443759949693, 0.1712687435179099, -0.6311822054685396, -0.7576358663925654, -0.7354463200272814], \"yaxis\": \"y\"}, {\"hovertemplate\": \"variable=US Employees on Nonfarm Payrolls<br>Date=%{x}<br>value=%{y}<extra></extra>\", \"legendgroup\": \"US Employees on Nonfarm Payrolls\", \"line\": {\"color\": \"#00cc96\", \"dash\": \"solid\"}, \"mode\": \"lines\", \"name\": \"US Employees on Nonfarm Payrolls\", \"orientation\": \"v\", \"showlegend\": true, \"type\": \"scatter\", \"x\": [\"2012-09-28T00:00:00\", \"2012-10-31T00:00:00\", \"2012-11-30T00:00:00\", \"2012-12-31T00:00:00\", \"2013-01-31T00:00:00\", \"2013-02-28T00:00:00\", \"2013-03-29T00:00:00\", \"2013-04-30T00:00:00\", \"2013-05-31T00:00:00\", \"2013-06-28T00:00:00\", \"2013-07-31T00:00:00\", \"2013-08-30T00:00:00\", \"2013-09-30T00:00:00\", \"2013-10-31T00:00:00\", \"2013-11-29T00:00:00\", \"2013-12-31T00:00:00\", \"2014-01-31T00:00:00\", \"2014-02-28T00:00:00\", \"2014-03-31T00:00:00\", \"2014-04-30T00:00:00\", \"2014-05-30T00:00:00\", \"2014-06-30T00:00:00\", \"2014-07-31T00:00:00\", \"2014-08-29T00:00:00\", \"2014-09-30T00:00:00\", \"2014-10-31T00:00:00\", \"2014-11-28T00:00:00\", \"2014-12-31T00:00:00\", \"2015-01-30T00:00:00\", \"2015-02-27T00:00:00\", \"2015-03-31T00:00:00\", \"2015-04-30T00:00:00\", \"2015-05-29T00:00:00\", \"2015-06-30T00:00:00\", \"2015-07-31T00:00:00\", \"2015-08-31T00:00:00\", \"2015-09-30T00:00:00\", \"2015-10-30T00:00:00\", \"2015-11-30T00:00:00\", \"2015-12-31T00:00:00\", \"2016-01-29T00:00:00\", \"2016-02-29T00:00:00\", \"2016-03-31T00:00:00\", \"2016-04-29T00:00:00\", \"2016-05-31T00:00:00\", \"2016-06-30T00:00:00\", \"2016-07-29T00:00:00\", \"2016-08-31T00:00:00\", \"2016-09-30T00:00:00\", \"2016-10-31T00:00:00\", \"2016-11-30T00:00:00\", \"2016-12-30T00:00:00\", \"2017-01-31T00:00:00\", \"2017-02-28T00:00:00\", \"2017-03-31T00:00:00\", \"2017-04-28T00:00:00\", \"2017-05-31T00:00:00\", \"2017-06-30T00:00:00\", \"2017-07-31T00:00:00\", \"2017-08-31T00:00:00\", \"2017-09-29T00:00:00\", \"2017-10-31T00:00:00\", \"2017-11-30T00:00:00\", \"2017-12-29T00:00:00\", \"2018-01-31T00:00:00\", \"2018-02-28T00:00:00\", \"2018-03-30T00:00:00\", \"2018-04-30T00:00:00\", \"2018-05-31T00:00:00\", \"2018-06-29T00:00:00\", \"2018-07-31T00:00:00\", \"2018-08-31T00:00:00\", \"2018-09-28T00:00:00\", \"2018-10-31T00:00:00\", \"2018-11-30T00:00:00\", \"2018-12-31T00:00:00\", \"2019-01-31T00:00:00\", \"2019-02-28T00:00:00\", \"2019-03-29T00:00:00\", \"2019-04-30T00:00:00\", \"2019-05-31T00:00:00\", \"2019-06-28T00:00:00\", \"2019-07-31T00:00:00\", \"2019-08-30T00:00:00\", \"2019-09-30T00:00:00\", \"2019-10-31T00:00:00\", \"2019-11-29T00:00:00\", \"2019-12-31T00:00:00\", \"2020-01-31T00:00:00\", \"2020-02-28T00:00:00\", \"2020-03-31T00:00:00\", \"2020-04-30T00:00:00\", \"2020-05-29T00:00:00\", \"2020-06-30T00:00:00\", \"2020-07-31T00:00:00\", \"2020-08-31T00:00:00\"], \"xaxis\": \"x\", \"y\": [0.4654271582386529, 0.3434748132650554, 0.32125487904369426, 0.09170462804932601, -0.04581234838581752, -0.22955628001565767, -0.2383706180748653, -0.22803585480388774, -0.29079923900268795, -0.31118858664756943, -0.2844067734333928, -0.23583558878757457, -0.13887259301106855, -0.2101725123260464, -0.14953855223456652, -0.1660639463333801, -0.12941459890665738, -0.11652067265031346, -0.14613184790826225, -0.20662184314149873, -0.17644325616091067, -0.06966218056416099, -0.04936652143604544, -0.0781810849491235, 0.023827119659559592, 0.06032639149079368, 0.06655662225278704, 0.08057041781275345, 0.12500427823740565, 0.1449734296579266, 0.03388505532201704, 0.13244245313838893, 0.15962468778253994, 0.1650491677801741, 0.18197340012782326, 0.21295348551542945, 0.23248952578670404, 0.2064685752473475, 0.17917192630192946, 0.15101045677669991, 0.1937662162832025, 0.21129472606433158, 0.1749898630354763, 0.17756056505478607, 0.27248728976446335, 0.22758881682748044, 0.09341720431428209, 0.13032877677239205, 0.09414499440141344, 0.13480126562058847, 0.13200827203176363, 0.17214344206731072, 0.18609279259138872, 0.1689639168912746, 0.16221446476682322, 0.19144273771532605, 0.18934981019980315, 0.15584152744255741, 0.15148885265403694, 0.16631537775200547, 0.07630558353373496, 0.059526365422260065, 0.027530430246059504, -0.004354771325729874, -0.0522028289418324, 0.007129491183570139, 0.08438863261952774, 0.005209753006120028, 0.029734186322426737, 0.04632711937090394, -0.01646521016420382, -0.0054401268690278315, -0.06193661204205349, -0.03613779198664185, -0.047207542390337, -0.006614297385367079, -0.026499706311951598, -0.0198031368394118, 0.005262565877395241, 0.01231530101363154, -0.05657815109155934, -0.00714134819063244, 0.1427256524336132, 0.11843035382378508, 0.2118128357281049, 0.16547495776889434, 0.1288659850649543, 0.15284580000817094, 0.11808202318719818, -0.0072039048801915626, 0.4139824165929537, 0.42096797237292577, 0.03820033838830464, -0.13058300269064055, -0.1585815574468711, -0.1728833337823913], \"yaxis\": \"y\"}, {\"hovertemplate\": \"variable=US Initial Jobless Claims SA<br>Date=%{x}<br>value=%{y}<extra></extra>\", \"legendgroup\": \"US Initial Jobless Claims SA\", \"line\": {\"color\": \"#ab63fa\", \"dash\": \"solid\"}, \"mode\": \"lines\", \"name\": \"US Initial Jobless Claims SA\", \"orientation\": \"v\", \"showlegend\": true, \"type\": \"scatter\", \"x\": [\"2012-09-28T00:00:00\", \"2012-10-31T00:00:00\", \"2012-11-30T00:00:00\", \"2012-12-31T00:00:00\", \"2013-01-31T00:00:00\", \"2013-02-28T00:00:00\", \"2013-03-29T00:00:00\", \"2013-04-30T00:00:00\", \"2013-05-31T00:00:00\", \"2013-06-28T00:00:00\", \"2013-07-31T00:00:00\", \"2013-08-30T00:00:00\", \"2013-09-30T00:00:00\", \"2013-10-31T00:00:00\", \"2013-11-29T00:00:00\", \"2013-12-31T00:00:00\", \"2014-01-31T00:00:00\", \"2014-02-28T00:00:00\", \"2014-03-31T00:00:00\", \"2014-04-30T00:00:00\", \"2014-05-30T00:00:00\", \"2014-06-30T00:00:00\", \"2014-07-31T00:00:00\", \"2014-08-29T00:00:00\", \"2014-09-30T00:00:00\", \"2014-10-31T00:00:00\", \"2014-11-28T00:00:00\", \"2014-12-31T00:00:00\", \"2015-01-30T00:00:00\", \"2015-02-27T00:00:00\", \"2015-03-31T00:00:00\", \"2015-04-30T00:00:00\", \"2015-05-29T00:00:00\", \"2015-06-30T00:00:00\", \"2015-07-31T00:00:00\", \"2015-08-31T00:00:00\", \"2015-09-30T00:00:00\", \"2015-10-30T00:00:00\", \"2015-11-30T00:00:00\", \"2015-12-31T00:00:00\", \"2016-01-29T00:00:00\", \"2016-02-29T00:00:00\", \"2016-03-31T00:00:00\", \"2016-04-29T00:00:00\", \"2016-05-31T00:00:00\", \"2016-06-30T00:00:00\", \"2016-07-29T00:00:00\", \"2016-08-31T00:00:00\", \"2016-09-30T00:00:00\", \"2016-10-31T00:00:00\", \"2016-11-30T00:00:00\", \"2016-12-30T00:00:00\", \"2017-01-31T00:00:00\", \"2017-02-28T00:00:00\", \"2017-03-31T00:00:00\", \"2017-04-28T00:00:00\", \"2017-05-31T00:00:00\", \"2017-06-30T00:00:00\", \"2017-07-31T00:00:00\", \"2017-08-31T00:00:00\", \"2017-09-29T00:00:00\", \"2017-10-31T00:00:00\", \"2017-11-30T00:00:00\", \"2017-12-29T00:00:00\", \"2018-01-31T00:00:00\", \"2018-02-28T00:00:00\", \"2018-03-30T00:00:00\", \"2018-04-30T00:00:00\", \"2018-05-31T00:00:00\", \"2018-06-29T00:00:00\", \"2018-07-31T00:00:00\", \"2018-08-31T00:00:00\", \"2018-09-28T00:00:00\", \"2018-10-31T00:00:00\", \"2018-11-30T00:00:00\", \"2018-12-31T00:00:00\", \"2019-01-31T00:00:00\", \"2019-02-28T00:00:00\", \"2019-03-29T00:00:00\", \"2019-04-30T00:00:00\", \"2019-05-31T00:00:00\", \"2019-06-28T00:00:00\", \"2019-07-31T00:00:00\", \"2019-08-30T00:00:00\", \"2019-09-30T00:00:00\", \"2019-10-31T00:00:00\", \"2019-11-29T00:00:00\", \"2019-12-31T00:00:00\", \"2020-01-31T00:00:00\", \"2020-02-28T00:00:00\", \"2020-03-31T00:00:00\", \"2020-04-30T00:00:00\", \"2020-05-29T00:00:00\", \"2020-06-30T00:00:00\", \"2020-07-31T00:00:00\", \"2020-08-31T00:00:00\"], \"xaxis\": \"x\", \"y\": [-0.6310490356035101, -0.5545017749387579, -0.5090342797957536, -0.4589752059835677, -0.30738619720987925, -0.13768829551359987, -0.004517590734660112, 0.19728328864451997, 0.2614479662334254, 0.3227126992551622, 0.3873250937734263, 0.343565238092203, 0.29199183856234606, 0.2278848837071941, 0.11609937274560446, 0.04542128895210754, -0.027605792907402307, 0.025662855365341828, 0.061364241185794824, 0.08758970425819071, -0.005494850970091438, -0.08976816432366753, -0.16598356958099356, -0.21942547519840933, -0.2772970360579745, -0.331073168829244, -0.33485119676461395, -0.3379216800217076, -0.33890707324654884, -0.38910013906271873, -0.4744915284585499, -0.5662981531763851, -0.5907459694252475, -0.6099629542139264, -0.6293557618662594, -0.6100755915077364, -0.5961707605682367, -0.5830830124166311, -0.49234488185541037, -0.42590877682910944, -0.3740039840349713, -0.2776194490270947, -0.18964563224456496, -0.127343640567668, -0.010512981554769747, 0.0989003263181605, 0.19075119373300795, 0.2428526767972576, 0.30157696242811977, 0.36500023948648386, 0.35585801928577604, 0.33533463632843946, 0.31603515724563064, 0.3158317067859823, 0.3463407526750302, 0.434957880473486, 0.4019603013919207, 0.3633151244916244, 0.3172976832295299, 0.22899937075569612, 0.1706220181175572, 0.1057725950059577, 0.01665958056100622, -0.050824064862157244, -0.14509977373664637, -0.4364271886013697, -0.5221496157563277, -0.6356506434731621, -0.7128253822273203, -0.7658410990656821, -0.8175807506419097, -0.8456112839791039, -0.861801386539109, -0.8800856986373313, -0.8785555432613181, -0.8818330571403047, -0.8896650052322915, -0.8749714560603107, -0.8387155407484173, -0.8267075396834925, -0.78084072346188, -0.7341755765591387, -0.6564248794269966, -0.579972703782766, -0.5278073175454572, -0.39796281749460527, -0.2952564160601034, -0.2631028800462967, -0.17303964379090037, -0.08765873868967464, -0.43090344055132457, -0.5326211763917715, -0.38955357297022986, -0.36411209621428925, -0.34720876114914717, -0.34481672762415205], \"yaxis\": \"y\"}],\n",
              "                        {\"legend\": {\"title\": {\"text\": \"variable\"}, \"tracegroupgap\": 0}, \"margin\": {\"t\": 60}, \"template\": {\"data\": {\"bar\": [{\"error_x\": {\"color\": \"#2a3f5f\"}, \"error_y\": {\"color\": \"#2a3f5f\"}, \"marker\": {\"line\": {\"color\": \"#E5ECF6\", \"width\": 0.5}}, \"type\": \"bar\"}], \"barpolar\": [{\"marker\": {\"line\": {\"color\": \"#E5ECF6\", \"width\": 0.5}}, \"type\": \"barpolar\"}], \"carpet\": [{\"aaxis\": {\"endlinecolor\": \"#2a3f5f\", \"gridcolor\": \"white\", \"linecolor\": \"white\", \"minorgridcolor\": \"white\", \"startlinecolor\": \"#2a3f5f\"}, \"baxis\": {\"endlinecolor\": \"#2a3f5f\", \"gridcolor\": \"white\", \"linecolor\": \"white\", \"minorgridcolor\": \"white\", \"startlinecolor\": \"#2a3f5f\"}, \"type\": \"carpet\"}], \"choropleth\": [{\"colorbar\": {\"outlinewidth\": 0, \"ticks\": \"\"}, \"type\": \"choropleth\"}], \"contour\": [{\"colorbar\": {\"outlinewidth\": 0, \"ticks\": \"\"}, \"colorscale\": [[0.0, \"#0d0887\"], [0.1111111111111111, \"#46039f\"], [0.2222222222222222, \"#7201a8\"], [0.3333333333333333, \"#9c179e\"], [0.4444444444444444, \"#bd3786\"], [0.5555555555555556, \"#d8576b\"], [0.6666666666666666, \"#ed7953\"], [0.7777777777777778, \"#fb9f3a\"], [0.8888888888888888, \"#fdca26\"], [1.0, \"#f0f921\"]], \"type\": \"contour\"}], \"contourcarpet\": [{\"colorbar\": {\"outlinewidth\": 0, \"ticks\": \"\"}, \"type\": \"contourcarpet\"}], \"heatmap\": [{\"colorbar\": {\"outlinewidth\": 0, \"ticks\": \"\"}, \"colorscale\": [[0.0, \"#0d0887\"], [0.1111111111111111, \"#46039f\"], [0.2222222222222222, \"#7201a8\"], [0.3333333333333333, \"#9c179e\"], [0.4444444444444444, \"#bd3786\"], [0.5555555555555556, \"#d8576b\"], [0.6666666666666666, \"#ed7953\"], [0.7777777777777778, \"#fb9f3a\"], [0.8888888888888888, \"#fdca26\"], [1.0, \"#f0f921\"]], \"type\": \"heatmap\"}], \"heatmapgl\": [{\"colorbar\": {\"outlinewidth\": 0, \"ticks\": \"\"}, \"colorscale\": [[0.0, \"#0d0887\"], [0.1111111111111111, \"#46039f\"], [0.2222222222222222, \"#7201a8\"], [0.3333333333333333, \"#9c179e\"], [0.4444444444444444, \"#bd3786\"], [0.5555555555555556, \"#d8576b\"], [0.6666666666666666, \"#ed7953\"], [0.7777777777777778, \"#fb9f3a\"], [0.8888888888888888, \"#fdca26\"], [1.0, \"#f0f921\"]], \"type\": \"heatmapgl\"}], \"histogram\": [{\"marker\": {\"colorbar\": {\"outlinewidth\": 0, \"ticks\": \"\"}}, \"type\": \"histogram\"}], \"histogram2d\": [{\"colorbar\": {\"outlinewidth\": 0, \"ticks\": \"\"}, \"colorscale\": [[0.0, \"#0d0887\"], [0.1111111111111111, \"#46039f\"], [0.2222222222222222, \"#7201a8\"], [0.3333333333333333, \"#9c179e\"], [0.4444444444444444, \"#bd3786\"], [0.5555555555555556, \"#d8576b\"], [0.6666666666666666, \"#ed7953\"], [0.7777777777777778, \"#fb9f3a\"], [0.8888888888888888, \"#fdca26\"], [1.0, \"#f0f921\"]], \"type\": \"histogram2d\"}], \"histogram2dcontour\": [{\"colorbar\": {\"outlinewidth\": 0, \"ticks\": \"\"}, \"colorscale\": [[0.0, \"#0d0887\"], [0.1111111111111111, \"#46039f\"], [0.2222222222222222, \"#7201a8\"], [0.3333333333333333, \"#9c179e\"], [0.4444444444444444, \"#bd3786\"], [0.5555555555555556, \"#d8576b\"], [0.6666666666666666, \"#ed7953\"], [0.7777777777777778, \"#fb9f3a\"], [0.8888888888888888, \"#fdca26\"], [1.0, \"#f0f921\"]], \"type\": \"histogram2dcontour\"}], \"mesh3d\": [{\"colorbar\": {\"outlinewidth\": 0, \"ticks\": \"\"}, \"type\": \"mesh3d\"}], \"parcoords\": [{\"line\": {\"colorbar\": {\"outlinewidth\": 0, \"ticks\": \"\"}}, \"type\": \"parcoords\"}], \"pie\": [{\"automargin\": true, \"type\": \"pie\"}], \"scatter\": [{\"marker\": {\"colorbar\": {\"outlinewidth\": 0, \"ticks\": \"\"}}, \"type\": \"scatter\"}], \"scatter3d\": [{\"line\": {\"colorbar\": {\"outlinewidth\": 0, \"ticks\": \"\"}}, \"marker\": {\"colorbar\": {\"outlinewidth\": 0, \"ticks\": \"\"}}, \"type\": \"scatter3d\"}], \"scattercarpet\": [{\"marker\": {\"colorbar\": {\"outlinewidth\": 0, \"ticks\": \"\"}}, \"type\": \"scattercarpet\"}], \"scattergeo\": [{\"marker\": {\"colorbar\": {\"outlinewidth\": 0, \"ticks\": \"\"}}, \"type\": \"scattergeo\"}], \"scattergl\": [{\"marker\": {\"colorbar\": {\"outlinewidth\": 0, \"ticks\": \"\"}}, \"type\": \"scattergl\"}], \"scattermapbox\": [{\"marker\": {\"colorbar\": {\"outlinewidth\": 0, \"ticks\": \"\"}}, \"type\": \"scattermapbox\"}], \"scatterpolar\": [{\"marker\": {\"colorbar\": {\"outlinewidth\": 0, \"ticks\": \"\"}}, \"type\": \"scatterpolar\"}], \"scatterpolargl\": [{\"marker\": {\"colorbar\": {\"outlinewidth\": 0, \"ticks\": \"\"}}, \"type\": \"scatterpolargl\"}], \"scatterternary\": [{\"marker\": {\"colorbar\": {\"outlinewidth\": 0, \"ticks\": \"\"}}, \"type\": \"scatterternary\"}], \"surface\": [{\"colorbar\": {\"outlinewidth\": 0, \"ticks\": \"\"}, \"colorscale\": [[0.0, \"#0d0887\"], [0.1111111111111111, \"#46039f\"], [0.2222222222222222, \"#7201a8\"], [0.3333333333333333, \"#9c179e\"], [0.4444444444444444, \"#bd3786\"], [0.5555555555555556, \"#d8576b\"], [0.6666666666666666, \"#ed7953\"], [0.7777777777777778, \"#fb9f3a\"], [0.8888888888888888, \"#fdca26\"], [1.0, \"#f0f921\"]], \"type\": \"surface\"}], \"table\": [{\"cells\": {\"fill\": {\"color\": \"#EBF0F8\"}, \"line\": {\"color\": \"white\"}}, \"header\": {\"fill\": {\"color\": \"#C8D4E3\"}, \"line\": {\"color\": \"white\"}}, \"type\": \"table\"}]}, \"layout\": {\"annotationdefaults\": {\"arrowcolor\": \"#2a3f5f\", \"arrowhead\": 0, \"arrowwidth\": 1}, \"coloraxis\": {\"colorbar\": {\"outlinewidth\": 0, \"ticks\": \"\"}}, \"colorscale\": {\"diverging\": [[0, \"#8e0152\"], [0.1, \"#c51b7d\"], [0.2, \"#de77ae\"], [0.3, \"#f1b6da\"], [0.4, \"#fde0ef\"], [0.5, \"#f7f7f7\"], [0.6, \"#e6f5d0\"], [0.7, \"#b8e186\"], [0.8, \"#7fbc41\"], [0.9, \"#4d9221\"], [1, \"#276419\"]], \"sequential\": [[0.0, \"#0d0887\"], [0.1111111111111111, \"#46039f\"], [0.2222222222222222, \"#7201a8\"], [0.3333333333333333, \"#9c179e\"], [0.4444444444444444, \"#bd3786\"], [0.5555555555555556, \"#d8576b\"], [0.6666666666666666, \"#ed7953\"], [0.7777777777777778, \"#fb9f3a\"], [0.8888888888888888, \"#fdca26\"], [1.0, \"#f0f921\"]], \"sequentialminus\": [[0.0, \"#0d0887\"], [0.1111111111111111, \"#46039f\"], [0.2222222222222222, \"#7201a8\"], [0.3333333333333333, \"#9c179e\"], [0.4444444444444444, \"#bd3786\"], [0.5555555555555556, \"#d8576b\"], [0.6666666666666666, \"#ed7953\"], [0.7777777777777778, \"#fb9f3a\"], [0.8888888888888888, \"#fdca26\"], [1.0, \"#f0f921\"]]}, \"colorway\": [\"#636efa\", \"#EF553B\", \"#00cc96\", \"#ab63fa\", \"#FFA15A\", \"#19d3f3\", \"#FF6692\", \"#B6E880\", \"#FF97FF\", \"#FECB52\"], \"font\": {\"color\": \"#2a3f5f\"}, \"geo\": {\"bgcolor\": \"white\", \"lakecolor\": \"white\", \"landcolor\": \"#E5ECF6\", \"showlakes\": true, \"showland\": true, \"subunitcolor\": \"white\"}, \"hoverlabel\": {\"align\": \"left\"}, \"hovermode\": \"closest\", \"mapbox\": {\"style\": \"light\"}, \"paper_bgcolor\": \"white\", \"plot_bgcolor\": \"#E5ECF6\", \"polar\": {\"angularaxis\": {\"gridcolor\": \"white\", \"linecolor\": \"white\", \"ticks\": \"\"}, \"bgcolor\": \"#E5ECF6\", \"radialaxis\": {\"gridcolor\": \"white\", \"linecolor\": \"white\", \"ticks\": \"\"}}, \"scene\": {\"xaxis\": {\"backgroundcolor\": \"#E5ECF6\", \"gridcolor\": \"white\", \"gridwidth\": 2, \"linecolor\": \"white\", \"showbackground\": true, \"ticks\": \"\", \"zerolinecolor\": \"white\"}, \"yaxis\": {\"backgroundcolor\": \"#E5ECF6\", \"gridcolor\": \"white\", \"gridwidth\": 2, \"linecolor\": \"white\", \"showbackground\": true, \"ticks\": \"\", \"zerolinecolor\": \"white\"}, \"zaxis\": {\"backgroundcolor\": \"#E5ECF6\", \"gridcolor\": \"white\", \"gridwidth\": 2, \"linecolor\": \"white\", \"showbackground\": true, \"ticks\": \"\", \"zerolinecolor\": \"white\"}}, \"shapedefaults\": {\"line\": {\"color\": \"#2a3f5f\"}}, \"ternary\": {\"aaxis\": {\"gridcolor\": \"white\", \"linecolor\": \"white\", \"ticks\": \"\"}, \"baxis\": {\"gridcolor\": \"white\", \"linecolor\": \"white\", \"ticks\": \"\"}, \"bgcolor\": \"#E5ECF6\", \"caxis\": {\"gridcolor\": \"white\", \"linecolor\": \"white\", \"ticks\": \"\"}}, \"title\": {\"x\": 0.05}, \"xaxis\": {\"automargin\": true, \"gridcolor\": \"white\", \"linecolor\": \"white\", \"ticks\": \"\", \"title\": {\"standoff\": 15}, \"zerolinecolor\": \"white\", \"zerolinewidth\": 2}, \"yaxis\": {\"automargin\": true, \"gridcolor\": \"white\", \"linecolor\": \"white\", \"ticks\": \"\", \"title\": {\"standoff\": 15}, \"zerolinecolor\": \"white\", \"zerolinewidth\": 2}}}, \"xaxis\": {\"anchor\": \"y\", \"domain\": [0.0, 1.0], \"title\": {\"text\": \"Date\"}}, \"yaxis\": {\"anchor\": \"x\", \"domain\": [0.0, 1.0], \"title\": {\"text\": \"Correlation\"}}},\n",
              "                        {\"responsive\": true}\n",
              "                    ).then(function(){\n",
              "                            \n",
              "var gd = document.getElementById('32225ca4-ffe7-47c3-9653-f7132269c0bc');\n",
              "var x = new MutationObserver(function (mutations, observer) {{\n",
              "        var display = window.getComputedStyle(gd).display;\n",
              "        if (!display || display === 'none') {{\n",
              "            console.log([gd, 'removed!']);\n",
              "            Plotly.purge(gd);\n",
              "            observer.disconnect();\n",
              "        }}\n",
              "}});\n",
              "\n",
              "// Listen for the removal of the full notebook cells\n",
              "var notebookContainer = gd.closest('#notebook-container');\n",
              "if (notebookContainer) {{\n",
              "    x.observe(notebookContainer, {childList: true});\n",
              "}}\n",
              "\n",
              "// Listen for the clearing of the current output cell\n",
              "var outputEl = gd.closest('.output');\n",
              "if (outputEl) {{\n",
              "    x.observe(outputEl, {childList: true});\n",
              "}}\n",
              "\n",
              "                        })\n",
              "                };\n",
              "                \n",
              "            </script>\n",
              "        </div>\n",
              "</body>\n",
              "</html>"
            ]
          },
          "metadata": {
            "tags": []
          }
        }
      ]
    },
    {
      "cell_type": "markdown",
      "metadata": {
        "id": "eIK9xj5cUNpn"
      },
      "source": [
        "# **Model**\n"
      ]
    },
    {
      "cell_type": "code",
      "metadata": {
        "id": "vxlwZHbb5ixr"
      },
      "source": [
        "def run_model(var_):\n",
        "  X = df_[var_]\n",
        "  Y = df_[[dep_var]]\n",
        "  X = sm.add_constant(X) # adding a constant\n",
        "\n",
        "  mod = sm.OLS(Y,X)\n",
        "  res = mod.fit()\n",
        "  return res.rsquared, res.rsquared_adj, res.pvalues[var_[-1]]\n",
        "\n"
      ],
      "execution_count": null,
      "outputs": []
    },
    {
      "cell_type": "code",
      "metadata": {
        "id": "IPQyU9NhGpHY"
      },
      "source": [
        "dep_var = \"US Nominal GDP\"\t\n",
        "vars = list(df.columns)\n",
        "vars.remove(dep_var)"
      ],
      "execution_count": null,
      "outputs": []
    },
    {
      "cell_type": "code",
      "metadata": {
        "id": "fvKODCK8I5P3",
        "colab": {
          "base_uri": "https://localhost:8080/",
          "height": 408
        },
        "outputId": "028e52eb-6904-4241-ba8d-2775e5709a96"
      },
      "source": [
        "#@title Scaling Variables for Model\n",
        "\n",
        "df = (df - df.min())/(df.min() - df.max())\n",
        "df = df.dropna()\n",
        "df.tail()"
      ],
      "execution_count": null,
      "outputs": [
        {
          "output_type": "execute_result",
          "data": {
            "text/html": [
              "<div>\n",
              "<style scoped>\n",
              "    .dataframe tbody tr th:only-of-type {\n",
              "        vertical-align: middle;\n",
              "    }\n",
              "\n",
              "    .dataframe tbody tr th {\n",
              "        vertical-align: top;\n",
              "    }\n",
              "\n",
              "    .dataframe thead th {\n",
              "        text-align: right;\n",
              "    }\n",
              "</style>\n",
              "<table border=\"1\" class=\"dataframe\">\n",
              "  <thead>\n",
              "    <tr style=\"text-align: right;\">\n",
              "      <th></th>\n",
              "      <th>US Nominal GDP</th>\n",
              "      <th>US Real GDP</th>\n",
              "      <th>Composite Index of Leading Indicators</th>\n",
              "      <th>Conference Board US Leading</th>\n",
              "      <th>PMI Output</th>\n",
              "      <th>PMI New Orders</th>\n",
              "      <th>US Manufacturing PMI stocks</th>\n",
              "      <th>US Service PMI Business activity</th>\n",
              "      <th>US Composite PMI</th>\n",
              "      <th>disposable income as % of saving</th>\n",
              "      <th>US Retail Sales</th>\n",
              "      <th>average hourly earning</th>\n",
              "      <th>Consumer Price Index (CPI)</th>\n",
              "      <th>OECD Employment</th>\n",
              "      <th>US Unemployment Rate</th>\n",
              "      <th>US Employees on Nonfarm Payrolls</th>\n",
              "      <th>US Initial Jobless Claims SA</th>\n",
              "      <th>New Privately Owned Housing Units</th>\n",
              "      <th>US Real GDP Quantity Residenti</th>\n",
              "    </tr>\n",
              "    <tr>\n",
              "      <th>Date</th>\n",
              "      <th></th>\n",
              "      <th></th>\n",
              "      <th></th>\n",
              "      <th></th>\n",
              "      <th></th>\n",
              "      <th></th>\n",
              "      <th></th>\n",
              "      <th></th>\n",
              "      <th></th>\n",
              "      <th></th>\n",
              "      <th></th>\n",
              "      <th></th>\n",
              "      <th></th>\n",
              "      <th></th>\n",
              "      <th></th>\n",
              "      <th></th>\n",
              "      <th></th>\n",
              "      <th></th>\n",
              "      <th></th>\n",
              "    </tr>\n",
              "  </thead>\n",
              "  <tbody>\n",
              "    <tr>\n",
              "      <th>2020-04-30</th>\n",
              "      <td>-0.726027</td>\n",
              "      <td>-0.847458</td>\n",
              "      <td>-0.000000</td>\n",
              "      <td>-0.000000</td>\n",
              "      <td>-0.000000</td>\n",
              "      <td>-0.000000</td>\n",
              "      <td>-0.110390</td>\n",
              "      <td>-0.000000</td>\n",
              "      <td>-0.000000</td>\n",
              "      <td>-1.000000</td>\n",
              "      <td>-0.000000</td>\n",
              "      <td>-1.000000</td>\n",
              "      <td>-1.000000</td>\n",
              "      <td>-1.0</td>\n",
              "      <td>-0.021119</td>\n",
              "      <td>-0.000000</td>\n",
              "      <td>-0.549955</td>\n",
              "      <td>-0.379091</td>\n",
              "      <td>-0.971636</td>\n",
              "    </tr>\n",
              "    <tr>\n",
              "      <th>2020-05-29</th>\n",
              "      <td>-0.000000</td>\n",
              "      <td>-0.847458</td>\n",
              "      <td>-0.184653</td>\n",
              "      <td>-0.120536</td>\n",
              "      <td>-0.170732</td>\n",
              "      <td>-0.197708</td>\n",
              "      <td>-0.000000</td>\n",
              "      <td>-0.314869</td>\n",
              "      <td>-0.294118</td>\n",
              "      <td>-0.681979</td>\n",
              "      <td>-0.508897</td>\n",
              "      <td>-0.772727</td>\n",
              "      <td>-0.728324</td>\n",
              "      <td>-1.0</td>\n",
              "      <td>-0.021119</td>\n",
              "      <td>-0.921136</td>\n",
              "      <td>-0.254425</td>\n",
              "      <td>-0.473636</td>\n",
              "      <td>-0.971636</td>\n",
              "    </tr>\n",
              "    <tr>\n",
              "      <th>2020-06-30</th>\n",
              "      <td>-0.000000</td>\n",
              "      <td>-0.847458</td>\n",
              "      <td>-0.381341</td>\n",
              "      <td>-0.245536</td>\n",
              "      <td>-0.570122</td>\n",
              "      <td>-0.638968</td>\n",
              "      <td>-0.538961</td>\n",
              "      <td>-0.618076</td>\n",
              "      <td>-0.614706</td>\n",
              "      <td>-0.480565</td>\n",
              "      <td>-0.786477</td>\n",
              "      <td>-0.515152</td>\n",
              "      <td>-0.647399</td>\n",
              "      <td>-1.0</td>\n",
              "      <td>-1.000000</td>\n",
              "      <td>-1.000000</td>\n",
              "      <td>-0.181068</td>\n",
              "      <td>-0.680000</td>\n",
              "      <td>-0.732011</td>\n",
              "    </tr>\n",
              "    <tr>\n",
              "      <th>2020-07-31</th>\n",
              "      <td>-0.000000</td>\n",
              "      <td>-0.847458</td>\n",
              "      <td>-0.547267</td>\n",
              "      <td>-0.312500</td>\n",
              "      <td>-0.698171</td>\n",
              "      <td>-0.676218</td>\n",
              "      <td>-0.675325</td>\n",
              "      <td>-0.679300</td>\n",
              "      <td>-0.685294</td>\n",
              "      <td>-0.459364</td>\n",
              "      <td>-0.804270</td>\n",
              "      <td>-0.469697</td>\n",
              "      <td>-0.687861</td>\n",
              "      <td>-1.0</td>\n",
              "      <td>-1.000000</td>\n",
              "      <td>-0.877767</td>\n",
              "      <td>-0.148515</td>\n",
              "      <td>-0.881818</td>\n",
              "      <td>-0.732011</td>\n",
              "    </tr>\n",
              "    <tr>\n",
              "      <th>2020-08-31</th>\n",
              "      <td>-0.465753</td>\n",
              "      <td>-0.847458</td>\n",
              "      <td>-0.604662</td>\n",
              "      <td>-0.375000</td>\n",
              "      <td>-0.728659</td>\n",
              "      <td>-0.756447</td>\n",
              "      <td>-0.837662</td>\n",
              "      <td>-0.825073</td>\n",
              "      <td>-0.811765</td>\n",
              "      <td>-0.325088</td>\n",
              "      <td>-0.836299</td>\n",
              "      <td>-0.469697</td>\n",
              "      <td>-0.485549</td>\n",
              "      <td>-1.0</td>\n",
              "      <td>-1.000000</td>\n",
              "      <td>-0.872165</td>\n",
              "      <td>-0.102460</td>\n",
              "      <td>-0.778182</td>\n",
              "      <td>-0.732011</td>\n",
              "    </tr>\n",
              "  </tbody>\n",
              "</table>\n",
              "</div>"
            ],
            "text/plain": [
              "            US Nominal GDP  ...  US Real GDP Quantity Residenti\n",
              "Date                        ...                                \n",
              "2020-04-30       -0.726027  ...                       -0.971636\n",
              "2020-05-29       -0.000000  ...                       -0.971636\n",
              "2020-06-30       -0.000000  ...                       -0.732011\n",
              "2020-07-31       -0.000000  ...                       -0.732011\n",
              "2020-08-31       -0.465753  ...                       -0.732011\n",
              "\n",
              "[5 rows x 19 columns]"
            ]
          },
          "metadata": {
            "tags": []
          },
          "execution_count": 17
        }
      ]
    },
    {
      "cell_type": "code",
      "metadata": {
        "id": "BRWZ-NYVlKU_",
        "colab": {
          "base_uri": "https://localhost:8080/"
        },
        "outputId": "a4ae0b6d-7483-4487-b324-20ad89de680f"
      },
      "source": [
        "#@title Searching Best GDP Model\n",
        "\n",
        "# raise when error when found best GDP Model\n",
        "required_var = []\n",
        "adjusted_rsquares = []\n",
        "temp_rsquares = pd.DataFrame(data={\"rsquared_adj\":[],\"rsquared\":[], \"name\":[], \"p_values\":[] })\n",
        "result_df = pd.DataFrame(data={\"rsquared_adj\":[],\"rsquared\":[], \"num_vars\" :[]})\n",
        "df_ = df.loc[model_training_start_date:model_training_end_date]\n",
        "while vars != []:\n",
        "  for var in vars:\n",
        "    rsquared, rsquared_adj, pvalues = run_model(required_var + [var])\n",
        "    temp_rsquares_ = pd.DataFrame(data={\"rsquared_adj\":[rsquared_adj],\"rsquared\":[rsquared], \"name\":[var], \"p_values\":[pvalues] })\n",
        "    temp_rsquares = pd.concat([temp_rsquares, temp_rsquares_])\n",
        "  try:\n",
        "    temp_rsquares = temp_rsquares[abs(temp_rsquares[\"p_values\"]) < 0.05]\n",
        "    new_var = temp_rsquares[temp_rsquares[\"rsquared\"] == max(temp_rsquares[\"rsquared\"])][\"name\"].iloc[0]\n",
        "    required_var.append(new_var)\n",
        "    vars.remove(new_var)\n",
        "    temp_rsquares_ = temp_rsquares_.drop(columns=[\"name\"])\n",
        "    temp_rsquares_[\"num_vars\"] = len(required_var)\n",
        "    result_df = pd.concat([result_df, temp_rsquares_])\n",
        "    temp_rsquares = pd.DataFrame(data={\"rsquared_adj\":[],\"rsquared\":[], \"name\":[] , \"p_values\":[]})\n",
        "  except:\n",
        "    print(\"Best Model Found\")\n",
        "    vars = []"
      ],
      "execution_count": null,
      "outputs": [
        {
          "output_type": "stream",
          "text": [
            "Best Model Found\n"
          ],
          "name": "stdout"
        }
      ]
    },
    {
      "cell_type": "code",
      "metadata": {
        "colab": {
          "base_uri": "https://localhost:8080/",
          "height": 542
        },
        "id": "GLMBENcLFJ-W",
        "outputId": "0e7ff049-e02e-49d6-b68d-893f80c92dfd"
      },
      "source": [
        "fig = result_df.plot(x =\"num_vars\", y =\"rsquared_adj\", backend=\"plotly\")\n",
        "fig.update_yaxes(title_text='Model fit Adjusted for Number of Variables')\n",
        "fig.update_xaxes(title_text='Number of Variables')\n",
        "\n",
        "fig.show()"
      ],
      "execution_count": null,
      "outputs": [
        {
          "output_type": "display_data",
          "data": {
            "text/html": [
              "<html>\n",
              "<head><meta charset=\"utf-8\" /></head>\n",
              "<body>\n",
              "    <div>\n",
              "            <script src=\"https://cdnjs.cloudflare.com/ajax/libs/mathjax/2.7.5/MathJax.js?config=TeX-AMS-MML_SVG\"></script><script type=\"text/javascript\">if (window.MathJax) {MathJax.Hub.Config({SVG: {font: \"STIX-Web\"}});}</script>\n",
              "                <script type=\"text/javascript\">window.PlotlyConfig = {MathJaxConfig: 'local'};</script>\n",
              "        <script src=\"https://cdn.plot.ly/plotly-latest.min.js\"></script>    \n",
              "            <div id=\"b511e39c-7f3a-4c80-94cd-1484340dccb6\" class=\"plotly-graph-div\" style=\"height:525px; width:100%;\"></div>\n",
              "            <script type=\"text/javascript\">\n",
              "                \n",
              "                    window.PLOTLYENV=window.PLOTLYENV || {};\n",
              "                    \n",
              "                if (document.getElementById(\"b511e39c-7f3a-4c80-94cd-1484340dccb6\")) {\n",
              "                    Plotly.newPlot(\n",
              "                        'b511e39c-7f3a-4c80-94cd-1484340dccb6',\n",
              "                        [{\"hovertemplate\": \"num_vars=%{x}<br>rsquared_adj=%{y}<extra></extra>\", \"legendgroup\": \"\", \"line\": {\"color\": \"#636efa\", \"dash\": \"solid\"}, \"mode\": \"lines\", \"name\": \"\", \"orientation\": \"v\", \"showlegend\": false, \"type\": \"scatter\", \"x\": [1.0, 2.0, 3.0, 4.0, 5.0, 6.0, 7.0, 8.0], \"xaxis\": \"x\", \"y\": [-0.012800442561599512, 0.6236109491555482, 0.8213553680859378, 0.9159486436525689, 0.9323725412716972, 0.9459523734479501, 0.9565567731094531, 0.9613148997439288], \"yaxis\": \"y\"}],\n",
              "                        {\"legend\": {\"tracegroupgap\": 0}, \"margin\": {\"t\": 60}, \"template\": {\"data\": {\"bar\": [{\"error_x\": {\"color\": \"#2a3f5f\"}, \"error_y\": {\"color\": \"#2a3f5f\"}, \"marker\": {\"line\": {\"color\": \"#E5ECF6\", \"width\": 0.5}}, \"type\": \"bar\"}], \"barpolar\": [{\"marker\": {\"line\": {\"color\": \"#E5ECF6\", \"width\": 0.5}}, \"type\": \"barpolar\"}], \"carpet\": [{\"aaxis\": {\"endlinecolor\": \"#2a3f5f\", \"gridcolor\": \"white\", \"linecolor\": \"white\", \"minorgridcolor\": \"white\", \"startlinecolor\": \"#2a3f5f\"}, \"baxis\": {\"endlinecolor\": \"#2a3f5f\", \"gridcolor\": \"white\", \"linecolor\": \"white\", \"minorgridcolor\": \"white\", \"startlinecolor\": \"#2a3f5f\"}, \"type\": \"carpet\"}], \"choropleth\": [{\"colorbar\": {\"outlinewidth\": 0, \"ticks\": \"\"}, \"type\": \"choropleth\"}], \"contour\": [{\"colorbar\": {\"outlinewidth\": 0, \"ticks\": \"\"}, \"colorscale\": [[0.0, \"#0d0887\"], [0.1111111111111111, \"#46039f\"], [0.2222222222222222, \"#7201a8\"], [0.3333333333333333, \"#9c179e\"], [0.4444444444444444, \"#bd3786\"], [0.5555555555555556, \"#d8576b\"], [0.6666666666666666, \"#ed7953\"], [0.7777777777777778, \"#fb9f3a\"], [0.8888888888888888, \"#fdca26\"], [1.0, \"#f0f921\"]], \"type\": \"contour\"}], \"contourcarpet\": [{\"colorbar\": {\"outlinewidth\": 0, \"ticks\": \"\"}, \"type\": \"contourcarpet\"}], \"heatmap\": [{\"colorbar\": {\"outlinewidth\": 0, \"ticks\": \"\"}, \"colorscale\": [[0.0, \"#0d0887\"], [0.1111111111111111, \"#46039f\"], [0.2222222222222222, \"#7201a8\"], [0.3333333333333333, \"#9c179e\"], [0.4444444444444444, \"#bd3786\"], [0.5555555555555556, \"#d8576b\"], [0.6666666666666666, \"#ed7953\"], [0.7777777777777778, \"#fb9f3a\"], [0.8888888888888888, \"#fdca26\"], [1.0, \"#f0f921\"]], \"type\": \"heatmap\"}], \"heatmapgl\": [{\"colorbar\": {\"outlinewidth\": 0, \"ticks\": \"\"}, \"colorscale\": [[0.0, \"#0d0887\"], [0.1111111111111111, \"#46039f\"], [0.2222222222222222, \"#7201a8\"], [0.3333333333333333, \"#9c179e\"], [0.4444444444444444, \"#bd3786\"], [0.5555555555555556, \"#d8576b\"], [0.6666666666666666, \"#ed7953\"], [0.7777777777777778, \"#fb9f3a\"], [0.8888888888888888, \"#fdca26\"], [1.0, \"#f0f921\"]], \"type\": \"heatmapgl\"}], \"histogram\": [{\"marker\": {\"colorbar\": {\"outlinewidth\": 0, \"ticks\": \"\"}}, \"type\": \"histogram\"}], \"histogram2d\": [{\"colorbar\": {\"outlinewidth\": 0, \"ticks\": \"\"}, \"colorscale\": [[0.0, \"#0d0887\"], [0.1111111111111111, \"#46039f\"], [0.2222222222222222, \"#7201a8\"], [0.3333333333333333, \"#9c179e\"], [0.4444444444444444, \"#bd3786\"], [0.5555555555555556, \"#d8576b\"], [0.6666666666666666, \"#ed7953\"], [0.7777777777777778, \"#fb9f3a\"], [0.8888888888888888, \"#fdca26\"], [1.0, \"#f0f921\"]], \"type\": \"histogram2d\"}], \"histogram2dcontour\": [{\"colorbar\": {\"outlinewidth\": 0, \"ticks\": \"\"}, \"colorscale\": [[0.0, \"#0d0887\"], [0.1111111111111111, \"#46039f\"], [0.2222222222222222, \"#7201a8\"], [0.3333333333333333, \"#9c179e\"], [0.4444444444444444, \"#bd3786\"], [0.5555555555555556, \"#d8576b\"], [0.6666666666666666, \"#ed7953\"], [0.7777777777777778, \"#fb9f3a\"], [0.8888888888888888, \"#fdca26\"], [1.0, \"#f0f921\"]], \"type\": \"histogram2dcontour\"}], \"mesh3d\": [{\"colorbar\": {\"outlinewidth\": 0, \"ticks\": \"\"}, \"type\": \"mesh3d\"}], \"parcoords\": [{\"line\": {\"colorbar\": {\"outlinewidth\": 0, \"ticks\": \"\"}}, \"type\": \"parcoords\"}], \"pie\": [{\"automargin\": true, \"type\": \"pie\"}], \"scatter\": [{\"marker\": {\"colorbar\": {\"outlinewidth\": 0, \"ticks\": \"\"}}, \"type\": \"scatter\"}], \"scatter3d\": [{\"line\": {\"colorbar\": {\"outlinewidth\": 0, \"ticks\": \"\"}}, \"marker\": {\"colorbar\": {\"outlinewidth\": 0, \"ticks\": \"\"}}, \"type\": \"scatter3d\"}], \"scattercarpet\": [{\"marker\": {\"colorbar\": {\"outlinewidth\": 0, \"ticks\": \"\"}}, \"type\": \"scattercarpet\"}], \"scattergeo\": [{\"marker\": {\"colorbar\": {\"outlinewidth\": 0, \"ticks\": \"\"}}, \"type\": \"scattergeo\"}], \"scattergl\": [{\"marker\": {\"colorbar\": {\"outlinewidth\": 0, \"ticks\": \"\"}}, \"type\": \"scattergl\"}], \"scattermapbox\": [{\"marker\": {\"colorbar\": {\"outlinewidth\": 0, \"ticks\": \"\"}}, \"type\": \"scattermapbox\"}], \"scatterpolar\": [{\"marker\": {\"colorbar\": {\"outlinewidth\": 0, \"ticks\": \"\"}}, \"type\": \"scatterpolar\"}], \"scatterpolargl\": [{\"marker\": {\"colorbar\": {\"outlinewidth\": 0, \"ticks\": \"\"}}, \"type\": \"scatterpolargl\"}], \"scatterternary\": [{\"marker\": {\"colorbar\": {\"outlinewidth\": 0, \"ticks\": \"\"}}, \"type\": \"scatterternary\"}], \"surface\": [{\"colorbar\": {\"outlinewidth\": 0, \"ticks\": \"\"}, \"colorscale\": [[0.0, \"#0d0887\"], [0.1111111111111111, \"#46039f\"], [0.2222222222222222, \"#7201a8\"], [0.3333333333333333, \"#9c179e\"], [0.4444444444444444, \"#bd3786\"], [0.5555555555555556, \"#d8576b\"], [0.6666666666666666, \"#ed7953\"], [0.7777777777777778, \"#fb9f3a\"], [0.8888888888888888, \"#fdca26\"], [1.0, \"#f0f921\"]], \"type\": \"surface\"}], \"table\": [{\"cells\": {\"fill\": {\"color\": \"#EBF0F8\"}, \"line\": {\"color\": \"white\"}}, \"header\": {\"fill\": {\"color\": \"#C8D4E3\"}, \"line\": {\"color\": \"white\"}}, \"type\": \"table\"}]}, \"layout\": {\"annotationdefaults\": {\"arrowcolor\": \"#2a3f5f\", \"arrowhead\": 0, \"arrowwidth\": 1}, \"coloraxis\": {\"colorbar\": {\"outlinewidth\": 0, \"ticks\": \"\"}}, \"colorscale\": {\"diverging\": [[0, \"#8e0152\"], [0.1, \"#c51b7d\"], [0.2, \"#de77ae\"], [0.3, \"#f1b6da\"], [0.4, \"#fde0ef\"], [0.5, \"#f7f7f7\"], [0.6, \"#e6f5d0\"], [0.7, \"#b8e186\"], [0.8, \"#7fbc41\"], [0.9, \"#4d9221\"], [1, \"#276419\"]], \"sequential\": [[0.0, \"#0d0887\"], [0.1111111111111111, \"#46039f\"], [0.2222222222222222, \"#7201a8\"], [0.3333333333333333, \"#9c179e\"], [0.4444444444444444, \"#bd3786\"], [0.5555555555555556, \"#d8576b\"], [0.6666666666666666, \"#ed7953\"], [0.7777777777777778, \"#fb9f3a\"], [0.8888888888888888, \"#fdca26\"], [1.0, \"#f0f921\"]], \"sequentialminus\": [[0.0, \"#0d0887\"], [0.1111111111111111, \"#46039f\"], [0.2222222222222222, \"#7201a8\"], [0.3333333333333333, \"#9c179e\"], [0.4444444444444444, \"#bd3786\"], [0.5555555555555556, \"#d8576b\"], [0.6666666666666666, \"#ed7953\"], [0.7777777777777778, \"#fb9f3a\"], [0.8888888888888888, \"#fdca26\"], [1.0, \"#f0f921\"]]}, \"colorway\": [\"#636efa\", \"#EF553B\", \"#00cc96\", \"#ab63fa\", \"#FFA15A\", \"#19d3f3\", \"#FF6692\", \"#B6E880\", \"#FF97FF\", \"#FECB52\"], \"font\": {\"color\": \"#2a3f5f\"}, \"geo\": {\"bgcolor\": \"white\", \"lakecolor\": \"white\", \"landcolor\": \"#E5ECF6\", \"showlakes\": true, \"showland\": true, \"subunitcolor\": \"white\"}, \"hoverlabel\": {\"align\": \"left\"}, \"hovermode\": \"closest\", \"mapbox\": {\"style\": \"light\"}, \"paper_bgcolor\": \"white\", \"plot_bgcolor\": \"#E5ECF6\", \"polar\": {\"angularaxis\": {\"gridcolor\": \"white\", \"linecolor\": \"white\", \"ticks\": \"\"}, \"bgcolor\": \"#E5ECF6\", \"radialaxis\": {\"gridcolor\": \"white\", \"linecolor\": \"white\", \"ticks\": \"\"}}, \"scene\": {\"xaxis\": {\"backgroundcolor\": \"#E5ECF6\", \"gridcolor\": \"white\", \"gridwidth\": 2, \"linecolor\": \"white\", \"showbackground\": true, \"ticks\": \"\", \"zerolinecolor\": \"white\"}, \"yaxis\": {\"backgroundcolor\": \"#E5ECF6\", \"gridcolor\": \"white\", \"gridwidth\": 2, \"linecolor\": \"white\", \"showbackground\": true, \"ticks\": \"\", \"zerolinecolor\": \"white\"}, \"zaxis\": {\"backgroundcolor\": \"#E5ECF6\", \"gridcolor\": \"white\", \"gridwidth\": 2, \"linecolor\": \"white\", \"showbackground\": true, \"ticks\": \"\", \"zerolinecolor\": \"white\"}}, \"shapedefaults\": {\"line\": {\"color\": \"#2a3f5f\"}}, \"ternary\": {\"aaxis\": {\"gridcolor\": \"white\", \"linecolor\": \"white\", \"ticks\": \"\"}, \"baxis\": {\"gridcolor\": \"white\", \"linecolor\": \"white\", \"ticks\": \"\"}, \"bgcolor\": \"#E5ECF6\", \"caxis\": {\"gridcolor\": \"white\", \"linecolor\": \"white\", \"ticks\": \"\"}}, \"title\": {\"x\": 0.05}, \"xaxis\": {\"automargin\": true, \"gridcolor\": \"white\", \"linecolor\": \"white\", \"ticks\": \"\", \"title\": {\"standoff\": 15}, \"zerolinecolor\": \"white\", \"zerolinewidth\": 2}, \"yaxis\": {\"automargin\": true, \"gridcolor\": \"white\", \"linecolor\": \"white\", \"ticks\": \"\", \"title\": {\"standoff\": 15}, \"zerolinecolor\": \"white\", \"zerolinewidth\": 2}}}, \"xaxis\": {\"anchor\": \"y\", \"domain\": [0.0, 1.0], \"title\": {\"text\": \"Number of Variables\"}}, \"yaxis\": {\"anchor\": \"x\", \"domain\": [0.0, 1.0], \"title\": {\"text\": \"Model fit Adjusted for Number of Variables\"}}},\n",
              "                        {\"responsive\": true}\n",
              "                    ).then(function(){\n",
              "                            \n",
              "var gd = document.getElementById('b511e39c-7f3a-4c80-94cd-1484340dccb6');\n",
              "var x = new MutationObserver(function (mutations, observer) {{\n",
              "        var display = window.getComputedStyle(gd).display;\n",
              "        if (!display || display === 'none') {{\n",
              "            console.log([gd, 'removed!']);\n",
              "            Plotly.purge(gd);\n",
              "            observer.disconnect();\n",
              "        }}\n",
              "}});\n",
              "\n",
              "// Listen for the removal of the full notebook cells\n",
              "var notebookContainer = gd.closest('#notebook-container');\n",
              "if (notebookContainer) {{\n",
              "    x.observe(notebookContainer, {childList: true});\n",
              "}}\n",
              "\n",
              "// Listen for the clearing of the current output cell\n",
              "var outputEl = gd.closest('.output');\n",
              "if (outputEl) {{\n",
              "    x.observe(outputEl, {childList: true});\n",
              "}}\n",
              "\n",
              "                        })\n",
              "                };\n",
              "                \n",
              "            </script>\n",
              "        </div>\n",
              "</body>\n",
              "</html>"
            ]
          },
          "metadata": {
            "tags": []
          }
        }
      ]
    },
    {
      "cell_type": "code",
      "metadata": {
        "colab": {
          "base_uri": "https://localhost:8080/"
        },
        "id": "itOdcErTWdB9",
        "outputId": "04d0653e-f58e-4621-a390-c82d942fcb8b"
      },
      "source": [
        "#@title Best GDP Model Parameters\n",
        "\n",
        "X = df_[required_var]\n",
        "Y = df_[[dep_var]]\n",
        "X = sm.add_constant(X) # adding a constant\n",
        "\n",
        "mod = sm.OLS(Y,X)\n",
        "res = mod.fit()\n",
        "print(res.summary())"
      ],
      "execution_count": null,
      "outputs": [
        {
          "output_type": "stream",
          "text": [
            "                            OLS Regression Results                            \n",
            "==============================================================================\n",
            "Dep. Variable:         US Nominal GDP   R-squared:                       0.966\n",
            "Model:                            OLS   Adj. R-squared:                  0.961\n",
            "Method:                 Least Squares   F-statistic:                     209.1\n",
            "Date:                Fri, 19 Mar 2021   Prob (F-statistic):           2.38e-40\n",
            "Time:                        18:44:09   Log-Likelihood:                 129.76\n",
            "No. Observations:                  68   AIC:                            -241.5\n",
            "Df Residuals:                      59   BIC:                            -221.5\n",
            "Df Model:                           8                                         \n",
            "Covariance Type:            nonrobust                                         \n",
            "=========================================================================================================\n",
            "                                            coef    std err          t      P>|t|      [0.025      0.975]\n",
            "---------------------------------------------------------------------------------------------------------\n",
            "const                                    -1.3058      0.093    -14.032      0.000      -1.492      -1.120\n",
            "Conference Board US Leading               0.3031      0.158      1.915      0.060      -0.014       0.620\n",
            "US Employees on Nonfarm Payrolls         -1.0992      0.068    -16.185      0.000      -1.235      -0.963\n",
            "Consumer Price Index (CPI)               -0.4508      0.080     -5.638      0.000      -0.611      -0.291\n",
            "OECD Employment                           0.1965      0.039      4.998      0.000       0.118       0.275\n",
            "US Unemployment Rate                     -0.2124      0.041     -5.171      0.000      -0.295      -0.130\n",
            "Composite Index of Leading Indicators     0.7579      0.160      4.730      0.000       0.437       1.079\n",
            "US Real GDP Quantity Residenti           -0.2724      0.075     -3.645      0.001      -0.422      -0.123\n",
            "New Privately Owned Housing Units        -0.1739      0.060     -2.895      0.005      -0.294      -0.054\n",
            "==============================================================================\n",
            "Omnibus:                       31.551   Durbin-Watson:                   2.384\n",
            "Prob(Omnibus):                  0.000   Jarque-Bera (JB):              157.559\n",
            "Skew:                           1.097   Prob(JB):                     6.12e-35\n",
            "Kurtosis:                      10.127   Cond. No.                         107.\n",
            "==============================================================================\n",
            "\n",
            "Warnings:\n",
            "[1] Standard Errors assume that the covariance matrix of the errors is correctly specified.\n"
          ],
          "name": "stdout"
        }
      ]
    },
    {
      "cell_type": "code",
      "metadata": {
        "id": "mCxk6E9OeYfg",
        "colab": {
          "base_uri": "https://localhost:8080/"
        },
        "outputId": "b681a78b-6384-45f2-fe50-e4380ba2031f"
      },
      "source": [
        "#@title Best GDP Model Test - Mean Square Error \n",
        "\n",
        "# In sample test\n",
        "# Change training end date for out of sample test\n",
        "\n",
        "pred_x = df.loc[model_testing_start_date:model_testing_end_date][required_var]\n",
        "\n",
        "# Add a constant for training\n",
        "pred_x[\"const\"] = 1.0 \n",
        "cols = pred_x.columns.tolist()\n",
        "cols = [cols[-1]]+cols[:-1]\n",
        "pred_x = pred_x[cols]\n",
        "\n",
        "pred_y = res.predict(pred_x)\n",
        "actutal_y = df.loc[model_testing_start_date:model_testing_end_date][dep_var]\n",
        "print('Mean Squared Error: %.2f' % mean_squared_error(actutal_y, pred_y))"
      ],
      "execution_count": null,
      "outputs": [
        {
          "output_type": "stream",
          "text": [
            "Mean Squared Error: 0.01\n"
          ],
          "name": "stdout"
        }
      ]
    }
  ]
}